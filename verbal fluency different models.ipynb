{
 "cells": [
  {
   "cell_type": "code",
   "execution_count": 16,
   "metadata": {},
   "outputs": [],
   "source": [
    "import pandas as pd\n",
    "import numpy as np\n",
    "import gensim\n",
    "import json\n",
    "import math\n",
    "\n",
    "from gensim.models import Word2Vec"
   ]
  },
  {
   "cell_type": "code",
   "execution_count": 30,
   "metadata": {},
   "outputs": [],
   "source": [
    "p = pd.read_csv('../Downloads/verbal fluency.csv')"
   ]
  },
  {
   "cell_type": "code",
   "execution_count": 31,
   "metadata": {},
   "outputs": [],
   "source": [
    "animals = []\n",
    "for line in p['animals'].dropna():\n",
    "    if type(line) == type('foo'):\n",
    "        animals.append([x.strip() for x in line.split('; ') if x.strip()])"
   ]
  },
  {
   "cell_type": "code",
   "execution_count": 32,
   "metadata": {
    "scrolled": false
   },
   "outputs": [],
   "source": [
    "for i, patient_word_list in enumerate(animals):\n",
    "    for j, word in enumerate(patient_word_list):\n",
    "        if ' ' in word:\n",
    "            first, second = word.split()\n",
    "            first += '_ADJ'\n",
    "            second += '_NOUN'\n",
    "            animals[i][j] = first + ' ' + second\n",
    "        else:\n",
    "            animals[i][j] += '_NOUN'"
   ]
  },
  {
   "cell_type": "code",
   "execution_count": 24,
   "metadata": {},
   "outputs": [],
   "source": [
    "model_names = {'ruscorpora_upos_cbow_300_20_2019': '../Downloads/180/model.bin',\n",
    "              'ruscorpora_upos_skipgram_600_10_2017' : '../Downloads/ruscorpora_upos_skipgram_600_10_2017.bin',\n",
    "              'tayga_upos_skipgram_300_2_2019': '../Downloads/185/model.bin',\n",
    "              'ruwikiruscorpora_upos_skipgram_300_2_2019':'../Downloads/182/model.bin'}"
   ]
  },
  {
   "cell_type": "code",
   "execution_count": 9,
   "metadata": {},
   "outputs": [],
   "source": [
    "def cos_sim(v1, v2):\n",
    "    return np.inner(v1, v2)/(np.linalg.norm(v1)*np.linalg.norm(v2))"
   ]
  },
  {
   "cell_type": "code",
   "execution_count": 36,
   "metadata": {},
   "outputs": [],
   "source": [
    "def get_cos_sim_list(model):\n",
    "    '''\n",
    "    takes a model, takes animals list of lists with words from global environment\n",
    "    returns a tuple of list of list of pairwise cosine similarities\n",
    "        and a number of words missing from the model vocabulary\n",
    "        \n",
    "    cosine similarity for a word pair that has a collocation is calculated as\n",
    "    cosine similarity between a word vector and an average of word vectors from the collocation \n",
    "    '''\n",
    "    patient_animals_cos_sim = []\n",
    "    not_found = 0\n",
    "    for i, patient_word_list in enumerate(animals):\n",
    "        patient_animals_cos_sim.append([])\n",
    "        for j, word in enumerate(patient_word_list):\n",
    "            if j > 0:\n",
    "                try:\n",
    "                    previous_word = patient_word_list[j-1]\n",
    "                    if ' ' in word:\n",
    "                        first, second = word.split()\n",
    "                        first_vector = model[first]\n",
    "                        second_vector = model[second]\n",
    "                        word_vector = np.mean([first_vector, second_vector], axis=0)\n",
    "                    else:\n",
    "                        word_vector = model[word]\n",
    "                    if ' ' in previous_word:\n",
    "                        first, second = previous_word.split()\n",
    "                        first_vector = model[first]\n",
    "                        second_vector = model[second]\n",
    "                        previous_word_vector = np.mean([first_vector, second_vector], axis=0)\n",
    "                    else:\n",
    "                        previous_word_vector = model[previous_word]\n",
    "                    patient_animals_cos_sim[i].append(cos_sim(word_vector, previous_word_vector))\n",
    "                except KeyError as e:\n",
    "                    not_found += 1\n",
    "    not_found = math.ceil(not_found/2)\n",
    "    return (patient_animals_cos_sim, not_found)"
   ]
  },
  {
   "cell_type": "code",
   "execution_count": 35,
   "metadata": {},
   "outputs": [],
   "source": [
    "def evaluate_model(model, model_name): \n",
    "    '''\n",
    "    takes a model and its name\n",
    "    dumps a table of cosine similarities to a json file (named 'COS_SIM model name.json')\n",
    "    dumps a row with evaluation (cosine range and number of words missing in the model vocabulary) to a csv file\n",
    "    '''\n",
    "    patient_animals_cos_sim, not_found = get_cos_sim_list(model)\n",
    "    maximum = max([max(row) for row in patient_animals_cos_sim]) \n",
    "    minimum = min([min(row) for row in patient_animals_cos_sim])\n",
    "    cos_range = maximum - minimum\n",
    "    model_table_name = 'COS_SIM' + model_name + '.json'\n",
    "    with open(model_table_name, 'w') as f:\n",
    "        json.dump([[str(el) for el in patient] for patient in patient_animals_cos_sim],f)\n",
    "    with open('evaluation.csv', 'a') as f:\n",
    "        f.write('\\n'+', '.join([str(x) for x in [model_name, cos_range, not_found]]))"
   ]
  },
  {
   "cell_type": "code",
   "execution_count": 37,
   "metadata": {},
   "outputs": [
    {
     "name": "stdout",
     "output_type": "stream",
     "text": [
      "working on: ruscorpora_upos_cbow_300_20_2019\n",
      "working on: ruscorpora_upos_skipgram_600_10_2017\n",
      "working on: tayga_upos_skipgram_300_2_2019\n",
      "working on: ruwikiruscorpora_upos_skipgram_300_2_2019\n"
     ]
    }
   ],
   "source": [
    "for el in model_names.items():\n",
    "    model_name, path = el\n",
    "    print('working on: ' + model_name)\n",
    "    if '.bin' in path:\n",
    "        model = gensim.models.KeyedVectors.load_word2vec_format(path, binary=True)\n",
    "    else:\n",
    "        model = gensim.models.KeyedVectors.load_word2vec_format(model_file, binary=False)\n",
    "    evaluate_model(model, model_name)"
   ]
  }
 ],
 "metadata": {
  "kernelspec": {
   "display_name": "Python 3",
   "language": "python",
   "name": "python3"
  },
  "language_info": {
   "codemirror_mode": {
    "name": "ipython",
    "version": 3
   },
   "file_extension": ".py",
   "mimetype": "text/x-python",
   "name": "python",
   "nbconvert_exporter": "python",
   "pygments_lexer": "ipython3",
   "version": "3.7.1"
  }
 },
 "nbformat": 4,
 "nbformat_minor": 2
}
