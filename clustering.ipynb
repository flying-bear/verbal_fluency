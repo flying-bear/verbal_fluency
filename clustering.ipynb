{
 "cells": [
  {
   "cell_type": "code",
   "execution_count": 425,
   "metadata": {},
   "outputs": [],
   "source": [
    "import gensim.models\n",
    "import math\n",
    "import numpy as np\n",
    "import os.path\n",
    "import pandas as pd\n",
    "import scipy.stats as stats\n",
    "import shutil\n",
    "\n",
    "from zipfile import ZipFile"
   ]
  },
  {
   "cell_type": "markdown",
   "metadata": {},
   "source": [
    "## let us get the data"
   ]
  },
  {
   "cell_type": "code",
   "execution_count": 426,
   "metadata": {},
   "outputs": [],
   "source": [
    "def get_patients_data(path_to_csv, columns=None, dropna=True):\n",
    "    \"\"\"\n",
    "    gets a csv dataset into pandas keeping specified columns and dropping or keeping na's\n",
    "\n",
    "    :param path_to_csv: str\n",
    "    :param columns: list of str, columns to keep, None by default (keeps all)\n",
    "    :param dropna: bool, whether to drop na's, True by default\n",
    "    :return: pd.DataFrame\n",
    "    \"\"\"\n",
    "    res = pd.read_csv(path_to_csv, index_col=0)\n",
    "    if columns:\n",
    "        columns = list(filter(lambda col: col in res, columns))\n",
    "        if columns:\n",
    "            res = res[columns]\n",
    "    if dropna:\n",
    "        res = res.dropna()\n",
    "    return res"
   ]
  },
  {
   "cell_type": "markdown",
   "metadata": {},
   "source": [
    "**let us turn ;-separated str into lists**"
   ]
  },
  {
   "cell_type": "code",
   "execution_count": 427,
   "metadata": {},
   "outputs": [
    {
     "data": {
      "text/html": [
       "<div>\n",
       "<style scoped>\n",
       "    .dataframe tbody tr th:only-of-type {\n",
       "        vertical-align: middle;\n",
       "    }\n",
       "\n",
       "    .dataframe tbody tr th {\n",
       "        vertical-align: top;\n",
       "    }\n",
       "\n",
       "    .dataframe thead th {\n",
       "        text-align: right;\n",
       "    }\n",
       "</style>\n",
       "<table border=\"1\" class=\"dataframe\">\n",
       "  <thead>\n",
       "    <tr style=\"text-align: right;\">\n",
       "      <th></th>\n",
       "      <th>animals</th>\n",
       "    </tr>\n",
       "    <tr>\n",
       "      <th>ID</th>\n",
       "      <th></th>\n",
       "    </tr>\n",
       "  </thead>\n",
       "  <tbody>\n",
       "    <tr>\n",
       "      <td>1</td>\n",
       "      <td>[слон, заяц, волк, олень, кенгуру, жираф, сусл...</td>\n",
       "    </tr>\n",
       "    <tr>\n",
       "      <td>2</td>\n",
       "      <td>[собака, кошка, лошадь, кролик, заяц, волк, ме...</td>\n",
       "    </tr>\n",
       "    <tr>\n",
       "      <td>3</td>\n",
       "      <td>[собака, кошка, черепаха, слон, крокодил, обез...</td>\n",
       "    </tr>\n",
       "    <tr>\n",
       "      <td>4</td>\n",
       "      <td>[кошка, мышка, собака, тигр, лев, канарейка, с...</td>\n",
       "    </tr>\n",
       "    <tr>\n",
       "      <td>5</td>\n",
       "      <td>[лось, медведь, лиса, волк, корова, собака, ко...</td>\n",
       "    </tr>\n",
       "  </tbody>\n",
       "</table>\n",
       "</div>"
      ],
      "text/plain": [
       "                                              animals\n",
       "ID                                                   \n",
       "1   [слон, заяц, волк, олень, кенгуру, жираф, сусл...\n",
       "2   [собака, кошка, лошадь, кролик, заяц, волк, ме...\n",
       "3   [собака, кошка, черепаха, слон, крокодил, обез...\n",
       "4   [кошка, мышка, собака, тигр, лев, канарейка, с...\n",
       "5   [лось, медведь, лиса, волк, корова, собака, ко..."
      ]
     },
     "execution_count": 427,
     "metadata": {},
     "output_type": "execute_result"
    }
   ],
   "source": [
    "csv = \"verbal fluency.csv\"\n",
    "animals = get_patients_data(csv, ['animals'])\n",
    "animals['animals'] = animals['animals'].apply(lambda s: [x.strip() for x in s.strip().split(';')])\n",
    "animals.head()"
   ]
  },
  {
   "cell_type": "markdown",
   "metadata": {},
   "source": [
    "**let us add dummy POS-tags for the model**"
   ]
  },
  {
   "cell_type": "code",
   "execution_count": 428,
   "metadata": {},
   "outputs": [],
   "source": [
    "def add_POS_tags(patient_word_list):\n",
    "    \"\"\"\n",
    "    adds \"POS tags\" to words in a word list\n",
    "    if single word is given, _NOUN tag is added\n",
    "    if a bi-gram is given, _ADJ and _NOUN tags are added\n",
    "    \n",
    "    :param patient_word_list: list of str, words\n",
    "    :return: list of str, words with POS tags\n",
    "    \"\"\"\n",
    "    res = []\n",
    "    for j, word in enumerate(patient_word_list):\n",
    "        if word:\n",
    "            if ' ' in word:\n",
    "                first, second = word.split()\n",
    "                first += '_ADJ'\n",
    "                second += '_NOUN'\n",
    "                res.append(first + ' ' + second)\n",
    "            else:\n",
    "                res.append(word+'_NOUN')\n",
    "    return res"
   ]
  },
  {
   "cell_type": "code",
   "execution_count": 429,
   "metadata": {},
   "outputs": [
    {
     "data": {
      "text/plain": [
       "['жираф_NOUN', 'морской_ADJ свинка_NOUN']"
      ]
     },
     "execution_count": 429,
     "metadata": {},
     "output_type": "execute_result"
    }
   ],
   "source": [
    "add_POS_tags(['жираф', 'морской свинка', ''])"
   ]
  },
  {
   "cell_type": "code",
   "execution_count": 430,
   "metadata": {},
   "outputs": [
    {
     "data": {
      "text/html": [
       "<div>\n",
       "<style scoped>\n",
       "    .dataframe tbody tr th:only-of-type {\n",
       "        vertical-align: middle;\n",
       "    }\n",
       "\n",
       "    .dataframe tbody tr th {\n",
       "        vertical-align: top;\n",
       "    }\n",
       "\n",
       "    .dataframe thead th {\n",
       "        text-align: right;\n",
       "    }\n",
       "</style>\n",
       "<table border=\"1\" class=\"dataframe\">\n",
       "  <thead>\n",
       "    <tr style=\"text-align: right;\">\n",
       "      <th></th>\n",
       "      <th>animals</th>\n",
       "      <th>animals_POS</th>\n",
       "    </tr>\n",
       "    <tr>\n",
       "      <th>ID</th>\n",
       "      <th></th>\n",
       "      <th></th>\n",
       "    </tr>\n",
       "  </thead>\n",
       "  <tbody>\n",
       "    <tr>\n",
       "      <td>1</td>\n",
       "      <td>[слон, заяц, волк, олень, кенгуру, жираф, сусл...</td>\n",
       "      <td>[слон_NOUN, заяц_NOUN, волк_NOUN, олень_NOUN, ...</td>\n",
       "    </tr>\n",
       "    <tr>\n",
       "      <td>2</td>\n",
       "      <td>[собака, кошка, лошадь, кролик, заяц, волк, ме...</td>\n",
       "      <td>[собака_NOUN, кошка_NOUN, лошадь_NOUN, кролик_...</td>\n",
       "    </tr>\n",
       "    <tr>\n",
       "      <td>3</td>\n",
       "      <td>[собака, кошка, черепаха, слон, крокодил, обез...</td>\n",
       "      <td>[собака_NOUN, кошка_NOUN, черепаха_NOUN, слон_...</td>\n",
       "    </tr>\n",
       "    <tr>\n",
       "      <td>4</td>\n",
       "      <td>[кошка, мышка, собака, тигр, лев, канарейка, с...</td>\n",
       "      <td>[кошка_NOUN, мышка_NOUN, собака_NOUN, тигр_NOU...</td>\n",
       "    </tr>\n",
       "    <tr>\n",
       "      <td>5</td>\n",
       "      <td>[лось, медведь, лиса, волк, корова, собака, ко...</td>\n",
       "      <td>[лось_NOUN, медведь_NOUN, лиса_NOUN, волк_NOUN...</td>\n",
       "    </tr>\n",
       "  </tbody>\n",
       "</table>\n",
       "</div>"
      ],
      "text/plain": [
       "                                              animals  \\\n",
       "ID                                                      \n",
       "1   [слон, заяц, волк, олень, кенгуру, жираф, сусл...   \n",
       "2   [собака, кошка, лошадь, кролик, заяц, волк, ме...   \n",
       "3   [собака, кошка, черепаха, слон, крокодил, обез...   \n",
       "4   [кошка, мышка, собака, тигр, лев, канарейка, с...   \n",
       "5   [лось, медведь, лиса, волк, корова, собака, ко...   \n",
       "\n",
       "                                          animals_POS  \n",
       "ID                                                     \n",
       "1   [слон_NOUN, заяц_NOUN, волк_NOUN, олень_NOUN, ...  \n",
       "2   [собака_NOUN, кошка_NOUN, лошадь_NOUN, кролик_...  \n",
       "3   [собака_NOUN, кошка_NOUN, черепаха_NOUN, слон_...  \n",
       "4   [кошка_NOUN, мышка_NOUN, собака_NOUN, тигр_NOU...  \n",
       "5   [лось_NOUN, медведь_NOUN, лиса_NOUN, волк_NOUN...  "
      ]
     },
     "execution_count": 430,
     "metadata": {},
     "output_type": "execute_result"
    }
   ],
   "source": [
    "animals['animals_POS'] = animals['animals'].apply(add_POS_tags)\n",
    "animals.head()"
   ]
  },
  {
   "cell_type": "markdown",
   "metadata": {},
   "source": [
    "## let us unzip the best model into a temporary directory and load it"
   ]
  },
  {
   "cell_type": "code",
   "execution_count": 431,
   "metadata": {},
   "outputs": [],
   "source": [
    "model_zip_name = 'models/tayga_upos_skipgram_300_2_2019.zip'\n",
    "with ZipFile(model_zip_name, 'r') as myzip:\n",
    "    myzip.extractall('models/tmp')"
   ]
  },
  {
   "cell_type": "code",
   "execution_count": 432,
   "metadata": {},
   "outputs": [],
   "source": [
    "model_path = 'models/tmp/model.bin'\n",
    "model = gensim.models.KeyedVectors.load_word2vec_format(model_path, binary=True)"
   ]
  },
  {
   "cell_type": "code",
   "execution_count": 433,
   "metadata": {},
   "outputs": [],
   "source": [
    "shutil.rmtree('models/tmp/')"
   ]
  },
  {
   "cell_type": "code",
   "execution_count": 434,
   "metadata": {},
   "outputs": [
    {
     "data": {
      "text/plain": [
       "array([ 0.08601318, -0.6828482 , -0.22675529, -0.22827153, -0.01361705,\n",
       "        0.24698313, -0.04402011, -0.2475504 ,  0.07414407, -0.27594137,\n",
       "        0.1739021 , -0.00158702,  0.01958552,  0.03729556,  0.5432982 ,\n",
       "        0.0611247 ,  0.14772898,  0.02181707,  0.20535886, -0.11394621,\n",
       "       -0.17934537,  0.2540597 ,  0.19710991, -0.06129597, -0.5700048 ,\n",
       "        0.00850122,  0.2670366 ,  0.3233264 , -0.03196438, -0.18470246,\n",
       "        0.38322222, -0.02588548,  0.28374165, -0.19383   , -0.08458902,\n",
       "        0.4244925 , -0.15542516,  0.19162974, -0.06713919, -0.20103349,\n",
       "        0.06785759,  0.05808949,  0.03733297,  0.07999419, -0.10370225,\n",
       "        0.06420214, -0.11548744,  0.00239497, -0.2272254 , -0.19429892,\n",
       "       -0.15440041, -0.34388942, -0.31899017,  0.14440675, -0.00867636,\n",
       "        0.24022427, -0.21015681, -0.36691037,  0.08985427, -0.0185655 ,\n",
       "       -0.16598868,  0.10741134,  0.14276543, -0.22300471, -0.11224405,\n",
       "       -0.05493741,  0.48073494,  0.1417331 , -0.2366079 , -0.10493661,\n",
       "       -0.26779643,  0.05766632, -0.10450999,  0.16740012,  0.24989545,\n",
       "       -0.31306642, -0.01771038, -0.35657185,  0.20264758, -0.08024505,\n",
       "        0.1333073 , -0.06644765,  0.2935809 , -0.18314147,  0.00324421,\n",
       "       -0.14941205,  0.2809344 ,  0.10372677, -0.2588593 , -0.09115738,\n",
       "        0.25352958, -0.34868982, -0.20985284,  0.18744355,  0.04796194,\n",
       "        0.04518555, -0.20977673, -0.27803302, -0.03323869, -0.0185041 ,\n",
       "        0.24793915,  0.32914603,  0.09913506,  0.19666763, -0.29124886,\n",
       "        0.13848063, -0.05021977,  0.00637127, -0.14389522,  0.08626278,\n",
       "        0.05837043,  0.22266534, -0.21701188, -0.19579998, -0.4616413 ,\n",
       "        0.25975344,  0.47123817, -0.39694276, -0.43878776, -0.08970537,\n",
       "        0.41804138, -0.00897794,  0.10846356, -0.20862563,  0.33347172,\n",
       "        0.25404662,  0.0743347 , -0.18045709,  0.03071565,  0.20294169,\n",
       "        0.08019829,  0.09564716, -0.09163544, -0.03506916,  0.25627822,\n",
       "       -0.11227849, -0.09824023,  0.12438386, -0.24200556, -0.13393323,\n",
       "       -0.0202561 ,  0.0396084 ,  0.23316704,  0.10408586, -0.08188307,\n",
       "       -0.29209238, -0.10569653,  0.06686879, -0.10762975,  0.23678353,\n",
       "        0.0484022 , -0.17044571, -0.4998841 ,  0.09850495,  0.2786304 ,\n",
       "        0.16798577, -0.16263784, -0.04096738, -0.10494011,  0.2681457 ,\n",
       "       -0.13410725,  0.04142666, -0.10124612, -0.01825769,  0.1344599 ,\n",
       "        0.24031512, -0.1016474 ,  0.04304515,  0.35570472,  0.06507475,\n",
       "       -0.10617591, -0.15067253,  0.3303367 , -0.02721506, -0.19523437,\n",
       "        0.03008152, -0.29872194, -0.13599901, -0.2042082 , -0.17888406,\n",
       "       -0.02753736,  0.2894844 ,  0.15117969,  0.09697714,  0.39624357,\n",
       "        0.42853284, -0.05645112, -0.00510169,  0.36907604, -0.6048923 ,\n",
       "       -0.1694926 , -0.16883466, -0.1809516 ,  0.23125824,  0.45650426,\n",
       "        0.13365072,  0.26791337,  0.04326122, -0.14899862, -0.07419981,\n",
       "        0.04978807,  0.1076189 ,  0.03358115, -0.22510219,  0.06529593,\n",
       "        0.18608171, -0.14895053,  0.05385073, -0.11557037, -0.17050958,\n",
       "        0.14345254,  0.06981444, -0.17583641,  0.09895552,  0.01500245,\n",
       "       -0.28114977,  0.333313  ,  0.0347852 , -0.04114304, -0.3746997 ,\n",
       "       -0.00655184,  0.44496536,  0.04084378,  0.13265558, -0.2376775 ,\n",
       "        0.08224218,  0.02349202, -0.42410403, -0.04062211, -0.4123995 ,\n",
       "       -0.07650693, -0.12041023,  0.03880405,  0.25134543, -0.10515764,\n",
       "        0.08068286,  0.24473792,  0.35722297,  0.02367069,  0.15623572,\n",
       "       -0.2418767 ,  0.29204857, -0.02450531,  0.28752434,  0.01232368,\n",
       "       -0.01226142,  0.13354923,  0.09343038,  0.1082513 , -0.33945638,\n",
       "       -0.15733705, -0.18087153,  0.06899246,  0.1508003 , -0.13674118,\n",
       "       -0.23925768, -0.10581419,  0.11328798, -0.54118615,  0.09460215,\n",
       "        0.49174485,  0.10026071,  0.19063653,  0.00110073, -0.12016294,\n",
       "        0.3340163 ,  0.18146177,  0.09621671, -0.05802795, -0.00097307,\n",
       "       -0.09579401, -0.04187164, -0.0412683 ,  0.27620792, -0.140016  ,\n",
       "       -0.00808309,  0.2767882 , -0.00721104, -0.04237342,  0.0190878 ,\n",
       "        0.04640694,  0.32077348, -0.22910087,  0.20939669,  0.3425974 ,\n",
       "       -0.09167703,  0.05343306, -0.25625497, -0.54849094, -0.33823937,\n",
       "        0.17605424, -0.00288106, -0.08687178,  0.09526662,  0.07831522,\n",
       "       -0.08436219, -0.20952412, -0.10605658,  0.10840011, -0.23891142],\n",
       "      dtype=float32)"
      ]
     },
     "execution_count": 434,
     "metadata": {},
     "output_type": "execute_result"
    }
   ],
   "source": [
    "model['слон_NOUN']"
   ]
  },
  {
   "cell_type": "markdown",
   "metadata": {},
   "source": [
    "**let us define a way of handling bi-grams**"
   ]
  },
  {
   "cell_type": "code",
   "execution_count": 435,
   "metadata": {},
   "outputs": [],
   "source": [
    "def collocation_handler(model, word, collocation_function=None):\n",
    "    \"\"\"\n",
    "    gets a vector of a word or a bigram using a function to combine two vectors in a colloctaion\n",
    "    \n",
    "    :param model: gensim.Word2Vec model\n",
    "    :param word: str, word or bi-gram\n",
    "    :param collocation_function: function to combine two word vectors, None by default (np.mean is used)\n",
    "    :return word_vector: np.ndarray, word vector\n",
    "    :return not_found: int, number of words that were absent in the model\n",
    "    \"\"\"\n",
    "    not_found = 0\n",
    "    if ' ' in word:\n",
    "        if not collocation_function:\n",
    "            collocation_function = lambda vec1, vec2: np.mean([vec1, vec2], axis=0)\n",
    "        first, second = word.split()\n",
    "        if first in model and second in model:\n",
    "            first_vector = model[first]\n",
    "            second_vector = model[second]\n",
    "            word_vector = collocation_function(first_vector, second_vector)\n",
    "        elif first in model and second not in model:\n",
    "            word_vector = model[first]\n",
    "            not_found = 1\n",
    "        elif first not in model and second in model:\n",
    "            word_vector = model[second]\n",
    "            not_found = 1\n",
    "        else:\n",
    "            word_vector = None\n",
    "            not_found = 2\n",
    "    else:\n",
    "        if word in model:\n",
    "            word_vector = model[word]\n",
    "        else:\n",
    "            word_vector = None\n",
    "            not_found = 1\n",
    "    return word_vector, not_found"
   ]
  },
  {
   "cell_type": "code",
   "execution_count": 436,
   "metadata": {},
   "outputs": [
    {
     "data": {
      "text/plain": [
       "(array([-2.40569502e-01, -2.65819699e-01,  2.47903019e-02,  3.60203013e-02,\n",
       "         2.68500924e-01,  3.60444307e-01, -1.26190349e-01,  2.53701117e-03,\n",
       "        -3.17839533e-02,  1.25960782e-02,  1.35463476e-01, -1.68274075e-01,\n",
       "        -1.90845385e-01,  7.88793340e-03, -9.61406678e-02, -1.11334942e-01,\n",
       "         3.70166034e-01,  4.08405542e-01, -1.55779645e-01,  1.14374891e-01,\n",
       "        -5.48553877e-02,  9.86299813e-02, -1.45992398e-01,  1.50981732e-02,\n",
       "        -5.47238231e-01,  1.22930489e-01,  2.63999104e-01, -7.07200095e-02,\n",
       "        -2.63602316e-01, -1.15159288e-01,  2.86967874e-01, -9.13257897e-03,\n",
       "        -1.56521797e-02, -1.82685494e-01,  1.65465757e-01,  1.50530890e-01,\n",
       "        -4.82448116e-02,  2.58174300e-01, -2.40019649e-01, -3.00360192e-02,\n",
       "         1.40154660e-02, -1.70106724e-01, -8.29464346e-02, -1.76284164e-01,\n",
       "         2.51417272e-02, -2.48923823e-01,  2.01466367e-01, -4.91439104e-01,\n",
       "        -3.01076591e-01,  6.46086335e-02, -3.41826528e-02, -7.60434270e-02,\n",
       "         2.85786279e-02,  2.12653503e-01, -3.39970440e-01,  2.17009068e-01,\n",
       "        -1.02058738e-01, -2.89837182e-01, -2.97790319e-01,  1.21182472e-01,\n",
       "         2.42127106e-02,  2.33003795e-01, -1.88607991e-01, -6.63190037e-02,\n",
       "         4.85820286e-02, -8.10609907e-02,  3.66249651e-01,  3.89098167e-01,\n",
       "         1.21162713e-01, -3.90601039e-01,  3.28494124e-02,  1.06857836e-01,\n",
       "         1.75698280e-01,  3.90993714e-01,  2.78094649e-01,  2.69813612e-02,\n",
       "         7.01612681e-02,  4.89020869e-02,  8.99222046e-02,  6.71262592e-02,\n",
       "         6.73318729e-02, -1.93906143e-01,  1.47377238e-01, -1.34484703e-02,\n",
       "         1.35878950e-01, -2.91016519e-01,  2.62379289e-01, -2.65332401e-01,\n",
       "        -1.78411394e-01,  1.27205819e-01,  4.90487397e-01, -7.14199618e-02,\n",
       "         1.96640164e-01, -2.30486691e-03,  2.52796501e-01,  1.07625172e-01,\n",
       "        -2.61472046e-01, -1.33372262e-01,  8.53952989e-02, -3.49115282e-01,\n",
       "        -6.80944324e-03,  4.24272656e-01,  9.11194608e-02,  1.85462311e-01,\n",
       "         3.83729003e-02, -2.31267810e-01, -7.72634447e-02, -2.54292756e-01,\n",
       "        -7.32861981e-02, -3.55999827e-01,  1.81905031e-01,  2.29927465e-01,\n",
       "        -1.11956961e-01, -1.56017259e-01,  2.74672844e-02,  1.95936024e-01,\n",
       "        -1.85279280e-01, -3.34056094e-02,  9.61873829e-02, -2.12175369e-01,\n",
       "        -4.82069328e-04, -5.26423752e-03,  1.42103672e-01, -4.55032885e-01,\n",
       "        -9.62071717e-02, -5.43108769e-02,  4.46091294e-01, -3.09890509e-01,\n",
       "         1.11528859e-02,  1.84043497e-01,  3.51039708e-01,  3.97638083e-02,\n",
       "        -1.06469817e-01, -2.50075042e-01,  6.87830746e-02,  5.69680668e-02,\n",
       "        -2.52838135e-01, -2.16389745e-01, -9.89259854e-02,  1.98216438e-01,\n",
       "        -4.61733192e-02, -1.84375226e-01,  6.03861362e-02,  1.99782684e-01,\n",
       "        -3.82107258e-01,  4.94560152e-01, -5.96902668e-02, -1.83298886e-01,\n",
       "         2.37199724e-01,  3.17918062e-01,  1.05912179e-01, -1.98827177e-01,\n",
       "        -4.29733276e-01,  2.91162193e-01,  2.60244548e-01,  3.63884680e-03,\n",
       "        -1.16849042e-01, -1.35883257e-01, -2.65271682e-02,  2.12804824e-01,\n",
       "        -7.60308951e-02, -1.76519006e-01, -3.88269573e-02,  5.19458205e-03,\n",
       "         2.37525120e-01,  6.75256029e-02, -3.78796965e-01,  1.36774272e-01,\n",
       "         3.11696261e-01,  2.96427868e-02, -1.74875110e-01, -1.07629776e-01,\n",
       "         2.53446221e-01, -1.94755495e-01, -6.60248920e-02,  5.56559786e-02,\n",
       "        -8.87024216e-03, -9.16695148e-02, -8.64918157e-03, -3.35797340e-01,\n",
       "         6.25490472e-02,  5.81593990e-01, -1.24583557e-01,  1.66536361e-01,\n",
       "         2.67279178e-01,  2.35533774e-01,  1.64818466e-02,  1.60840660e-01,\n",
       "         7.22143799e-02, -7.52548873e-03, -2.60693312e-01, -1.27900302e-01,\n",
       "        -5.68515733e-02,  1.07775435e-01,  1.23745918e-01, -6.04836755e-02,\n",
       "         3.07662010e-01, -3.06591839e-01, -4.02642757e-01,  7.19086230e-02,\n",
       "        -2.52451718e-01,  1.59938514e-01,  3.86611342e-01, -1.41065106e-01,\n",
       "        -1.06821239e-01, -7.51440525e-02,  1.57286733e-01, -2.08600610e-01,\n",
       "        -4.92847785e-02, -4.39894557e-01,  1.21978343e-01, -4.17112634e-02,\n",
       "        -1.10502690e-01,  3.02990014e-03, -6.69461340e-02, -1.38999537e-01,\n",
       "        -2.73168273e-02,  1.94340438e-01,  9.18353945e-02, -1.07685611e-01,\n",
       "        -3.23703438e-02,  1.45026729e-01, -1.62890226e-01,  1.54491290e-01,\n",
       "        -2.98898295e-02, -1.18724406e-01, -1.78045914e-01,  6.65222034e-02,\n",
       "         1.51423693e-01, -1.75989807e-01,  1.02600493e-01,  1.20973878e-01,\n",
       "         1.27705887e-01,  1.80851489e-01, -6.60665333e-02,  2.93948710e-01,\n",
       "         2.46066660e-01,  4.83522862e-02, -1.23341363e-02,  1.86742246e-01,\n",
       "        -7.38742501e-02,  1.36182442e-01,  5.17631844e-02,  6.20468669e-02,\n",
       "         1.41795278e-01,  1.48362219e-01, -4.12617847e-02,  4.30149585e-02,\n",
       "         1.88966900e-01, -4.09968644e-02, -6.78733140e-02, -5.65001033e-02,\n",
       "         2.70678610e-01,  4.45760563e-02, -3.62673029e-02, -1.40182674e-01,\n",
       "        -8.36147517e-02,  2.34437659e-02, -3.12604189e-01,  3.80769491e-01,\n",
       "         2.63903677e-01, -3.84135172e-02, -9.08249021e-02, -1.71460629e-01,\n",
       "        -7.44776502e-02,  7.82898590e-02,  1.76071629e-01,  1.19228914e-01,\n",
       "        -4.59003985e-01,  6.65419027e-02,  3.35757554e-01,  7.81597942e-03,\n",
       "        -2.21189022e-01,  3.06643248e-01, -1.60533711e-02, -2.29024157e-01,\n",
       "         1.73850134e-01,  2.03892976e-01,  2.37186566e-01,  1.00619271e-01,\n",
       "         7.56673440e-02,  6.09195828e-02,  1.41135484e-01,  3.26193631e-01,\n",
       "         2.25889042e-01, -1.76053852e-01,  1.64279222e-01, -3.46962214e-02,\n",
       "        -2.56882221e-01, -3.53885368e-02, -3.84503379e-02, -9.65795666e-02,\n",
       "        -1.20962195e-01,  3.10260326e-01,  3.06157470e-01,  8.54372978e-02,\n",
       "         1.63430069e-03, -1.37977391e-01,  2.71976851e-02, -3.20094556e-01],\n",
       "       dtype=float32), 0)"
      ]
     },
     "execution_count": 436,
     "metadata": {},
     "output_type": "execute_result"
    }
   ],
   "source": [
    "collocation_handler(model, 'морской_ADJ свинка_NOUN')"
   ]
  },
  {
   "cell_type": "code",
   "execution_count": 437,
   "metadata": {},
   "outputs": [
    {
     "data": {
      "text/plain": [
       "(None, 1)"
      ]
     },
     "execution_count": 437,
     "metadata": {},
     "output_type": "execute_result"
    }
   ],
   "source": [
    "collocation_handler(model, 'kiufuer')"
   ]
  },
  {
   "cell_type": "code",
   "execution_count": 438,
   "metadata": {},
   "outputs": [
    {
     "data": {
      "text/plain": [
       "(array([-0.24443445, -0.5771195 , -0.13867165,  0.20017748,  0.3237785 ,\n",
       "         0.2328046 , -0.34049097,  0.03349691,  0.12646833,  0.18448459,\n",
       "         0.24623515, -0.12471765, -0.16479154, -0.07681715, -0.03212069,\n",
       "        -0.08459495,  0.36097503,  0.38839626,  0.05949978,  0.05217168,\n",
       "        -0.19348028,  0.09540386, -0.47699255, -0.12457881, -0.57800716,\n",
       "         0.14449762,  0.3292182 ,  0.16089065, -0.32228065, -0.08594431,\n",
       "         0.36661896, -0.03241307,  0.18824233, -0.22222158,  0.11502609,\n",
       "         0.19788364,  0.01979579,  0.24609703, -0.21542795,  0.03033229,\n",
       "         0.17665893,  0.07056163, -0.2209753 , -0.15497443, -0.08215433,\n",
       "         0.0810919 ,  0.18020569, -0.45008856,  0.00310612, -0.07636507,\n",
       "         0.19055578,  0.04309632,  0.04444195,  0.23624417, -0.43727016,\n",
       "         0.24869345, -0.19005972, -0.06291488,  0.00923101, -0.08208547,\n",
       "         0.0858584 ,  0.20341316, -0.181405  , -0.06822711,  0.05965808,\n",
       "         0.12983981,  0.37337086,  0.48328945, -0.0398706 , -0.15267913,\n",
       "         0.04594449,  0.11662325,  0.22947986,  0.18370476,  0.27358788,\n",
       "        -0.07786231,  0.04238692, -0.24282096, -0.02733835, -0.05342169,\n",
       "         0.29094252, -0.16692112,  0.02338673,  0.00779421,  0.15169409,\n",
       "        -0.20244807,  0.2199325 , -0.30251208, -0.31567833,  0.06901206,\n",
       "         0.5520299 , -0.01446891,  0.27039093,  0.239474  ,  0.16681564,\n",
       "         0.09903479, -0.1378567 , -0.1948785 ,  0.17468491, -0.380405  ,\n",
       "         0.22655897,  0.5863473 , -0.10280113,  0.35003072, -0.0049164 ,\n",
       "        -0.23826014, -0.14588898,  0.00444614, -0.17489606, -0.1305033 ,\n",
       "         0.13859099, -0.02627792, -0.19155422, -0.3299142 , -0.08496224,\n",
       "         0.17721923,  0.09608395, -0.06901437, -0.02150027, -0.3846827 ,\n",
       "        -0.05329226, -0.16865969,  0.22812773, -0.35187194, -0.21704166,\n",
       "        -0.03740539,  0.5536768 , -0.40798306,  0.09128319,  0.18337151,\n",
       "         0.11096687,  0.04562722, -0.11445915, -0.2238677 ,  0.17971298,\n",
       "         0.15289655, -0.2084133 , -0.2809248 , -0.16101477,  0.0121939 ,\n",
       "         0.1502103 , -0.08463319,  0.4764806 ,  0.41888824, -0.3291477 ,\n",
       "         0.4451598 , -0.08480816, -0.02444105,  0.08225396,  0.35388514,\n",
       "         0.03704856, -0.19601466, -0.48611745,  0.28234267,  0.32266232,\n",
       "         0.01710469, -0.01125219, -0.15371868, -0.07403164,  0.09939481,\n",
       "        -0.5555796 , -0.12542155,  0.00816599, -0.10216167,  0.4244459 ,\n",
       "         0.1335182 , -0.16144888, -0.0179152 ,  0.3378982 , -0.09384482,\n",
       "        -0.13395052, -0.33701703,  0.3535079 , -0.16509199, -0.12679379,\n",
       "         0.06719301,  0.00943681, -0.14326172, -0.10617448, -0.2108772 ,\n",
       "        -0.13531221,  0.6852274 , -0.32875165, -0.08306421,  0.25392547,\n",
       "         0.38202152,  0.24798164,  0.14985323,  0.110919  , -0.27655205,\n",
       "        -0.3470884 , -0.08930389,  0.20024033, -0.07718757,  0.07834224,\n",
       "        -0.18469818,  0.30150026, -0.22951208, -0.33016375,  0.20112737,\n",
       "        -0.09958747,  0.12900244,  0.41575998, -0.24096127, -0.25318706,\n",
       "        -0.13455145,  0.4849541 , -0.06411223, -0.13034463, -0.3580738 ,\n",
       "         0.12790559, -0.24340336, -0.15472095, -0.01457396,  0.04656402,\n",
       "        -0.15594573,  0.01910655,  0.05041621, -0.25314695, -0.11316344,\n",
       "        -0.04051673,  0.43881935, -0.20926595,  0.06684153, -0.09336768,\n",
       "        -0.10095301, -0.04950118, -0.1550407 ,  0.23107189, -0.06171187,\n",
       "         0.31532794,  0.01038469,  0.23328067,  0.16966224, -0.24717228,\n",
       "         0.20043823,  0.29762527,  0.25017363, -0.01531301,  0.13910508,\n",
       "        -0.22667974,  0.01601436, -0.14039363,  0.02002122,  0.09176308,\n",
       "         0.17775463, -0.31336913, -0.00216287, -0.02672558, -0.2612656 ,\n",
       "        -0.19582303, -0.23579018,  0.21038176,  0.03643279,  0.01186756,\n",
       "        -0.4593937 , -0.19786309,  0.19363971, -0.41589653,  0.35753968,\n",
       "         0.18193239,  0.1494409 ,  0.04043436, -0.16075338, -0.20786381,\n",
       "        -0.03630402,  0.2017946 ,  0.3462167 , -0.3567234 ,  0.04450675,\n",
       "         0.20397654, -0.10507414, -0.0869417 ,  0.2424982 ,  0.15163988,\n",
       "         0.24101183,  0.17771785, -0.06007689,  0.32079962,  0.35912374,\n",
       "         0.11017293,  0.12452611, -0.13279565,  0.21427533,  0.33968258,\n",
       "         0.13972615,  0.04702407, -0.20006478, -0.13105099, -0.21135154,\n",
       "         0.21026896, -0.20032942,  0.08504058,  0.40410286,  0.29556128,\n",
       "         0.08355098,  0.01973601, -0.32194647,  0.09044843, -0.58399314],\n",
       "       dtype=float32), 1)"
      ]
     },
     "execution_count": 438,
     "metadata": {},
     "output_type": "execute_result"
    }
   ],
   "source": [
    "collocation_handler(model, 'kiufuer свинка_NOUN')"
   ]
  },
  {
   "cell_type": "markdown",
   "metadata": {},
   "source": [
    "## let us compute cosine similarities of a list of words"
   ]
  },
  {
   "cell_type": "code",
   "execution_count": 439,
   "metadata": {},
   "outputs": [],
   "source": [
    "oov_list = []"
   ]
  },
  {
   "cell_type": "code",
   "execution_count": 440,
   "metadata": {},
   "outputs": [],
   "source": [
    "def cos_sim(v1, v2):\n",
    "    return np.inner(v1, v2)/(np.linalg.norm(v1)*np.linalg.norm(v2))"
   ]
  },
  {
   "cell_type": "code",
   "execution_count": 441,
   "metadata": {},
   "outputs": [],
   "source": [
    "def get_cos_sim_list(model, patient_word_list, collocation_function=None, oov=True):\n",
    "    \"\"\"\n",
    "    calculates pairwise cosine similarities of words or collocations in a word list\n",
    "\n",
    "    cosine similarity for a word pair that has a collocation is calculated as\n",
    "    cosine similarity between a word vector and an average of word vectors from the collocation\n",
    "\n",
    "    :param model: gensim.word2vec model\n",
    "    :param patient_word_list: list of strings, words produced by the patient\n",
    "    :param collocation_function: function combining two word vectors in a collocation, optional default is mean\n",
    "    :param oov: bool, optional (True by deafult), whether to add oov words to a global variable oov_list\n",
    "    :return patient_cos_sim_list: list of float, pairwise cosine similarities\n",
    "    :return not_found: int, number of words missing from the model vocabulary\n",
    "    \"\"\"\n",
    "    patient_cos_sim_list = []\n",
    "    not_found = 0\n",
    "    for j, word in enumerate(patient_word_list):\n",
    "        if j > 0:\n",
    "            previous_word = patient_word_list[j - 1]\n",
    "            word_vector, nf = collocation_handler(model, word, collocation_function)\n",
    "            not_found += nf\n",
    "            previous_word_vector, nf = collocation_handler(model, previous_word, collocation_function)\n",
    "            not_found += nf\n",
    "            if word_vector is None :\n",
    "                if oov:\n",
    "                    oov_list.append(word)\n",
    "                else:\n",
    "                    continue\n",
    "            elif previous_word_vector is not None:\n",
    "                patient_cos_sim_list.append(cos_sim(word_vector, previous_word_vector))\n",
    "            else:\n",
    "                continue\n",
    "    not_found = math.ceil(not_found / 2)\n",
    "    return patient_cos_sim_list, not_found"
   ]
  },
  {
   "cell_type": "code",
   "execution_count": 442,
   "metadata": {},
   "outputs": [
    {
     "data": {
      "text/plain": [
       "([0.39405695, 0.33655587, 0.24216779], 0)"
      ]
     },
     "execution_count": 442,
     "metadata": {},
     "output_type": "execute_result"
    }
   ],
   "source": [
    "get_cos_sim_list(model, ['морской_ADJ свинка_NOUN', 'мышь_NOUN', 'уж_NOUN', 'жираф_NOUN'], oov=False)"
   ]
  },
  {
   "cell_type": "code",
   "execution_count": 443,
   "metadata": {},
   "outputs": [
    {
     "data": {
      "text/plain": [
       "([0.39405695, 0.33655587], 1)"
      ]
     },
     "execution_count": 443,
     "metadata": {},
     "output_type": "execute_result"
    }
   ],
   "source": [
    "get_cos_sim_list(model, ['морской_ADJ свинка_NOUN', 'мышь_NOUN', 'уж_NOUN', 'kjgfeagf','жираф_NOUN'], oov=False)"
   ]
  },
  {
   "cell_type": "code",
   "execution_count": 444,
   "metadata": {},
   "outputs": [
    {
     "data": {
      "text/plain": [
       "([0.45510814, 0.33655587, 0.24216779], 0)"
      ]
     },
     "execution_count": 444,
     "metadata": {},
     "output_type": "execute_result"
    }
   ],
   "source": [
    "cf = lambda vec1, vec2: vec1 + 2*vec2\n",
    "get_cos_sim_list(model, ['морской_ADJ свинка_NOUN', 'мышь_NOUN', 'уж_NOUN', 'жираф_NOUN'], collocation_function=cf, oov=False)"
   ]
  },
  {
   "cell_type": "markdown",
   "metadata": {},
   "source": [
    "**let us apply the technique to the dataset**"
   ]
  },
  {
   "cell_type": "code",
   "execution_count": 445,
   "metadata": {},
   "outputs": [
    {
     "data": {
      "text/html": [
       "<div>\n",
       "<style scoped>\n",
       "    .dataframe tbody tr th:only-of-type {\n",
       "        vertical-align: middle;\n",
       "    }\n",
       "\n",
       "    .dataframe tbody tr th {\n",
       "        vertical-align: top;\n",
       "    }\n",
       "\n",
       "    .dataframe thead th {\n",
       "        text-align: right;\n",
       "    }\n",
       "</style>\n",
       "<table border=\"1\" class=\"dataframe\">\n",
       "  <thead>\n",
       "    <tr style=\"text-align: right;\">\n",
       "      <th></th>\n",
       "      <th>animals</th>\n",
       "      <th>animals_POS</th>\n",
       "      <th>cos_sim_list</th>\n",
       "      <th>oov_words</th>\n",
       "    </tr>\n",
       "    <tr>\n",
       "      <th>ID</th>\n",
       "      <th></th>\n",
       "      <th></th>\n",
       "      <th></th>\n",
       "      <th></th>\n",
       "    </tr>\n",
       "  </thead>\n",
       "  <tbody>\n",
       "    <tr>\n",
       "      <td>1</td>\n",
       "      <td>[слон, заяц, волк, олень, кенгуру, жираф, сусл...</td>\n",
       "      <td>[слон_NOUN, заяц_NOUN, волк_NOUN, олень_NOUN, ...</td>\n",
       "      <td>[0.5170071, 0.67135924, 0.6578043, 0.56862366,...</td>\n",
       "      <td>0</td>\n",
       "    </tr>\n",
       "    <tr>\n",
       "      <td>2</td>\n",
       "      <td>[собака, кошка, лошадь, кролик, заяц, волк, ме...</td>\n",
       "      <td>[собака_NOUN, кошка_NOUN, лошадь_NOUN, кролик_...</td>\n",
       "      <td>[0.7347066, 0.3801097, 0.35965052, 0.6953546, ...</td>\n",
       "      <td>0</td>\n",
       "    </tr>\n",
       "    <tr>\n",
       "      <td>3</td>\n",
       "      <td>[собака, кошка, черепаха, слон, крокодил, обез...</td>\n",
       "      <td>[собака_NOUN, кошка_NOUN, черепаха_NOUN, слон_...</td>\n",
       "      <td>[0.7347066, 0.5041016, 0.6032447, 0.59325194, ...</td>\n",
       "      <td>1</td>\n",
       "    </tr>\n",
       "    <tr>\n",
       "      <td>4</td>\n",
       "      <td>[кошка, мышка, собака, тигр, лев, канарейка, с...</td>\n",
       "      <td>[кошка_NOUN, мышка_NOUN, собака_NOUN, тигр_NOU...</td>\n",
       "      <td>[0.52633816, 0.3668137, 0.5475824, 0.8116844, ...</td>\n",
       "      <td>0</td>\n",
       "    </tr>\n",
       "    <tr>\n",
       "      <td>5</td>\n",
       "      <td>[лось, медведь, лиса, волк, корова, собака, ко...</td>\n",
       "      <td>[лось_NOUN, медведь_NOUN, лиса_NOUN, волк_NOUN...</td>\n",
       "      <td>[0.73176044, 0.653271, 0.73672754, 0.43279937,...</td>\n",
       "      <td>0</td>\n",
       "    </tr>\n",
       "  </tbody>\n",
       "</table>\n",
       "</div>"
      ],
      "text/plain": [
       "                                              animals  \\\n",
       "ID                                                      \n",
       "1   [слон, заяц, волк, олень, кенгуру, жираф, сусл...   \n",
       "2   [собака, кошка, лошадь, кролик, заяц, волк, ме...   \n",
       "3   [собака, кошка, черепаха, слон, крокодил, обез...   \n",
       "4   [кошка, мышка, собака, тигр, лев, канарейка, с...   \n",
       "5   [лось, медведь, лиса, волк, корова, собака, ко...   \n",
       "\n",
       "                                          animals_POS  \\\n",
       "ID                                                      \n",
       "1   [слон_NOUN, заяц_NOUN, волк_NOUN, олень_NOUN, ...   \n",
       "2   [собака_NOUN, кошка_NOUN, лошадь_NOUN, кролик_...   \n",
       "3   [собака_NOUN, кошка_NOUN, черепаха_NOUN, слон_...   \n",
       "4   [кошка_NOUN, мышка_NOUN, собака_NOUN, тигр_NOU...   \n",
       "5   [лось_NOUN, медведь_NOUN, лиса_NOUN, волк_NOUN...   \n",
       "\n",
       "                                         cos_sim_list  oov_words  \n",
       "ID                                                                \n",
       "1   [0.5170071, 0.67135924, 0.6578043, 0.56862366,...          0  \n",
       "2   [0.7347066, 0.3801097, 0.35965052, 0.6953546, ...          0  \n",
       "3   [0.7347066, 0.5041016, 0.6032447, 0.59325194, ...          1  \n",
       "4   [0.52633816, 0.3668137, 0.5475824, 0.8116844, ...          0  \n",
       "5   [0.73176044, 0.653271, 0.73672754, 0.43279937,...          0  "
      ]
     },
     "execution_count": 445,
     "metadata": {},
     "output_type": "execute_result"
    }
   ],
   "source": [
    "animals['cos_sim_list'], animals['oov_words'] = zip(*animals['animals_POS'].map(lambda x: get_cos_sim_list(model, x)))\n",
    "animals.head()"
   ]
  },
  {
   "cell_type": "code",
   "execution_count": 446,
   "metadata": {},
   "outputs": [
    {
     "data": {
      "text/html": [
       "<div>\n",
       "<style scoped>\n",
       "    .dataframe tbody tr th:only-of-type {\n",
       "        vertical-align: middle;\n",
       "    }\n",
       "\n",
       "    .dataframe tbody tr th {\n",
       "        vertical-align: top;\n",
       "    }\n",
       "\n",
       "    .dataframe thead th {\n",
       "        text-align: right;\n",
       "    }\n",
       "</style>\n",
       "<table border=\"1\" class=\"dataframe\">\n",
       "  <thead>\n",
       "    <tr style=\"text-align: right;\">\n",
       "      <th></th>\n",
       "      <th>animals</th>\n",
       "      <th>animals_POS</th>\n",
       "      <th>cos_sim_list</th>\n",
       "      <th>oov_words</th>\n",
       "      <th>mean_cos_sim</th>\n",
       "    </tr>\n",
       "    <tr>\n",
       "      <th>ID</th>\n",
       "      <th></th>\n",
       "      <th></th>\n",
       "      <th></th>\n",
       "      <th></th>\n",
       "      <th></th>\n",
       "    </tr>\n",
       "  </thead>\n",
       "  <tbody>\n",
       "    <tr>\n",
       "      <td>1</td>\n",
       "      <td>[слон, заяц, волк, олень, кенгуру, жираф, сусл...</td>\n",
       "      <td>[слон_NOUN, заяц_NOUN, волк_NOUN, олень_NOUN, ...</td>\n",
       "      <td>[0.5170071, 0.67135924, 0.6578043, 0.56862366,...</td>\n",
       "      <td>0</td>\n",
       "      <td>0.516028</td>\n",
       "    </tr>\n",
       "    <tr>\n",
       "      <td>2</td>\n",
       "      <td>[собака, кошка, лошадь, кролик, заяц, волк, ме...</td>\n",
       "      <td>[собака_NOUN, кошка_NOUN, лошадь_NOUN, кролик_...</td>\n",
       "      <td>[0.7347066, 0.3801097, 0.35965052, 0.6953546, ...</td>\n",
       "      <td>0</td>\n",
       "      <td>0.596951</td>\n",
       "    </tr>\n",
       "    <tr>\n",
       "      <td>3</td>\n",
       "      <td>[собака, кошка, черепаха, слон, крокодил, обез...</td>\n",
       "      <td>[собака_NOUN, кошка_NOUN, черепаха_NOUN, слон_...</td>\n",
       "      <td>[0.7347066, 0.5041016, 0.6032447, 0.59325194, ...</td>\n",
       "      <td>1</td>\n",
       "      <td>0.609784</td>\n",
       "    </tr>\n",
       "    <tr>\n",
       "      <td>4</td>\n",
       "      <td>[кошка, мышка, собака, тигр, лев, канарейка, с...</td>\n",
       "      <td>[кошка_NOUN, мышка_NOUN, собака_NOUN, тигр_NOU...</td>\n",
       "      <td>[0.52633816, 0.3668137, 0.5475824, 0.8116844, ...</td>\n",
       "      <td>0</td>\n",
       "      <td>0.501028</td>\n",
       "    </tr>\n",
       "    <tr>\n",
       "      <td>5</td>\n",
       "      <td>[лось, медведь, лиса, волк, корова, собака, ко...</td>\n",
       "      <td>[лось_NOUN, медведь_NOUN, лиса_NOUN, волк_NOUN...</td>\n",
       "      <td>[0.73176044, 0.653271, 0.73672754, 0.43279937,...</td>\n",
       "      <td>0</td>\n",
       "      <td>0.567047</td>\n",
       "    </tr>\n",
       "  </tbody>\n",
       "</table>\n",
       "</div>"
      ],
      "text/plain": [
       "                                              animals  \\\n",
       "ID                                                      \n",
       "1   [слон, заяц, волк, олень, кенгуру, жираф, сусл...   \n",
       "2   [собака, кошка, лошадь, кролик, заяц, волк, ме...   \n",
       "3   [собака, кошка, черепаха, слон, крокодил, обез...   \n",
       "4   [кошка, мышка, собака, тигр, лев, канарейка, с...   \n",
       "5   [лось, медведь, лиса, волк, корова, собака, ко...   \n",
       "\n",
       "                                          animals_POS  \\\n",
       "ID                                                      \n",
       "1   [слон_NOUN, заяц_NOUN, волк_NOUN, олень_NOUN, ...   \n",
       "2   [собака_NOUN, кошка_NOUN, лошадь_NOUN, кролик_...   \n",
       "3   [собака_NOUN, кошка_NOUN, черепаха_NOUN, слон_...   \n",
       "4   [кошка_NOUN, мышка_NOUN, собака_NOUN, тигр_NOU...   \n",
       "5   [лось_NOUN, медведь_NOUN, лиса_NOUN, волк_NOUN...   \n",
       "\n",
       "                                         cos_sim_list  oov_words  mean_cos_sim  \n",
       "ID                                                                              \n",
       "1   [0.5170071, 0.67135924, 0.6578043, 0.56862366,...          0      0.516028  \n",
       "2   [0.7347066, 0.3801097, 0.35965052, 0.6953546, ...          0      0.596951  \n",
       "3   [0.7347066, 0.5041016, 0.6032447, 0.59325194, ...          1      0.609784  \n",
       "4   [0.52633816, 0.3668137, 0.5475824, 0.8116844, ...          0      0.501028  \n",
       "5   [0.73176044, 0.653271, 0.73672754, 0.43279937,...          0      0.567047  "
      ]
     },
     "execution_count": 446,
     "metadata": {},
     "output_type": "execute_result"
    }
   ],
   "source": [
    "animals['mean_cos_sim'] = animals['cos_sim_list'].apply(np.mean)\n",
    "animals.head()"
   ]
  },
  {
   "cell_type": "code",
   "execution_count": 447,
   "metadata": {},
   "outputs": [
    {
     "name": "stdout",
     "output_type": "stream",
     "text": [
      "mean: 0.5596878528594971\n",
      "\n",
      "25th percentile: 0.46141517162323\n",
      "median: 0.5547636151313782\n",
      "75th percentile: 0.6713592410087585\n"
     ]
    }
   ],
   "source": [
    "flatten = lambda l: [item for sublist in l for item in sublist]\n",
    "list_cos_sim_all = flatten(animals['cos_sim_list'].tolist())\n",
    "median = np.median(list_cos_sim_all)\n",
    "p25 = np.percentile(list_cos_sim_all, 25)\n",
    "p75 = np.percentile(list_cos_sim_all, 75)\n",
    "mean = np.mean(list_cos_sim_all)\n",
    "print(f'mean: {mean}\\n\\n25th percentile: {p25}\\nmedian: {median}\\n75th percentile: {p75}')"
   ]
  },
  {
   "cell_type": "markdown",
   "metadata": {},
   "source": [
    "## clustering methods (Kim et al 2019)\n",
    "[Automatic Scoring of Semantic Fluency](https://www.ncbi.nlm.nih.gov/pmc/articles/PMC6532534/) <br>\n",
    "Best performance:\n",
    "- English: threshold median\n",
    "- Korean: threshold median, sharp\n",
    "\n",
    "\n",
    "The models in the paper were selected w2v by median threshold correlation with manual counts _(questionable decision!)_\n",
    "- English: the best model was the skip-gram model with d = 300,w = 4 (ρ = 0.657)\n",
    "- Korean: the best model was the CBOW model with d = 1000,w = 4 (ρ = 0.572)\n",
    "\n",
    "\n",
    "inter-group similarity would not work well on a small sample (as it relies on random negative sampling)"
   ]
  },
  {
   "cell_type": "markdown",
   "metadata": {},
   "source": [
    "<img src=\"kim2019.jpg\">"
   ]
  },
  {
   "cell_type": "code",
   "execution_count": 448,
   "metadata": {},
   "outputs": [],
   "source": [
    "ex_list = animals['cos_sim_list'].tolist()[0]"
   ]
  },
  {
   "cell_type": "markdown",
   "metadata": {},
   "source": [
    "### threshold cutoff\n",
    "cluster boundary\n",
    "- median & 25th percentile in the whole dataset\n",
    "- average cosine similarity of each participant"
   ]
  },
  {
   "cell_type": "code",
   "execution_count": 449,
   "metadata": {},
   "outputs": [],
   "source": [
    "def threshold_cutoff(list_of_values, threshold):\n",
    "    \"\"\"\n",
    "    finds ids of elements below a threshold and the number of them (+1)\n",
    "    \n",
    "    :param list_of_values: list of int or float\n",
    "    :param threshold: int or float, value that elements must exceed\n",
    "    :return ids: list of int, ids where value in list_of_values is below threshold\n",
    "    :return cluster_num: int, number of values below threshold + 1\n",
    "    \"\"\"\n",
    "    if type(list_of_values) != np.ndarray:\n",
    "        list_of_values = np.array(list_of_values)\n",
    "    ids = list(np.where(list_of_values < threshold)[0])\n",
    "    cluster_num = len(ids) + 1\n",
    "    return ids, cluster_num"
   ]
  },
  {
   "cell_type": "code",
   "execution_count": 450,
   "metadata": {},
   "outputs": [
    {
     "name": "stdout",
     "output_type": "stream",
     "text": [
      "0.3298159420490265\n"
     ]
    },
    {
     "data": {
      "text/plain": [
       "([16, 19, 20], 4)"
      ]
     },
     "execution_count": 450,
     "metadata": {},
     "output_type": "execute_result"
    }
   ],
   "source": [
    "p10 = np.percentile(ex_list, 10)\n",
    "print(p10)\n",
    "threshold_cutoff(ex_list, p10)"
   ]
  },
  {
   "cell_type": "markdown",
   "metadata": {},
   "source": [
    "### sharp change\n",
    "cluster boudary - cosine similarity is half _(or some other factor!)_ the average distance in the current cluster"
   ]
  },
  {
   "cell_type": "code",
   "execution_count": 451,
   "metadata": {},
   "outputs": [],
   "source": [
    "def sharp_change(list_of_values, factor):\n",
    "    \"\"\"\n",
    "    finds ids of elements below a threshold and the number of them (+1)\n",
    "    \n",
    "    :param list_of_values: list of int or float\n",
    "    :param factor: int or float, nonzero, sharpness of change\n",
    "    :return ids: list of int, ids where value in list_of_values changes sharply \n",
    "                            (by a factor of factor param)\n",
    "    :return cluster_num: int, number of sharp changes + 1\n",
    "    \"\"\"\n",
    "    cluster = [list_of_values[0]]\n",
    "    ids = []\n",
    "    for i, value in enumerate(list_of_values):\n",
    "        current_mean = np.mean(cluster)\n",
    "        if value < current_mean/factor:\n",
    "            ids.append(i)\n",
    "            cluster = [value]\n",
    "        else:\n",
    "            cluster.append(value)\n",
    "    cluster_num = len(ids) + 1\n",
    "    return ids, cluster_num"
   ]
  },
  {
   "cell_type": "code",
   "execution_count": 452,
   "metadata": {},
   "outputs": [
    {
     "name": "stdout",
     "output_type": "stream",
     "text": [
      "[5, 15, 16]\n",
      "[0.46906286 0.42121196 0.14248623] 4\n"
     ]
    }
   ],
   "source": [
    "ids, n = sharp_change(ex_list, 1.2)\n",
    "print(ids)\n",
    "print(np.array(ex_list)[ids], n)"
   ]
  },
  {
   "cell_type": "markdown",
   "metadata": {},
   "source": [
    "**let us also define a function that divides a set of words into clusters by change-indicies**"
   ]
  },
  {
   "cell_type": "code",
   "execution_count": 453,
   "metadata": {},
   "outputs": [],
   "source": [
    "def get_splits(some_list, *ids):\n",
    "    \"\"\"\n",
    "    splits a list into sublists by ids\n",
    "    \n",
    "    :param wordlist: list to be split\n",
    "    :param ids: *ids where splits should be\n",
    "    :return: lsit of lists, ssplit bu ids\n",
    "    \"\"\"\n",
    "    ids = (0,) + tuple(data+1 for data in ids) + (len(some_list)+1,)\n",
    "    lists = []\n",
    "    for start, end in zip(ids, ids[1:]):\n",
    "        sub = some_list[start:end]\n",
    "        if sub:\n",
    "            lists.append(sub)\n",
    "    return lists"
   ]
  },
  {
   "cell_type": "code",
   "execution_count": 454,
   "metadata": {},
   "outputs": [
    {
     "data": {
      "text/plain": [
       "[['1'], ['2', '3'], ['4', '5']]"
      ]
     },
     "execution_count": 454,
     "metadata": {},
     "output_type": "execute_result"
    }
   ],
   "source": [
    "get_splits(['1', '2', '3', '4', '5'], 0, 2)"
   ]
  },
  {
   "cell_type": "code",
   "execution_count": 455,
   "metadata": {},
   "outputs": [
    {
     "data": {
      "text/plain": [
       "[['1', '2'], ['3', '4', '5']]"
      ]
     },
     "execution_count": 455,
     "metadata": {},
     "output_type": "execute_result"
    }
   ],
   "source": [
    "get_splits(['1', '2', '3', '4', '5'], 1, 4)"
   ]
  },
  {
   "cell_type": "code",
   "execution_count": 456,
   "metadata": {},
   "outputs": [],
   "source": [
    "def print_splitted(list_of_lists):\n",
    "    \"\"\"\n",
    "    prints a list of lists splitting inner lists by , and outer by ||\n",
    "    \n",
    "    :param list_of_lists: list of lists\n",
    "    \"\"\"\n",
    "    list_of_lists = [map(str, l) for l in list_of_lists]\n",
    "    list_of_lists = [', '.join(l) for l in list_of_lists]\n",
    "    print(' || '.join(list_of_lists))"
   ]
  },
  {
   "cell_type": "code",
   "execution_count": 457,
   "metadata": {},
   "outputs": [
    {
     "name": "stdout",
     "output_type": "stream",
     "text": [
      "1, 2 || 3, 4, 5\n"
     ]
    }
   ],
   "source": [
    "print_splitted(get_splits([1, 2, 3, 4, 5], 1, 4))"
   ]
  },
  {
   "cell_type": "markdown",
   "metadata": {},
   "source": [
    "**let us try to split a real list and see the clusters**"
   ]
  },
  {
   "cell_type": "code",
   "execution_count": 458,
   "metadata": {},
   "outputs": [
    {
     "name": "stdout",
     "output_type": "stream",
     "text": [
      "sharp (factor=0.95)\n",
      "слон || заяц, волк, олень || кенгуру, жираф || суслик, хомячок, кролик || пингвин, страус, носорог, крокодил || бурый медведь, белый медведь || панда || гризли || уж, еж, колобок || удав, фазан, козел\n",
      "10\n",
      "\n",
      "30th percentile\n",
      "слон, заяц, волк, олень, кенгуру, жираф, суслик, хомячок, кролик, пингвин, страус, носорог, крокодил, бурый медведь, белый медведь, панда || гризли || уж || еж || колобок || удав || фазан || козел\n",
      "8\n",
      "\n",
      "median\n",
      "слон || заяц, волк, олень, кенгуру, жираф || суслик, хомячок, кролик, пингвин, страус, носорог, крокодил || бурый медведь, белый медведь || панда || гризли || уж || еж || колобок || удав || фазан || козел\n",
      "12\n",
      "\n",
      "mean\n",
      "слон, заяц, волк, олень, кенгуру, жираф || суслик, хомячок, кролик, пингвин, страус, носорог, крокодил || бурый медведь, белый медведь || панда || гризли || уж || еж || колобок || удав || фазан || козел\n",
      "11\n"
     ]
    }
   ],
   "source": [
    "print('sharp (factor=0.95)')\n",
    "ex_animals = animals['animals'].tolist()[0]\n",
    "ids, n = sharp_change(ex_list, 0.95)\n",
    "print_splitted(get_splits(ex_animals, *ids))\n",
    "print(n)\n",
    "\n",
    "print()\n",
    "print('30th percentile')\n",
    "p30 = np.percentile(ex_list, 30)\n",
    "ids, n = threshold_cutoff(ex_list, p30)\n",
    "print_splitted(get_splits(ex_animals, *ids))\n",
    "print(n)\n",
    "\n",
    "print()\n",
    "print('median')\n",
    "ex_median = np.median(ex_list)\n",
    "ids, n = threshold_cutoff(ex_list, ex_median)\n",
    "print_splitted(get_splits(ex_animals, *ids))\n",
    "print(n)\n",
    "\n",
    "print()\n",
    "print('mean')\n",
    "ex_mean = np.mean(ex_list)\n",
    "ids, n = threshold_cutoff(ex_list, ex_mean)\n",
    "print_splitted(get_splits(ex_animals, *ids))\n",
    "print(n)"
   ]
  },
  {
   "cell_type": "markdown",
   "metadata": {},
   "source": [
    "### let us calculate number of clusters by these methods"
   ]
  },
  {
   "cell_type": "code",
   "execution_count": 459,
   "metadata": {},
   "outputs": [
    {
     "data": {
      "text/html": [
       "<div>\n",
       "<style scoped>\n",
       "    .dataframe tbody tr th:only-of-type {\n",
       "        vertical-align: middle;\n",
       "    }\n",
       "\n",
       "    .dataframe tbody tr th {\n",
       "        vertical-align: top;\n",
       "    }\n",
       "\n",
       "    .dataframe thead th {\n",
       "        text-align: right;\n",
       "    }\n",
       "</style>\n",
       "<table border=\"1\" class=\"dataframe\">\n",
       "  <thead>\n",
       "    <tr style=\"text-align: right;\">\n",
       "      <th></th>\n",
       "      <th>animals</th>\n",
       "      <th>animals_POS</th>\n",
       "      <th>cos_sim_list</th>\n",
       "      <th>oov_words</th>\n",
       "      <th>mean_cos_sim</th>\n",
       "      <th>c_cut_median</th>\n",
       "      <th>c_cut_mean</th>\n",
       "      <th>c_cut_p25</th>\n",
       "      <th>c_cut_mean_local</th>\n",
       "      <th>c_sharp_1.05</th>\n",
       "      <th>c_sharp_1.005</th>\n",
       "      <th>c_sharp_1.00001</th>\n",
       "      <th>c_sharp_0.95</th>\n",
       "      <th>c_sharp_0.8</th>\n",
       "      <th>c_sharp_0.5</th>\n",
       "    </tr>\n",
       "    <tr>\n",
       "      <th>ID</th>\n",
       "      <th></th>\n",
       "      <th></th>\n",
       "      <th></th>\n",
       "      <th></th>\n",
       "      <th></th>\n",
       "      <th></th>\n",
       "      <th></th>\n",
       "      <th></th>\n",
       "      <th></th>\n",
       "      <th></th>\n",
       "      <th></th>\n",
       "      <th></th>\n",
       "      <th></th>\n",
       "      <th></th>\n",
       "      <th></th>\n",
       "    </tr>\n",
       "  </thead>\n",
       "  <tbody>\n",
       "    <tr>\n",
       "      <td>1</td>\n",
       "      <td>[слон, заяц, волк, олень, кенгуру, жираф, сусл...</td>\n",
       "      <td>[слон_NOUN, заяц_NOUN, волк_NOUN, олень_NOUN, ...</td>\n",
       "      <td>[0.5170071, 0.67135924, 0.6578043, 0.56862366,...</td>\n",
       "      <td>0</td>\n",
       "      <td>0.516028</td>\n",
       "      <td>13</td>\n",
       "      <td>13</td>\n",
       "      <td>7</td>\n",
       "      <td>11</td>\n",
       "      <td>7</td>\n",
       "      <td>8</td>\n",
       "      <td>9</td>\n",
       "      <td>10</td>\n",
       "      <td>19</td>\n",
       "      <td>22</td>\n",
       "    </tr>\n",
       "    <tr>\n",
       "      <td>2</td>\n",
       "      <td>[собака, кошка, лошадь, кролик, заяц, волк, ме...</td>\n",
       "      <td>[собака_NOUN, кошка_NOUN, лошадь_NOUN, кролик_...</td>\n",
       "      <td>[0.7347066, 0.3801097, 0.35965052, 0.6953546, ...</td>\n",
       "      <td>0</td>\n",
       "      <td>0.596951</td>\n",
       "      <td>7</td>\n",
       "      <td>8</td>\n",
       "      <td>5</td>\n",
       "      <td>8</td>\n",
       "      <td>6</td>\n",
       "      <td>8</td>\n",
       "      <td>8</td>\n",
       "      <td>9</td>\n",
       "      <td>11</td>\n",
       "      <td>17</td>\n",
       "    </tr>\n",
       "    <tr>\n",
       "      <td>3</td>\n",
       "      <td>[собака, кошка, черепаха, слон, крокодил, обез...</td>\n",
       "      <td>[собака_NOUN, кошка_NOUN, черепаха_NOUN, слон_...</td>\n",
       "      <td>[0.7347066, 0.5041016, 0.6032447, 0.59325194, ...</td>\n",
       "      <td>1</td>\n",
       "      <td>0.609784</td>\n",
       "      <td>4</td>\n",
       "      <td>4</td>\n",
       "      <td>1</td>\n",
       "      <td>6</td>\n",
       "      <td>3</td>\n",
       "      <td>4</td>\n",
       "      <td>4</td>\n",
       "      <td>5</td>\n",
       "      <td>7</td>\n",
       "      <td>8</td>\n",
       "    </tr>\n",
       "    <tr>\n",
       "      <td>4</td>\n",
       "      <td>[кошка, мышка, собака, тигр, лев, канарейка, с...</td>\n",
       "      <td>[кошка_NOUN, мышка_NOUN, собака_NOUN, тигр_NOU...</td>\n",
       "      <td>[0.52633816, 0.3668137, 0.5475824, 0.8116844, ...</td>\n",
       "      <td>0</td>\n",
       "      <td>0.501028</td>\n",
       "      <td>14</td>\n",
       "      <td>14</td>\n",
       "      <td>11</td>\n",
       "      <td>12</td>\n",
       "      <td>9</td>\n",
       "      <td>10</td>\n",
       "      <td>10</td>\n",
       "      <td>11</td>\n",
       "      <td>11</td>\n",
       "      <td>19</td>\n",
       "    </tr>\n",
       "    <tr>\n",
       "      <td>5</td>\n",
       "      <td>[лось, медведь, лиса, волк, корова, собака, ко...</td>\n",
       "      <td>[лось_NOUN, медведь_NOUN, лиса_NOUN, волк_NOUN...</td>\n",
       "      <td>[0.73176044, 0.653271, 0.73672754, 0.43279937,...</td>\n",
       "      <td>0</td>\n",
       "      <td>0.567047</td>\n",
       "      <td>8</td>\n",
       "      <td>8</td>\n",
       "      <td>3</td>\n",
       "      <td>8</td>\n",
       "      <td>5</td>\n",
       "      <td>6</td>\n",
       "      <td>6</td>\n",
       "      <td>7</td>\n",
       "      <td>10</td>\n",
       "      <td>12</td>\n",
       "    </tr>\n",
       "  </tbody>\n",
       "</table>\n",
       "</div>"
      ],
      "text/plain": [
       "                                              animals  \\\n",
       "ID                                                      \n",
       "1   [слон, заяц, волк, олень, кенгуру, жираф, сусл...   \n",
       "2   [собака, кошка, лошадь, кролик, заяц, волк, ме...   \n",
       "3   [собака, кошка, черепаха, слон, крокодил, обез...   \n",
       "4   [кошка, мышка, собака, тигр, лев, канарейка, с...   \n",
       "5   [лось, медведь, лиса, волк, корова, собака, ко...   \n",
       "\n",
       "                                          animals_POS  \\\n",
       "ID                                                      \n",
       "1   [слон_NOUN, заяц_NOUN, волк_NOUN, олень_NOUN, ...   \n",
       "2   [собака_NOUN, кошка_NOUN, лошадь_NOUN, кролик_...   \n",
       "3   [собака_NOUN, кошка_NOUN, черепаха_NOUN, слон_...   \n",
       "4   [кошка_NOUN, мышка_NOUN, собака_NOUN, тигр_NOU...   \n",
       "5   [лось_NOUN, медведь_NOUN, лиса_NOUN, волк_NOUN...   \n",
       "\n",
       "                                         cos_sim_list  oov_words  \\\n",
       "ID                                                                 \n",
       "1   [0.5170071, 0.67135924, 0.6578043, 0.56862366,...          0   \n",
       "2   [0.7347066, 0.3801097, 0.35965052, 0.6953546, ...          0   \n",
       "3   [0.7347066, 0.5041016, 0.6032447, 0.59325194, ...          1   \n",
       "4   [0.52633816, 0.3668137, 0.5475824, 0.8116844, ...          0   \n",
       "5   [0.73176044, 0.653271, 0.73672754, 0.43279937,...          0   \n",
       "\n",
       "    mean_cos_sim  c_cut_median  c_cut_mean  c_cut_p25  c_cut_mean_local  \\\n",
       "ID                                                                        \n",
       "1       0.516028            13          13          7                11   \n",
       "2       0.596951             7           8          5                 8   \n",
       "3       0.609784             4           4          1                 6   \n",
       "4       0.501028            14          14         11                12   \n",
       "5       0.567047             8           8          3                 8   \n",
       "\n",
       "    c_sharp_1.05  c_sharp_1.005  c_sharp_1.00001  c_sharp_0.95  c_sharp_0.8  \\\n",
       "ID                                                                            \n",
       "1              7              8                9            10           19   \n",
       "2              6              8                8             9           11   \n",
       "3              3              4                4             5            7   \n",
       "4              9             10               10            11           11   \n",
       "5              5              6                6             7           10   \n",
       "\n",
       "    c_sharp_0.5  \n",
       "ID               \n",
       "1            22  \n",
       "2            17  \n",
       "3             8  \n",
       "4            19  \n",
       "5            12  "
      ]
     },
     "execution_count": 459,
     "metadata": {},
     "output_type": "execute_result"
    }
   ],
   "source": [
    "animals['c_cut_median'] = animals['cos_sim_list'].apply(lambda l: threshold_cutoff(l, median)[1])\n",
    "animals['c_cut_mean'] = animals['cos_sim_list'].apply(lambda l: threshold_cutoff(l, mean)[1])\n",
    "animals['c_cut_p25'] = animals['cos_sim_list'].apply(lambda l: threshold_cutoff(l, p25)[1])\n",
    "animals['c_cut_mean_local'] = animals['cos_sim_list'].apply(lambda l: threshold_cutoff(l, np.mean(l))[1])\n",
    "animals['c_sharp_1.05'] = animals['cos_sim_list'].apply(lambda l: sharp_change(l, 1.05)[1])\n",
    "animals['c_sharp_1.005'] = animals['cos_sim_list'].apply(lambda l: sharp_change(l, 1.005)[1])\n",
    "animals['c_sharp_1.00001'] = animals['cos_sim_list'].apply(lambda l: sharp_change(l, 1.00001)[1])\n",
    "animals['c_sharp_0.95'] = animals['cos_sim_list'].apply(lambda l: sharp_change(l, 0.95)[1])\n",
    "animals['c_sharp_0.8'] = animals['cos_sim_list'].apply(lambda l: sharp_change(l, 0.8)[1])\n",
    "animals['c_sharp_0.5'] = animals['cos_sim_list'].apply(lambda l: sharp_change(l, 0.5)[1])\n",
    "animals.head()"
   ]
  },
  {
   "cell_type": "markdown",
   "metadata": {},
   "source": [
    "## let us compare different separation methods to manual tagging"
   ]
  },
  {
   "cell_type": "code",
   "execution_count": 460,
   "metadata": {},
   "outputs": [],
   "source": [
    "def splits_to_ids(list_of_lists):\n",
    "    \"\"\"\n",
    "    gets ids of elements after which the splits are made\n",
    "    \n",
    "    :param list_of_lists: list of lists\n",
    "    :return: list of int, ids of splits\n",
    "    \"\"\"\n",
    "    out = []\n",
    "    if len(list_of_lists) == 1:  # if no splits, as only one inner list\n",
    "        return out\n",
    "    else:\n",
    "        current = 0\n",
    "        for i, l in enumerate(list_of_lists):\n",
    "            length = len(l)\n",
    "            new_split_id = current + length - 1\n",
    "            out.append(new_split_id)\n",
    "            current = new_split_id + 1\n",
    "        return out[:-1]"
   ]
  },
  {
   "cell_type": "markdown",
   "metadata": {},
   "source": [
    "let us check, that it works correctly"
   ]
  },
  {
   "cell_type": "code",
   "execution_count": 461,
   "metadata": {},
   "outputs": [
    {
     "name": "stdout",
     "output_type": "stream",
     "text": [
      "[3, 5, 12, 14, 15, 16, 19]\n",
      "[3, 5, 12, 14, 15, 16, 19]\n"
     ]
    }
   ],
   "source": [
    "ex_animals = animals['animals'].tolist()[0]\n",
    "ids, n = sharp_change(ex_list, 1.005)\n",
    "print(ids)\n",
    "print(splits_to_ids(get_splits(ex_animals, *ids)))"
   ]
  },
  {
   "cell_type": "markdown",
   "metadata": {},
   "source": [
    "**first, let us get out the manual tagging**\n",
    "\n",
    "(Причесания разметчика:\n",
    "Есть случаи, когда они переходят по ассоциации, так что слова относятся к разным кластерам, но связаны. Например утка-лебедь-рак-щука. Я размечала это как один кластер.)"
   ]
  },
  {
   "cell_type": "code",
   "execution_count": 462,
   "metadata": {},
   "outputs": [
    {
     "data": {
      "text/plain": [
       "'1 слон; заяц, волк, олень; кенгуру, жираф; суслик, хомячок, кролик; пингвин, страус; носорог, крокодил; бурый медведь, белый медведь, панда, гризли; уж, еж; колобок; удав; фазан; козел'"
      ]
     },
     "execution_count": 462,
     "metadata": {},
     "output_type": "execute_result"
    }
   ],
   "source": [
    "with open('clustered.txt', 'r', encoding='utf-8') as f:\n",
    "    lines = [l.strip() for l in f.readlines()]\n",
    "    lines = [l for l in lines if l and not l.startswith('36')]  # 36 - пустая строка\n",
    "\n",
    "lines[0]"
   ]
  },
  {
   "cell_type": "markdown",
   "metadata": {},
   "source": [
    "**let us drop out of vocabulary words** <br>\n",
    "let us strip them of POS-tags"
   ]
  },
  {
   "cell_type": "code",
   "execution_count": 463,
   "metadata": {},
   "outputs": [
    {
     "data": {
      "text/plain": [
       "['альпака_NOUN',\n",
       " 'трубкозуб_NOUN',\n",
       " 'фламинго_NOUN',\n",
       " 'вомбат_NOUN',\n",
       " 'россомаха_NOUN',\n",
       " 'собака-динго_NOUN']"
      ]
     },
     "execution_count": 463,
     "metadata": {},
     "output_type": "execute_result"
    }
   ],
   "source": [
    "oov_list"
   ]
  },
  {
   "cell_type": "code",
   "execution_count": 464,
   "metadata": {},
   "outputs": [],
   "source": [
    "def remove_POS_tags(word_list):\n",
    "    \"\"\"\n",
    "    removes \"POS tags\" to words in a word list\n",
    "    if single word is given, _NOUN tag is added\n",
    "    if a bi-gram is given, _ADJ and _NOUN tags are added\n",
    "    \n",
    "    :param word_list: list of str, words\n",
    "    :return: list of str, words with POS tags\n",
    "    \"\"\"\n",
    "    res = []\n",
    "    for j, word in enumerate(word_list):\n",
    "        if word:\n",
    "            if ' ' in word:\n",
    "                first, second = word.split()\n",
    "                first = first.split('_')[0]\n",
    "                second = second.split('_')[0]\n",
    "                res.append(first + ' ' + second)\n",
    "            else:\n",
    "                res.append(word.split('_')[0])\n",
    "    return res"
   ]
  },
  {
   "cell_type": "code",
   "execution_count": 465,
   "metadata": {},
   "outputs": [
    {
     "data": {
      "text/plain": [
       "['альпака', 'трубкозуб', 'фламинго', 'вомбат', 'россомаха', 'собака-динго']"
      ]
     },
     "execution_count": 465,
     "metadata": {},
     "output_type": "execute_result"
    }
   ],
   "source": [
    "oov_list = remove_POS_tags(oov_list)\n",
    "oov_list"
   ]
  },
  {
   "cell_type": "code",
   "execution_count": 466,
   "metadata": {},
   "outputs": [
    {
     "data": {
      "text/plain": [
       "[['слон'],\n",
       " ['заяц', 'волк', 'олень'],\n",
       " ['кенгуру', 'жираф'],\n",
       " ['суслик', 'хомячок', 'кролик'],\n",
       " ['пингвин', 'страус'],\n",
       " ['носорог', 'крокодил'],\n",
       " ['бурый медведь', 'белый медведь', 'панда', 'гризли'],\n",
       " ['уж', 'еж'],\n",
       " ['колобок'],\n",
       " ['удав'],\n",
       " ['фазан'],\n",
       " ['козел']]"
      ]
     },
     "execution_count": 466,
     "metadata": {},
     "output_type": "execute_result"
    }
   ],
   "source": [
    "lines = [l.split(' ', 1) for l in lines]   # separate ids\n",
    "lines = [[int(l[0]), l[1].split(';')] for l in lines]  # split clusters (by ;)\n",
    "lines = [[l[0], [c.split(',') for c in l[1]]] for l in lines]  # split inside clusters (by ,)\\\n",
    "lines = [[l[0], [[w.strip() for w in c if w not in oov_list] for c in l[1]]] for l in lines]  # strip words and remove oov words\n",
    "correct_ids = dict([(l[0], splits_to_ids(l[1])) for l in lines])\n",
    "lines = dict([tuple(el) for el in lines])\n",
    "lines[1]"
   ]
  },
  {
   "cell_type": "code",
   "execution_count": 467,
   "metadata": {},
   "outputs": [
    {
     "data": {
      "text/plain": [
       "[0, 3, 5, 8, 10, 12, 16, 18, 19, 20, 21]"
      ]
     },
     "execution_count": 467,
     "metadata": {},
     "output_type": "execute_result"
    }
   ],
   "source": [
    "correct_ids[1]"
   ]
  },
  {
   "cell_type": "markdown",
   "metadata": {},
   "source": [
    "let us add correct numbers of splits to animals dataframe"
   ]
  },
  {
   "cell_type": "code",
   "execution_count": 468,
   "metadata": {},
   "outputs": [
    {
     "data": {
      "text/html": [
       "<div>\n",
       "<style scoped>\n",
       "    .dataframe tbody tr th:only-of-type {\n",
       "        vertical-align: middle;\n",
       "    }\n",
       "\n",
       "    .dataframe tbody tr th {\n",
       "        vertical-align: top;\n",
       "    }\n",
       "\n",
       "    .dataframe thead th {\n",
       "        text-align: right;\n",
       "    }\n",
       "</style>\n",
       "<table border=\"1\" class=\"dataframe\">\n",
       "  <thead>\n",
       "    <tr style=\"text-align: right;\">\n",
       "      <th></th>\n",
       "      <th>animals</th>\n",
       "      <th>animals_POS</th>\n",
       "      <th>cos_sim_list</th>\n",
       "      <th>oov_words</th>\n",
       "      <th>mean_cos_sim</th>\n",
       "      <th>c_cut_median</th>\n",
       "      <th>c_cut_mean</th>\n",
       "      <th>c_cut_p25</th>\n",
       "      <th>c_cut_mean_local</th>\n",
       "      <th>c_sharp_1.05</th>\n",
       "      <th>c_sharp_1.005</th>\n",
       "      <th>c_sharp_1.00001</th>\n",
       "      <th>c_sharp_0.95</th>\n",
       "      <th>c_sharp_0.8</th>\n",
       "      <th>c_sharp_0.5</th>\n",
       "      <th>correct_c_num</th>\n",
       "    </tr>\n",
       "    <tr>\n",
       "      <th>ID</th>\n",
       "      <th></th>\n",
       "      <th></th>\n",
       "      <th></th>\n",
       "      <th></th>\n",
       "      <th></th>\n",
       "      <th></th>\n",
       "      <th></th>\n",
       "      <th></th>\n",
       "      <th></th>\n",
       "      <th></th>\n",
       "      <th></th>\n",
       "      <th></th>\n",
       "      <th></th>\n",
       "      <th></th>\n",
       "      <th></th>\n",
       "      <th></th>\n",
       "    </tr>\n",
       "  </thead>\n",
       "  <tbody>\n",
       "    <tr>\n",
       "      <td>1</td>\n",
       "      <td>[слон, заяц, волк, олень, кенгуру, жираф, сусл...</td>\n",
       "      <td>[слон_NOUN, заяц_NOUN, волк_NOUN, олень_NOUN, ...</td>\n",
       "      <td>[0.5170071, 0.67135924, 0.6578043, 0.56862366,...</td>\n",
       "      <td>0</td>\n",
       "      <td>0.516028</td>\n",
       "      <td>13</td>\n",
       "      <td>13</td>\n",
       "      <td>7</td>\n",
       "      <td>11</td>\n",
       "      <td>7</td>\n",
       "      <td>8</td>\n",
       "      <td>9</td>\n",
       "      <td>10</td>\n",
       "      <td>19</td>\n",
       "      <td>22</td>\n",
       "      <td>11</td>\n",
       "    </tr>\n",
       "    <tr>\n",
       "      <td>2</td>\n",
       "      <td>[собака, кошка, лошадь, кролик, заяц, волк, ме...</td>\n",
       "      <td>[собака_NOUN, кошка_NOUN, лошадь_NOUN, кролик_...</td>\n",
       "      <td>[0.7347066, 0.3801097, 0.35965052, 0.6953546, ...</td>\n",
       "      <td>0</td>\n",
       "      <td>0.596951</td>\n",
       "      <td>7</td>\n",
       "      <td>8</td>\n",
       "      <td>5</td>\n",
       "      <td>8</td>\n",
       "      <td>6</td>\n",
       "      <td>8</td>\n",
       "      <td>8</td>\n",
       "      <td>9</td>\n",
       "      <td>11</td>\n",
       "      <td>17</td>\n",
       "      <td>6</td>\n",
       "    </tr>\n",
       "    <tr>\n",
       "      <td>3</td>\n",
       "      <td>[собака, кошка, черепаха, слон, крокодил, обез...</td>\n",
       "      <td>[собака_NOUN, кошка_NOUN, черепаха_NOUN, слон_...</td>\n",
       "      <td>[0.7347066, 0.5041016, 0.6032447, 0.59325194, ...</td>\n",
       "      <td>1</td>\n",
       "      <td>0.609784</td>\n",
       "      <td>4</td>\n",
       "      <td>4</td>\n",
       "      <td>1</td>\n",
       "      <td>6</td>\n",
       "      <td>3</td>\n",
       "      <td>4</td>\n",
       "      <td>4</td>\n",
       "      <td>5</td>\n",
       "      <td>7</td>\n",
       "      <td>8</td>\n",
       "      <td>4</td>\n",
       "    </tr>\n",
       "    <tr>\n",
       "      <td>4</td>\n",
       "      <td>[кошка, мышка, собака, тигр, лев, канарейка, с...</td>\n",
       "      <td>[кошка_NOUN, мышка_NOUN, собака_NOUN, тигр_NOU...</td>\n",
       "      <td>[0.52633816, 0.3668137, 0.5475824, 0.8116844, ...</td>\n",
       "      <td>0</td>\n",
       "      <td>0.501028</td>\n",
       "      <td>14</td>\n",
       "      <td>14</td>\n",
       "      <td>11</td>\n",
       "      <td>12</td>\n",
       "      <td>9</td>\n",
       "      <td>10</td>\n",
       "      <td>10</td>\n",
       "      <td>11</td>\n",
       "      <td>11</td>\n",
       "      <td>19</td>\n",
       "      <td>10</td>\n",
       "    </tr>\n",
       "    <tr>\n",
       "      <td>5</td>\n",
       "      <td>[лось, медведь, лиса, волк, корова, собака, ко...</td>\n",
       "      <td>[лось_NOUN, медведь_NOUN, лиса_NOUN, волк_NOUN...</td>\n",
       "      <td>[0.73176044, 0.653271, 0.73672754, 0.43279937,...</td>\n",
       "      <td>0</td>\n",
       "      <td>0.567047</td>\n",
       "      <td>8</td>\n",
       "      <td>8</td>\n",
       "      <td>3</td>\n",
       "      <td>8</td>\n",
       "      <td>5</td>\n",
       "      <td>6</td>\n",
       "      <td>6</td>\n",
       "      <td>7</td>\n",
       "      <td>10</td>\n",
       "      <td>12</td>\n",
       "      <td>6</td>\n",
       "    </tr>\n",
       "  </tbody>\n",
       "</table>\n",
       "</div>"
      ],
      "text/plain": [
       "                                              animals  \\\n",
       "ID                                                      \n",
       "1   [слон, заяц, волк, олень, кенгуру, жираф, сусл...   \n",
       "2   [собака, кошка, лошадь, кролик, заяц, волк, ме...   \n",
       "3   [собака, кошка, черепаха, слон, крокодил, обез...   \n",
       "4   [кошка, мышка, собака, тигр, лев, канарейка, с...   \n",
       "5   [лось, медведь, лиса, волк, корова, собака, ко...   \n",
       "\n",
       "                                          animals_POS  \\\n",
       "ID                                                      \n",
       "1   [слон_NOUN, заяц_NOUN, волк_NOUN, олень_NOUN, ...   \n",
       "2   [собака_NOUN, кошка_NOUN, лошадь_NOUN, кролик_...   \n",
       "3   [собака_NOUN, кошка_NOUN, черепаха_NOUN, слон_...   \n",
       "4   [кошка_NOUN, мышка_NOUN, собака_NOUN, тигр_NOU...   \n",
       "5   [лось_NOUN, медведь_NOUN, лиса_NOUN, волк_NOUN...   \n",
       "\n",
       "                                         cos_sim_list  oov_words  \\\n",
       "ID                                                                 \n",
       "1   [0.5170071, 0.67135924, 0.6578043, 0.56862366,...          0   \n",
       "2   [0.7347066, 0.3801097, 0.35965052, 0.6953546, ...          0   \n",
       "3   [0.7347066, 0.5041016, 0.6032447, 0.59325194, ...          1   \n",
       "4   [0.52633816, 0.3668137, 0.5475824, 0.8116844, ...          0   \n",
       "5   [0.73176044, 0.653271, 0.73672754, 0.43279937,...          0   \n",
       "\n",
       "    mean_cos_sim  c_cut_median  c_cut_mean  c_cut_p25  c_cut_mean_local  \\\n",
       "ID                                                                        \n",
       "1       0.516028            13          13          7                11   \n",
       "2       0.596951             7           8          5                 8   \n",
       "3       0.609784             4           4          1                 6   \n",
       "4       0.501028            14          14         11                12   \n",
       "5       0.567047             8           8          3                 8   \n",
       "\n",
       "    c_sharp_1.05  c_sharp_1.005  c_sharp_1.00001  c_sharp_0.95  c_sharp_0.8  \\\n",
       "ID                                                                            \n",
       "1              7              8                9            10           19   \n",
       "2              6              8                8             9           11   \n",
       "3              3              4                4             5            7   \n",
       "4              9             10               10            11           11   \n",
       "5              5              6                6             7           10   \n",
       "\n",
       "    c_sharp_0.5  correct_c_num  \n",
       "ID                              \n",
       "1            22             11  \n",
       "2            17              6  \n",
       "3             8              4  \n",
       "4            19             10  \n",
       "5            12              6  "
      ]
     },
     "execution_count": 468,
     "metadata": {},
     "output_type": "execute_result"
    }
   ],
   "source": [
    "animals['correct_c_num'] = clustering['correct_cut'].apply(len)\n",
    "animals.head()"
   ]
  },
  {
   "cell_type": "code",
   "execution_count": 469,
   "metadata": {},
   "outputs": [],
   "source": [
    "model_name = 'tayga_upos_skipgram_300_2_2019'\n",
    "out = animals.drop(columns = ['animals', 'animals_POS', 'cos_sim_list'])\n",
    "out.to_csv(model_name + '.csv', index = False)"
   ]
  },
  {
   "cell_type": "markdown",
   "metadata": {},
   "source": [
    "### let us compare absolut number of splits"
   ]
  },
  {
   "cell_type": "code",
   "execution_count": 470,
   "metadata": {},
   "outputs": [],
   "source": [
    "split_nums_df = animals.drop(columns = ['animals', 'animals_POS', 'cos_sim_list', 'oov_words', 'mean_cos_sim'])"
   ]
  },
  {
   "cell_type": "markdown",
   "metadata": {},
   "source": [
    "**let us see average cluster numbres for each method**"
   ]
  },
  {
   "cell_type": "code",
   "execution_count": 471,
   "metadata": {
    "scrolled": false
   },
   "outputs": [
    {
     "data": {
      "text/plain": [
       "c_cut_median         9.086957\n",
       "c_cut_mean           9.260870\n",
       "c_cut_p25            5.043478\n",
       "c_cut_mean_local     9.173913\n",
       "c_sharp_1.05         6.173913\n",
       "c_sharp_1.005        6.913043\n",
       "c_sharp_1.00001      7.043478\n",
       "c_sharp_0.95         9.086957\n",
       "c_sharp_0.8         12.586957\n",
       "c_sharp_0.5         16.630435\n",
       "correct_c_num        9.956522\n",
       "dtype: float64"
      ]
     },
     "execution_count": 471,
     "metadata": {},
     "output_type": "execute_result"
    }
   ],
   "source": [
    "split_nums_df.apply(np.mean)"
   ]
  },
  {
   "cell_type": "markdown",
   "metadata": {},
   "source": [
    "**let us chect the normality**"
   ]
  },
  {
   "cell_type": "code",
   "execution_count": 472,
   "metadata": {},
   "outputs": [
    {
     "data": {
      "text/plain": [
       "c_cut_median        0.614469\n",
       "c_cut_mean          0.430152\n",
       "c_cut_p25           0.085242\n",
       "c_cut_mean_local    0.100790\n",
       "c_sharp_1.05        0.608577\n",
       "c_sharp_1.005       0.204767\n",
       "c_sharp_1.00001     0.165279\n",
       "c_sharp_0.95        0.213181\n",
       "c_sharp_0.8         0.090579\n",
       "c_sharp_0.5         0.048409\n",
       "correct_c_num       0.009746\n",
       "dtype: float64"
      ]
     },
     "execution_count": 472,
     "metadata": {},
     "output_type": "execute_result"
    }
   ],
   "source": [
    "split_nums_df.apply(lambda l: stats.normaltest(l)[1])"
   ]
  },
  {
   "cell_type": "markdown",
   "metadata": {},
   "source": [
    "**if we take a p of 0.05, all split numbers, but correct partitioning and sharp change as proposed in the original paper (factor of 0.5), are normally distributed!**<br>\n",
    "oh, well, let us use non-parametric correlations, like Spermans"
   ]
  },
  {
   "cell_type": "code",
   "execution_count": 473,
   "metadata": {},
   "outputs": [
    {
     "data": {
      "text/plain": [
       "SpearmanrResult(correlation=0.6214436683884343, pvalue=4.0469163097652925e-06)"
      ]
     },
     "execution_count": 473,
     "metadata": {},
     "output_type": "execute_result"
    }
   ],
   "source": [
    "stats.spearmanr(split_nums_df['correct_c_num'], split_nums_df['c_cut_median'])"
   ]
  },
  {
   "cell_type": "code",
   "execution_count": 474,
   "metadata": {},
   "outputs": [
    {
     "name": "stdout",
     "output_type": "stream",
     "text": [
      "correlation of c_cut_median with correct number of splits:\n",
      "\tp: 4.0469163097652925e-06\n",
      "\tr: 0.6214436683884343\n",
      "\tsig: True\n",
      "correlation of c_cut_mean with correct number of splits:\n",
      "\tp: 3.722094283957175e-06\n",
      "\tr: 0.6232568326853456\n",
      "\tsig: True\n",
      "correlation of c_cut_p25 with correct number of splits:\n",
      "\tp: 2.7514712342560983e-05\n",
      "\tr: 0.5765069453197594\n",
      "\tsig: True\n",
      "correlation of c_cut_mean_local with correct number of splits:\n",
      "\tp: 1.9853111448249653e-07\n",
      "\tr: 0.6802878553900572\n",
      "\tsig: True\n",
      "correlation of c_sharp_1.05 with correct number of splits:\n",
      "\tp: 8.032340532816293e-08\n",
      "\tr: 0.6956712030813524\n",
      "\tsig: True\n",
      "correlation of c_sharp_1.005 with correct number of splits:\n",
      "\tp: 8.341717284279216e-06\n",
      "\tr: 0.6052768826407953\n",
      "\tsig: True\n",
      "correlation of c_sharp_1.00001 with correct number of splits:\n",
      "\tp: 2.0084030255375797e-05\n",
      "\tr: 0.5843664734534874\n",
      "\tsig: True\n",
      "correlation of c_sharp_0.95 with correct number of splits:\n",
      "\tp: 9.801375176047354e-08\n",
      "\tr: 0.6923668139256448\n",
      "\tsig: True\n",
      "correlation of c_sharp_0.8 with correct number of splits:\n",
      "\tp: 4.1930173824102744e-08\n",
      "\tr: 0.7061654382255592\n",
      "\tsig: True\n",
      "correlation of c_sharp_0.5 with correct number of splits:\n",
      "\tp: 7.530343822007743e-09\n",
      "\tr: 0.7318565142680403\n",
      "\tsig: True\n"
     ]
    }
   ],
   "source": [
    "corrs = {}\n",
    "for col in list(split_nums_df.drop(['correct_c_num'], axis=1)):\n",
    "    res = stats.spearmanr(split_nums_df['correct_c_num'], split_nums_df[col])\n",
    "    print(f'correlation of {col} with correct number of splits:\\n\\tp: {res[1]}\\n\\tr: {res[0]}\\n\\tsig: {res[1]<0.05}')\n",
    "    corrs[col] = (res[1], res[0], res[1]<0.05)"
   ]
  },
  {
   "cell_type": "markdown",
   "metadata": {},
   "source": [
    "**as we can see, all methods of getting the _number_ of splits is ok at approximating manual calculation, the best being**\n",
    "- cutting at the sharp changes with factors 0.5, 0.95, 0.8, 1.05; r$\\approx$0.73 for 0.5, r$\\approx$0.7 for others\n",
    "- cutting at the mean cosine similarity within the list (r$\\approx$0.7)\n",
    "\n",
    "however, we know that the factor of 0.5 produces way too many splits, and the best at approximating not the ranks but the actual numbers are probably the ones with approximately the same mean split numbers (c_sharp_0.95 and c_cut_mean_local)"
   ]
  },
  {
   "cell_type": "markdown",
   "metadata": {},
   "source": [
    "### let us compare split positioning"
   ]
  },
  {
   "cell_type": "code",
   "execution_count": 555,
   "metadata": {
    "scrolled": false
   },
   "outputs": [
    {
     "data": {
      "text/html": [
       "<div>\n",
       "<style scoped>\n",
       "    .dataframe tbody tr th:only-of-type {\n",
       "        vertical-align: middle;\n",
       "    }\n",
       "\n",
       "    .dataframe tbody tr th {\n",
       "        vertical-align: top;\n",
       "    }\n",
       "\n",
       "    .dataframe thead th {\n",
       "        text-align: right;\n",
       "    }\n",
       "</style>\n",
       "<table border=\"1\" class=\"dataframe\">\n",
       "  <thead>\n",
       "    <tr style=\"text-align: right;\">\n",
       "      <th></th>\n",
       "      <th>cos_sim_list</th>\n",
       "      <th>correct_cut</th>\n",
       "      <th>c_cut_median</th>\n",
       "      <th>c_cut_mean</th>\n",
       "      <th>c_cut_p25</th>\n",
       "      <th>c_cut_mean_local</th>\n",
       "      <th>c_sharp_1.05</th>\n",
       "      <th>c_sharp_1.00001</th>\n",
       "      <th>c_sharp_0.95</th>\n",
       "      <th>c_sharp_0.8</th>\n",
       "      <th>c_sharp_0.5</th>\n",
       "      <th>possible_splits</th>\n",
       "    </tr>\n",
       "    <tr>\n",
       "      <th>ID</th>\n",
       "      <th></th>\n",
       "      <th></th>\n",
       "      <th></th>\n",
       "      <th></th>\n",
       "      <th></th>\n",
       "      <th></th>\n",
       "      <th></th>\n",
       "      <th></th>\n",
       "      <th></th>\n",
       "      <th></th>\n",
       "      <th></th>\n",
       "      <th></th>\n",
       "    </tr>\n",
       "  </thead>\n",
       "  <tbody>\n",
       "    <tr>\n",
       "      <td>1</td>\n",
       "      <td>[0.5170071, 0.67135924, 0.6578043, 0.56862366,...</td>\n",
       "      <td>[0, 3, 5, 8, 10, 12, 16, 18, 19, 20, 21]</td>\n",
       "      <td>[0, 5, 8, 12, 14, 15, 16, 17, 18, 19, 20, 21]</td>\n",
       "      <td>[0, 5, 8, 12, 14, 15, 16, 17, 18, 19, 20, 21]</td>\n",
       "      <td>[15, 16, 17, 19, 20, 21]</td>\n",
       "      <td>[5, 12, 14, 15, 16, 17, 18, 19, 20, 21]</td>\n",
       "      <td>[5, 12, 14, 15, 16, 19]</td>\n",
       "      <td>[3, 5, 8, 12, 14, 15, 16, 19]</td>\n",
       "      <td>[0, 3, 5, 8, 12, 14, 15, 16, 19]</td>\n",
       "      <td>[0, 2, 3, 4, 5, 6, 7, 8, 9, 10, 11, 12, 14, 15...</td>\n",
       "      <td>[0, 1, 2, 3, 4, 5, 6, 7, 8, 9, 10, 11, 12, 13,...</td>\n",
       "      <td>22</td>\n",
       "    </tr>\n",
       "    <tr>\n",
       "      <td>2</td>\n",
       "      <td>[0.7347066, 0.3801097, 0.35965052, 0.6953546, ...</td>\n",
       "      <td>[2, 6, 8, 12, 13, 14]</td>\n",
       "      <td>[1, 2, 9, 12, 14, 15]</td>\n",
       "      <td>[1, 2, 9, 12, 13, 14, 15]</td>\n",
       "      <td>[1, 2, 12, 14]</td>\n",
       "      <td>[1, 2, 9, 12, 13, 14, 15]</td>\n",
       "      <td>[1, 2, 9, 12, 14]</td>\n",
       "      <td>[1, 2, 6, 8, 9, 12, 14]</td>\n",
       "      <td>[0, 1, 2, 6, 8, 9, 12, 14]</td>\n",
       "      <td>[0, 1, 2, 6, 7, 8, 9, 12, 14, 15]</td>\n",
       "      <td>[0, 1, 2, 3, 4, 5, 6, 7, 8, 9, 10, 11, 12, 13,...</td>\n",
       "      <td>16</td>\n",
       "    </tr>\n",
       "    <tr>\n",
       "      <td>3</td>\n",
       "      <td>[0.7347066, 0.5041016, 0.6032447, 0.59325194, ...</td>\n",
       "      <td>[2, 5, 7, 8]</td>\n",
       "      <td>[1, 4, 5]</td>\n",
       "      <td>[1, 4, 5]</td>\n",
       "      <td>[]</td>\n",
       "      <td>[1, 2, 3, 4, 5]</td>\n",
       "      <td>[1, 5]</td>\n",
       "      <td>[1, 4, 5]</td>\n",
       "      <td>[0, 1, 4, 5]</td>\n",
       "      <td>[0, 1, 2, 3, 4, 5]</td>\n",
       "      <td>[0, 1, 2, 3, 4, 5, 6]</td>\n",
       "      <td>7</td>\n",
       "    </tr>\n",
       "    <tr>\n",
       "      <td>4</td>\n",
       "      <td>[0.52633816, 0.3668137, 0.5475824, 0.8116844, ...</td>\n",
       "      <td>[2, 4, 7, 9, 11, 12, 15, 16, 18, 19]</td>\n",
       "      <td>[0, 1, 2, 4, 7, 9, 11, 12, 15, 16, 17, 18, 19]</td>\n",
       "      <td>[0, 1, 2, 4, 7, 9, 11, 12, 15, 16, 17, 18, 19]</td>\n",
       "      <td>[1, 4, 7, 9, 11, 12, 15, 16, 18, 19]</td>\n",
       "      <td>[1, 4, 7, 9, 11, 12, 15, 16, 17, 18, 19]</td>\n",
       "      <td>[1, 4, 7, 9, 11, 15, 16, 19]</td>\n",
       "      <td>[1, 4, 7, 9, 11, 15, 16, 18, 19]</td>\n",
       "      <td>[0, 1, 4, 7, 9, 11, 15, 16, 18, 19]</td>\n",
       "      <td>[0, 1, 4, 7, 9, 11, 15, 16, 18, 19]</td>\n",
       "      <td>[0, 1, 2, 3, 4, 5, 6, 7, 8, 9, 10, 11, 14, 15,...</td>\n",
       "      <td>20</td>\n",
       "    </tr>\n",
       "    <tr>\n",
       "      <td>5</td>\n",
       "      <td>[0.73176044, 0.653271, 0.73672754, 0.43279937,...</td>\n",
       "      <td>[2, 5, 6, 7, 8, 9]</td>\n",
       "      <td>[3, 4, 6, 7, 8, 9, 10]</td>\n",
       "      <td>[3, 4, 6, 7, 8, 9, 10]</td>\n",
       "      <td>[3, 8]</td>\n",
       "      <td>[3, 4, 6, 7, 8, 9, 10]</td>\n",
       "      <td>[1, 3, 6, 8]</td>\n",
       "      <td>[1, 3, 6, 7, 8]</td>\n",
       "      <td>[0, 1, 3, 6, 7, 8]</td>\n",
       "      <td>[0, 1, 2, 3, 6, 7, 8, 9, 10]</td>\n",
       "      <td>[0, 1, 2, 3, 4, 5, 6, 7, 8, 9, 10]</td>\n",
       "      <td>11</td>\n",
       "    </tr>\n",
       "  </tbody>\n",
       "</table>\n",
       "</div>"
      ],
      "text/plain": [
       "                                         cos_sim_list  \\\n",
       "ID                                                      \n",
       "1   [0.5170071, 0.67135924, 0.6578043, 0.56862366,...   \n",
       "2   [0.7347066, 0.3801097, 0.35965052, 0.6953546, ...   \n",
       "3   [0.7347066, 0.5041016, 0.6032447, 0.59325194, ...   \n",
       "4   [0.52633816, 0.3668137, 0.5475824, 0.8116844, ...   \n",
       "5   [0.73176044, 0.653271, 0.73672754, 0.43279937,...   \n",
       "\n",
       "                                 correct_cut  \\\n",
       "ID                                             \n",
       "1   [0, 3, 5, 8, 10, 12, 16, 18, 19, 20, 21]   \n",
       "2                      [2, 6, 8, 12, 13, 14]   \n",
       "3                               [2, 5, 7, 8]   \n",
       "4       [2, 4, 7, 9, 11, 12, 15, 16, 18, 19]   \n",
       "5                         [2, 5, 6, 7, 8, 9]   \n",
       "\n",
       "                                      c_cut_median  \\\n",
       "ID                                                   \n",
       "1    [0, 5, 8, 12, 14, 15, 16, 17, 18, 19, 20, 21]   \n",
       "2                            [1, 2, 9, 12, 14, 15]   \n",
       "3                                        [1, 4, 5]   \n",
       "4   [0, 1, 2, 4, 7, 9, 11, 12, 15, 16, 17, 18, 19]   \n",
       "5                           [3, 4, 6, 7, 8, 9, 10]   \n",
       "\n",
       "                                        c_cut_mean  \\\n",
       "ID                                                   \n",
       "1    [0, 5, 8, 12, 14, 15, 16, 17, 18, 19, 20, 21]   \n",
       "2                        [1, 2, 9, 12, 13, 14, 15]   \n",
       "3                                        [1, 4, 5]   \n",
       "4   [0, 1, 2, 4, 7, 9, 11, 12, 15, 16, 17, 18, 19]   \n",
       "5                           [3, 4, 6, 7, 8, 9, 10]   \n",
       "\n",
       "                               c_cut_p25  \\\n",
       "ID                                         \n",
       "1               [15, 16, 17, 19, 20, 21]   \n",
       "2                         [1, 2, 12, 14]   \n",
       "3                                     []   \n",
       "4   [1, 4, 7, 9, 11, 12, 15, 16, 18, 19]   \n",
       "5                                 [3, 8]   \n",
       "\n",
       "                            c_cut_mean_local                  c_sharp_1.05  \\\n",
       "ID                                                                           \n",
       "1    [5, 12, 14, 15, 16, 17, 18, 19, 20, 21]       [5, 12, 14, 15, 16, 19]   \n",
       "2                  [1, 2, 9, 12, 13, 14, 15]             [1, 2, 9, 12, 14]   \n",
       "3                            [1, 2, 3, 4, 5]                        [1, 5]   \n",
       "4   [1, 4, 7, 9, 11, 12, 15, 16, 17, 18, 19]  [1, 4, 7, 9, 11, 15, 16, 19]   \n",
       "5                     [3, 4, 6, 7, 8, 9, 10]                  [1, 3, 6, 8]   \n",
       "\n",
       "                     c_sharp_1.00001                         c_sharp_0.95  \\\n",
       "ID                                                                          \n",
       "1      [3, 5, 8, 12, 14, 15, 16, 19]     [0, 3, 5, 8, 12, 14, 15, 16, 19]   \n",
       "2            [1, 2, 6, 8, 9, 12, 14]           [0, 1, 2, 6, 8, 9, 12, 14]   \n",
       "3                          [1, 4, 5]                         [0, 1, 4, 5]   \n",
       "4   [1, 4, 7, 9, 11, 15, 16, 18, 19]  [0, 1, 4, 7, 9, 11, 15, 16, 18, 19]   \n",
       "5                    [1, 3, 6, 7, 8]                   [0, 1, 3, 6, 7, 8]   \n",
       "\n",
       "                                          c_sharp_0.8  \\\n",
       "ID                                                      \n",
       "1   [0, 2, 3, 4, 5, 6, 7, 8, 9, 10, 11, 12, 14, 15...   \n",
       "2                   [0, 1, 2, 6, 7, 8, 9, 12, 14, 15]   \n",
       "3                                  [0, 1, 2, 3, 4, 5]   \n",
       "4                 [0, 1, 4, 7, 9, 11, 15, 16, 18, 19]   \n",
       "5                        [0, 1, 2, 3, 6, 7, 8, 9, 10]   \n",
       "\n",
       "                                          c_sharp_0.5  possible_splits  \n",
       "ID                                                                      \n",
       "1   [0, 1, 2, 3, 4, 5, 6, 7, 8, 9, 10, 11, 12, 13,...               22  \n",
       "2   [0, 1, 2, 3, 4, 5, 6, 7, 8, 9, 10, 11, 12, 13,...               16  \n",
       "3                               [0, 1, 2, 3, 4, 5, 6]                7  \n",
       "4   [0, 1, 2, 3, 4, 5, 6, 7, 8, 9, 10, 11, 14, 15,...               20  \n",
       "5                  [0, 1, 2, 3, 4, 5, 6, 7, 8, 9, 10]               11  "
      ]
     },
     "execution_count": 555,
     "metadata": {},
     "output_type": "execute_result"
    }
   ],
   "source": [
    "clustering = animals[['cos_sim_list']].copy()\n",
    "clustering['correct_cut'] = pd.Series(correct_ids)\n",
    "clustering['c_cut_median'] = clustering['cos_sim_list'].apply(lambda l: threshold_cutoff(l, median)[0])\n",
    "clustering['c_cut_mean'] = clustering['cos_sim_list'].apply(lambda l: threshold_cutoff(l, mean)[0])\n",
    "clustering['c_cut_p25'] = clustering['cos_sim_list'].apply(lambda l: threshold_cutoff(l, p25)[0])\n",
    "clustering['c_cut_mean_local'] = clustering['cos_sim_list'].apply(lambda l: threshold_cutoff(l, np.mean(l))[0])\n",
    "clustering['c_sharp_1.05'] = clustering['cos_sim_list'].apply(lambda l: sharp_change(l, 1.05)[0])\n",
    "clustering['c_sharp_1.00001'] = clustering['cos_sim_list'].apply(lambda l: sharp_change(l, 1.00005)[0])\n",
    "clustering['c_sharp_0.95'] = clustering['cos_sim_list'].apply(lambda l: sharp_change(l, 0.95)[0])\n",
    "clustering['c_sharp_0.8'] = clustering['cos_sim_list'].apply(lambda l: sharp_change(l, 0.8)[0])\n",
    "clustering['c_sharp_0.5'] = clustering['cos_sim_list'].apply(lambda l: sharp_change(l, 0.5)[0])\n",
    "clustering['possible_splits'] = clustering['cos_sim_list'].apply(lambda l: len(l))\n",
    "clustering.head()"
   ]
  },
  {
   "cell_type": "code",
   "execution_count": 570,
   "metadata": {},
   "outputs": [],
   "source": [
    "def get_metrics(correct_splits_list, predicted_splits_list, total_splits_num):\n",
    "    \"\"\"\n",
    "    gets accuracy, precision, recall and f-measure of two lists of entries\n",
    "    \n",
    "    :param predicted_splits_list: list, correct members\n",
    "    :param predicted_list: list, predicted members\n",
    "    :param total_splits_num: int, maximum of possible splits\n",
    "    :return a: float, accuracy\n",
    "    :return p: float, precision\n",
    "    :return r: float, recall\n",
    "    :return f1: float, f1-measure\n",
    "    \"\"\"\n",
    "    cor = set(correct_splits_list)\n",
    "    pred = set(predicted_splits_list)\n",
    "    tp = len(cor.intersection(pred))\n",
    "    tn = total_splits_num - len(cor)\n",
    "    fp = len(pred) - tp\n",
    "    fn = len(cor) - tp\n",
    "    a = (tp + tn) / total_splits_num\n",
    "    if not pred:\n",
    "        p = 0\n",
    "    else:\n",
    "        p = tp / len(pred)\n",
    "    if not cor:\n",
    "        r = 0\n",
    "    else:\n",
    "        r = tp / len(cor)\n",
    "    if not p + r:\n",
    "        f1 = 0\n",
    "    else:\n",
    "        f1 = 2 * p * r / (p + r)\n",
    "    return a, p, r, f1"
   ]
  },
  {
   "cell_type": "code",
   "execution_count": 582,
   "metadata": {},
   "outputs": [
    {
     "data": {
      "text/plain": [
       "(1.0, 0.2, 1.0, 0.33333333333333337)"
      ]
     },
     "execution_count": 582,
     "metadata": {},
     "output_type": "execute_result"
    }
   ],
   "source": [
    "get_metrics([0,1], range(10), 10)"
   ]
  },
  {
   "cell_type": "code",
   "execution_count": 571,
   "metadata": {},
   "outputs": [
    {
     "data": {
      "text/plain": [
       "(0.48, 1.0, 0.48, 0.6486486486486487)"
      ]
     },
     "execution_count": 571,
     "metadata": {},
     "output_type": "execute_result"
    }
   ],
   "source": [
    "id27 = clustering.loc[27]\n",
    "get_metrics(id27['correct_cut'], id27['c_cut_mean_local'], id27['possible_splits'])"
   ]
  },
  {
   "cell_type": "code",
   "execution_count": 566,
   "metadata": {},
   "outputs": [],
   "source": [
    "def get_average_metrics(df, correct_col, predicted_col, total_length_col):\n",
    "    \"\"\"\n",
    "    calculates average accuracy, precision, recall and f1-measure for a df with lists of entries\n",
    "    \n",
    "    :param df: pandas DataFrame, to search in\n",
    "    :param correct_col: str, column name with lists of correct entries\n",
    "    :param predicted_col: str, column name with lists of predicted entries\n",
    "    :param total_length_col: str, column name with ints (numbers of posssible entries)\n",
    "    :return a: float, mean accuracy\n",
    "    :return p: float, mean precision\n",
    "    :return r: float, mean recall\n",
    "    :return f1: float, mean f1-measure\n",
    "    \"\"\"\n",
    "    for i in clustering.index:\n",
    "         m.append(get_metrics(clustering.loc[i][correct_col], \n",
    "                                   clustering.loc[i][predicted_col], \n",
    "                                   clustering.loc[i][total_length_col]))\n",
    "    return np.mean(m, axis=0)"
   ]
  },
  {
   "cell_type": "code",
   "execution_count": 498,
   "metadata": {},
   "outputs": [
    {
     "data": {
      "text/plain": [
       "['c_cut_median',\n",
       " 'c_cut_mean',\n",
       " 'c_cut_p25',\n",
       " 'c_cut_mean_local',\n",
       " 'c_sharp_1.05',\n",
       " 'c_sharp_1.00001',\n",
       " 'c_sharp_0.95',\n",
       " 'c_sharp_0.8',\n",
       " 'c_sharp_0.5']"
      ]
     },
     "execution_count": 498,
     "metadata": {},
     "output_type": "execute_result"
    }
   ],
   "source": [
    "methods = list(clustering.drop(['correct_cut', 'possible_splits', 'cos_sim_list'], axis=1))"
   ]
  },
  {
   "cell_type": "code",
   "execution_count": 579,
   "metadata": {},
   "outputs": [],
   "source": [
    "metrics_df = pd.DataFrame(index=methods, columns=['accuracy', 'precision', 'recall', 'f1-measure'])"
   ]
  },
  {
   "cell_type": "code",
   "execution_count": 580,
   "metadata": {},
   "outputs": [
    {
     "data": {
      "text/html": [
       "<div>\n",
       "<style scoped>\n",
       "    .dataframe tbody tr th:only-of-type {\n",
       "        vertical-align: middle;\n",
       "    }\n",
       "\n",
       "    .dataframe tbody tr th {\n",
       "        vertical-align: top;\n",
       "    }\n",
       "\n",
       "    .dataframe thead th {\n",
       "        text-align: right;\n",
       "    }\n",
       "</style>\n",
       "<table border=\"1\" class=\"dataframe\">\n",
       "  <thead>\n",
       "    <tr style=\"text-align: right;\">\n",
       "      <th></th>\n",
       "      <th>accuracy</th>\n",
       "      <th>precision</th>\n",
       "      <th>recall</th>\n",
       "      <th>f1-measure</th>\n",
       "    </tr>\n",
       "  </thead>\n",
       "  <tbody>\n",
       "    <tr>\n",
       "      <td>c_cut_median</td>\n",
       "      <td>0.763535</td>\n",
       "      <td>0.722053</td>\n",
       "      <td>0.6443</td>\n",
       "      <td>0.62438</td>\n",
       "    </tr>\n",
       "    <tr>\n",
       "      <td>c_cut_mean</td>\n",
       "      <td>0.763772</td>\n",
       "      <td>0.722323</td>\n",
       "      <td>0.644701</td>\n",
       "      <td>0.625157</td>\n",
       "    </tr>\n",
       "    <tr>\n",
       "      <td>c_cut_p25</td>\n",
       "      <td>0.75987</td>\n",
       "      <td>0.724236</td>\n",
       "      <td>0.638119</td>\n",
       "      <td>0.621223</td>\n",
       "    </tr>\n",
       "    <tr>\n",
       "      <td>c_cut_mean_local</td>\n",
       "      <td>0.76024</td>\n",
       "      <td>0.724637</td>\n",
       "      <td>0.639199</td>\n",
       "      <td>0.622373</td>\n",
       "    </tr>\n",
       "    <tr>\n",
       "      <td>c_sharp_1.05</td>\n",
       "      <td>0.757886</td>\n",
       "      <td>0.725672</td>\n",
       "      <td>0.635132</td>\n",
       "      <td>0.620626</td>\n",
       "    </tr>\n",
       "    <tr>\n",
       "      <td>c_sharp_1.00001</td>\n",
       "      <td>0.756259</td>\n",
       "      <td>0.726238</td>\n",
       "      <td>0.632598</td>\n",
       "      <td>0.619543</td>\n",
       "    </tr>\n",
       "    <tr>\n",
       "      <td>c_sharp_0.95</td>\n",
       "      <td>0.756504</td>\n",
       "      <td>0.725823</td>\n",
       "      <td>0.633101</td>\n",
       "      <td>0.619985</td>\n",
       "    </tr>\n",
       "    <tr>\n",
       "      <td>c_sharp_0.8</td>\n",
       "      <td>0.758903</td>\n",
       "      <td>0.724252</td>\n",
       "      <td>0.636831</td>\n",
       "      <td>0.621332</td>\n",
       "    </tr>\n",
       "    <tr>\n",
       "      <td>c_sharp_0.5</td>\n",
       "      <td>0.763184</td>\n",
       "      <td>0.721407</td>\n",
       "      <td>0.643262</td>\n",
       "      <td>0.62274</td>\n",
       "    </tr>\n",
       "  </tbody>\n",
       "</table>\n",
       "</div>"
      ],
      "text/plain": [
       "                  accuracy precision    recall f1-measure\n",
       "c_cut_median      0.763535  0.722053    0.6443    0.62438\n",
       "c_cut_mean        0.763772  0.722323  0.644701   0.625157\n",
       "c_cut_p25          0.75987  0.724236  0.638119   0.621223\n",
       "c_cut_mean_local   0.76024  0.724637  0.639199   0.622373\n",
       "c_sharp_1.05      0.757886  0.725672  0.635132   0.620626\n",
       "c_sharp_1.00001   0.756259  0.726238  0.632598   0.619543\n",
       "c_sharp_0.95      0.756504  0.725823  0.633101   0.619985\n",
       "c_sharp_0.8       0.758903  0.724252  0.636831   0.621332\n",
       "c_sharp_0.5       0.763184  0.721407  0.643262    0.62274"
      ]
     },
     "execution_count": 580,
     "metadata": {},
     "output_type": "execute_result"
    }
   ],
   "source": [
    "for method in methods:\n",
    "    metrics_df.loc[method] = get_average_metrics(clustering, 'correct_cut', method, 'possible_splits')\n",
    "metrics_df"
   ]
  },
  {
   "cell_type": "code",
   "execution_count": 663,
   "metadata": {},
   "outputs": [
    {
     "data": {
      "text/html": [
       "<style  type=\"text/css\" >\n",
       "    #T_3626b646_1c50_11ea_a00b_34e12d77d845row0_col0 {\n",
       "            background-color:  #77040f;\n",
       "            color:  #f1f1f1;\n",
       "        }    #T_3626b646_1c50_11ea_a00b_34e12d77d845row0_col1 {\n",
       "            background-color:  #fedecf;\n",
       "            color:  #000000;\n",
       "        }    #T_3626b646_1c50_11ea_a00b_34e12d77d845row0_col2 {\n",
       "            background-color:  #77040f;\n",
       "            color:  #f1f1f1;\n",
       "        }    #T_3626b646_1c50_11ea_a00b_34e12d77d845row0_col3 {\n",
       "            background-color:  #a91016;\n",
       "            color:  #f1f1f1;\n",
       "        }    #T_3626b646_1c50_11ea_a00b_34e12d77d845row1_col0 {\n",
       "            background-color:  #67000d;\n",
       "            color:  #f1f1f1;\n",
       "        }    #T_3626b646_1c50_11ea_a00b_34e12d77d845row1_col1 {\n",
       "            background-color:  #fdcdb9;\n",
       "            color:  #000000;\n",
       "        }    #T_3626b646_1c50_11ea_a00b_34e12d77d845row1_col2 {\n",
       "            background-color:  #67000d;\n",
       "            color:  #f1f1f1;\n",
       "        }    #T_3626b646_1c50_11ea_a00b_34e12d77d845row1_col3 {\n",
       "            background-color:  #67000d;\n",
       "            color:  #f1f1f1;\n",
       "        }    #T_3626b646_1c50_11ea_a00b_34e12d77d845row2_col0 {\n",
       "            background-color:  #fb7050;\n",
       "            color:  #000000;\n",
       "        }    #T_3626b646_1c50_11ea_a00b_34e12d77d845row2_col1 {\n",
       "            background-color:  #f34a36;\n",
       "            color:  #000000;\n",
       "        }    #T_3626b646_1c50_11ea_a00b_34e12d77d845row2_col2 {\n",
       "            background-color:  #fb7858;\n",
       "            color:  #000000;\n",
       "        }    #T_3626b646_1c50_11ea_a00b_34e12d77d845row2_col3 {\n",
       "            background-color:  #fcab8f;\n",
       "            color:  #000000;\n",
       "        }    #T_3626b646_1c50_11ea_a00b_34e12d77d845row3_col0 {\n",
       "            background-color:  #f85f43;\n",
       "            color:  #000000;\n",
       "        }    #T_3626b646_1c50_11ea_a00b_34e12d77d845row3_col1 {\n",
       "            background-color:  #e22e27;\n",
       "            color:  #f1f1f1;\n",
       "        }    #T_3626b646_1c50_11ea_a00b_34e12d77d845row3_col2 {\n",
       "            background-color:  #f7593f;\n",
       "            color:  #000000;\n",
       "        }    #T_3626b646_1c50_11ea_a00b_34e12d77d845row3_col3 {\n",
       "            background-color:  #fa6849;\n",
       "            color:  #000000;\n",
       "        }    #T_3626b646_1c50_11ea_a00b_34e12d77d845row4_col0 {\n",
       "            background-color:  #fdc5ae;\n",
       "            color:  #000000;\n",
       "        }    #T_3626b646_1c50_11ea_a00b_34e12d77d845row4_col1 {\n",
       "            background-color:  #a10e15;\n",
       "            color:  #f1f1f1;\n",
       "        }    #T_3626b646_1c50_11ea_a00b_34e12d77d845row4_col2 {\n",
       "            background-color:  #fdc7b2;\n",
       "            color:  #000000;\n",
       "        }    #T_3626b646_1c50_11ea_a00b_34e12d77d845row4_col3 {\n",
       "            background-color:  #fdccb8;\n",
       "            color:  #000000;\n",
       "        }    #T_3626b646_1c50_11ea_a00b_34e12d77d845row5_col0 {\n",
       "            background-color:  #fff5f0;\n",
       "            color:  #000000;\n",
       "        }    #T_3626b646_1c50_11ea_a00b_34e12d77d845row5_col1 {\n",
       "            background-color:  #67000d;\n",
       "            color:  #f1f1f1;\n",
       "        }    #T_3626b646_1c50_11ea_a00b_34e12d77d845row5_col2 {\n",
       "            background-color:  #fff5f0;\n",
       "            color:  #000000;\n",
       "        }    #T_3626b646_1c50_11ea_a00b_34e12d77d845row5_col3 {\n",
       "            background-color:  #fff5f0;\n",
       "            color:  #000000;\n",
       "        }    #T_3626b646_1c50_11ea_a00b_34e12d77d845row6_col0 {\n",
       "            background-color:  #fff0e8;\n",
       "            color:  #000000;\n",
       "        }    #T_3626b646_1c50_11ea_a00b_34e12d77d845row6_col1 {\n",
       "            background-color:  #920a13;\n",
       "            color:  #f1f1f1;\n",
       "        }    #T_3626b646_1c50_11ea_a00b_34e12d77d845row6_col2 {\n",
       "            background-color:  #ffeee7;\n",
       "            color:  #000000;\n",
       "        }    #T_3626b646_1c50_11ea_a00b_34e12d77d845row6_col3 {\n",
       "            background-color:  #fee8dd;\n",
       "            color:  #000000;\n",
       "        }    #T_3626b646_1c50_11ea_a00b_34e12d77d845row7_col0 {\n",
       "            background-color:  #fc997a;\n",
       "            color:  #000000;\n",
       "        }    #T_3626b646_1c50_11ea_a00b_34e12d77d845row7_col1 {\n",
       "            background-color:  #f34935;\n",
       "            color:  #000000;\n",
       "        }    #T_3626b646_1c50_11ea_a00b_34e12d77d845row7_col2 {\n",
       "            background-color:  #fc9b7c;\n",
       "            color:  #000000;\n",
       "        }    #T_3626b646_1c50_11ea_a00b_34e12d77d845row7_col3 {\n",
       "            background-color:  #fca588;\n",
       "            color:  #000000;\n",
       "        }    #T_3626b646_1c50_11ea_a00b_34e12d77d845row8_col0 {\n",
       "            background-color:  #8e0912;\n",
       "            color:  #f1f1f1;\n",
       "        }    #T_3626b646_1c50_11ea_a00b_34e12d77d845row8_col1 {\n",
       "            background-color:  #fff5f0;\n",
       "            color:  #000000;\n",
       "        }    #T_3626b646_1c50_11ea_a00b_34e12d77d845row8_col2 {\n",
       "            background-color:  #a10e15;\n",
       "            color:  #f1f1f1;\n",
       "        }    #T_3626b646_1c50_11ea_a00b_34e12d77d845row8_col3 {\n",
       "            background-color:  #f4503a;\n",
       "            color:  #000000;\n",
       "        }</style><table id=\"T_3626b646_1c50_11ea_a00b_34e12d77d845\" ><thead>    <tr>        <th class=\"blank level0\" ></th>        <th class=\"col_heading level0 col0\" >accuracy</th>        <th class=\"col_heading level0 col1\" >precision</th>        <th class=\"col_heading level0 col2\" >recall</th>        <th class=\"col_heading level0 col3\" >f1-measure</th>    </tr></thead><tbody>\n",
       "                <tr>\n",
       "                        <th id=\"T_3626b646_1c50_11ea_a00b_34e12d77d845level0_row0\" class=\"row_heading level0 row0\" >c_cut_median</th>\n",
       "                        <td id=\"T_3626b646_1c50_11ea_a00b_34e12d77d845row0_col0\" class=\"data row0 col0\" >0.763535</td>\n",
       "                        <td id=\"T_3626b646_1c50_11ea_a00b_34e12d77d845row0_col1\" class=\"data row0 col1\" >0.722053</td>\n",
       "                        <td id=\"T_3626b646_1c50_11ea_a00b_34e12d77d845row0_col2\" class=\"data row0 col2\" >0.6443</td>\n",
       "                        <td id=\"T_3626b646_1c50_11ea_a00b_34e12d77d845row0_col3\" class=\"data row0 col3\" >0.62438</td>\n",
       "            </tr>\n",
       "            <tr>\n",
       "                        <th id=\"T_3626b646_1c50_11ea_a00b_34e12d77d845level0_row1\" class=\"row_heading level0 row1\" >c_cut_mean</th>\n",
       "                        <td id=\"T_3626b646_1c50_11ea_a00b_34e12d77d845row1_col0\" class=\"data row1 col0\" >0.763772</td>\n",
       "                        <td id=\"T_3626b646_1c50_11ea_a00b_34e12d77d845row1_col1\" class=\"data row1 col1\" >0.722323</td>\n",
       "                        <td id=\"T_3626b646_1c50_11ea_a00b_34e12d77d845row1_col2\" class=\"data row1 col2\" >0.644701</td>\n",
       "                        <td id=\"T_3626b646_1c50_11ea_a00b_34e12d77d845row1_col3\" class=\"data row1 col3\" >0.625157</td>\n",
       "            </tr>\n",
       "            <tr>\n",
       "                        <th id=\"T_3626b646_1c50_11ea_a00b_34e12d77d845level0_row2\" class=\"row_heading level0 row2\" >c_cut_p25</th>\n",
       "                        <td id=\"T_3626b646_1c50_11ea_a00b_34e12d77d845row2_col0\" class=\"data row2 col0\" >0.75987</td>\n",
       "                        <td id=\"T_3626b646_1c50_11ea_a00b_34e12d77d845row2_col1\" class=\"data row2 col1\" >0.724236</td>\n",
       "                        <td id=\"T_3626b646_1c50_11ea_a00b_34e12d77d845row2_col2\" class=\"data row2 col2\" >0.638119</td>\n",
       "                        <td id=\"T_3626b646_1c50_11ea_a00b_34e12d77d845row2_col3\" class=\"data row2 col3\" >0.621223</td>\n",
       "            </tr>\n",
       "            <tr>\n",
       "                        <th id=\"T_3626b646_1c50_11ea_a00b_34e12d77d845level0_row3\" class=\"row_heading level0 row3\" >c_cut_mean_local</th>\n",
       "                        <td id=\"T_3626b646_1c50_11ea_a00b_34e12d77d845row3_col0\" class=\"data row3 col0\" >0.76024</td>\n",
       "                        <td id=\"T_3626b646_1c50_11ea_a00b_34e12d77d845row3_col1\" class=\"data row3 col1\" >0.724637</td>\n",
       "                        <td id=\"T_3626b646_1c50_11ea_a00b_34e12d77d845row3_col2\" class=\"data row3 col2\" >0.639199</td>\n",
       "                        <td id=\"T_3626b646_1c50_11ea_a00b_34e12d77d845row3_col3\" class=\"data row3 col3\" >0.622373</td>\n",
       "            </tr>\n",
       "            <tr>\n",
       "                        <th id=\"T_3626b646_1c50_11ea_a00b_34e12d77d845level0_row4\" class=\"row_heading level0 row4\" >c_sharp_1.05</th>\n",
       "                        <td id=\"T_3626b646_1c50_11ea_a00b_34e12d77d845row4_col0\" class=\"data row4 col0\" >0.757886</td>\n",
       "                        <td id=\"T_3626b646_1c50_11ea_a00b_34e12d77d845row4_col1\" class=\"data row4 col1\" >0.725672</td>\n",
       "                        <td id=\"T_3626b646_1c50_11ea_a00b_34e12d77d845row4_col2\" class=\"data row4 col2\" >0.635132</td>\n",
       "                        <td id=\"T_3626b646_1c50_11ea_a00b_34e12d77d845row4_col3\" class=\"data row4 col3\" >0.620626</td>\n",
       "            </tr>\n",
       "            <tr>\n",
       "                        <th id=\"T_3626b646_1c50_11ea_a00b_34e12d77d845level0_row5\" class=\"row_heading level0 row5\" >c_sharp_1.00001</th>\n",
       "                        <td id=\"T_3626b646_1c50_11ea_a00b_34e12d77d845row5_col0\" class=\"data row5 col0\" >0.756259</td>\n",
       "                        <td id=\"T_3626b646_1c50_11ea_a00b_34e12d77d845row5_col1\" class=\"data row5 col1\" >0.726238</td>\n",
       "                        <td id=\"T_3626b646_1c50_11ea_a00b_34e12d77d845row5_col2\" class=\"data row5 col2\" >0.632598</td>\n",
       "                        <td id=\"T_3626b646_1c50_11ea_a00b_34e12d77d845row5_col3\" class=\"data row5 col3\" >0.619543</td>\n",
       "            </tr>\n",
       "            <tr>\n",
       "                        <th id=\"T_3626b646_1c50_11ea_a00b_34e12d77d845level0_row6\" class=\"row_heading level0 row6\" >c_sharp_0.95</th>\n",
       "                        <td id=\"T_3626b646_1c50_11ea_a00b_34e12d77d845row6_col0\" class=\"data row6 col0\" >0.756504</td>\n",
       "                        <td id=\"T_3626b646_1c50_11ea_a00b_34e12d77d845row6_col1\" class=\"data row6 col1\" >0.725823</td>\n",
       "                        <td id=\"T_3626b646_1c50_11ea_a00b_34e12d77d845row6_col2\" class=\"data row6 col2\" >0.633101</td>\n",
       "                        <td id=\"T_3626b646_1c50_11ea_a00b_34e12d77d845row6_col3\" class=\"data row6 col3\" >0.619985</td>\n",
       "            </tr>\n",
       "            <tr>\n",
       "                        <th id=\"T_3626b646_1c50_11ea_a00b_34e12d77d845level0_row7\" class=\"row_heading level0 row7\" >c_sharp_0.8</th>\n",
       "                        <td id=\"T_3626b646_1c50_11ea_a00b_34e12d77d845row7_col0\" class=\"data row7 col0\" >0.758903</td>\n",
       "                        <td id=\"T_3626b646_1c50_11ea_a00b_34e12d77d845row7_col1\" class=\"data row7 col1\" >0.724252</td>\n",
       "                        <td id=\"T_3626b646_1c50_11ea_a00b_34e12d77d845row7_col2\" class=\"data row7 col2\" >0.636831</td>\n",
       "                        <td id=\"T_3626b646_1c50_11ea_a00b_34e12d77d845row7_col3\" class=\"data row7 col3\" >0.621332</td>\n",
       "            </tr>\n",
       "            <tr>\n",
       "                        <th id=\"T_3626b646_1c50_11ea_a00b_34e12d77d845level0_row8\" class=\"row_heading level0 row8\" >c_sharp_0.5</th>\n",
       "                        <td id=\"T_3626b646_1c50_11ea_a00b_34e12d77d845row8_col0\" class=\"data row8 col0\" >0.763184</td>\n",
       "                        <td id=\"T_3626b646_1c50_11ea_a00b_34e12d77d845row8_col1\" class=\"data row8 col1\" >0.721407</td>\n",
       "                        <td id=\"T_3626b646_1c50_11ea_a00b_34e12d77d845row8_col2\" class=\"data row8 col2\" >0.643262</td>\n",
       "                        <td id=\"T_3626b646_1c50_11ea_a00b_34e12d77d845row8_col3\" class=\"data row8 col3\" >0.62274</td>\n",
       "            </tr>\n",
       "    </tbody></table>"
      ],
      "text/plain": [
       "<pandas.io.formats.style.Styler at 0x1aa46ef9a58>"
      ]
     },
     "execution_count": 663,
     "metadata": {},
     "output_type": "execute_result"
    }
   ],
   "source": [
    "df = pd.DataFrame([list(metrics_df.loc[metric]) for metric in methods], index = methods, columns = ['accuracy', 'precision', 'recall', 'f1-measure'])\n",
    "df.style.background_gradient(axis=0, cmap='Reds')"
   ]
  },
  {
   "cell_type": "markdown",
   "metadata": {},
   "source": [
    "as we can see, the best metrics for acpproximation of splits are:\n",
    "- cutoff at the mean is the best at catching all correct values (but poor at not-catching incorrect splits - making too many splits)\n",
    "- sharp chage metrics (1.5 to 0.95) are good at only catching correct values (but bad at identifying all splits - making too little splits)\n",
    "\n",
    "as we care more about only identifying correct splits (precision), then on identifying all correct splits (recall), let us weight the f-measure\n",
    "\n",
    "$${\\displaystyle F_{\\beta }=(1+\\beta ^{2})\\cdot {\\frac {\\mathrm {precision} \\cdot \\mathrm {recall} }{\\beta ^{2}\\cdot \\mathrm {precision} +\\mathrm {recall} }}}$$\n",
    "\n",
    "let us use $\\beta = 0.5 $, ads the $F_{0.5}$ which puts more emphasis on precision than recall."
   ]
  },
  {
   "cell_type": "code",
   "execution_count": 664,
   "metadata": {},
   "outputs": [
    {
     "data": {
      "text/html": [
       "<style  type=\"text/css\" >\n",
       "    #T_37d6e014_1c50_11ea_a2cb_34e12d77d845row0_col0 {\n",
       "            background-color:  #77040f;\n",
       "            color:  #f1f1f1;\n",
       "        }    #T_37d6e014_1c50_11ea_a2cb_34e12d77d845row0_col1 {\n",
       "            background-color:  #fedecf;\n",
       "            color:  #000000;\n",
       "        }    #T_37d6e014_1c50_11ea_a2cb_34e12d77d845row0_col2 {\n",
       "            background-color:  #77040f;\n",
       "            color:  #f1f1f1;\n",
       "        }    #T_37d6e014_1c50_11ea_a2cb_34e12d77d845row0_col3 {\n",
       "            background-color:  #a91016;\n",
       "            color:  #f1f1f1;\n",
       "        }    #T_37d6e014_1c50_11ea_a2cb_34e12d77d845row0_col4 {\n",
       "            background-color:  #fb694a;\n",
       "            color:  #000000;\n",
       "        }    #T_37d6e014_1c50_11ea_a2cb_34e12d77d845row1_col0 {\n",
       "            background-color:  #67000d;\n",
       "            color:  #f1f1f1;\n",
       "        }    #T_37d6e014_1c50_11ea_a2cb_34e12d77d845row1_col1 {\n",
       "            background-color:  #fdcdb9;\n",
       "            color:  #000000;\n",
       "        }    #T_37d6e014_1c50_11ea_a2cb_34e12d77d845row1_col2 {\n",
       "            background-color:  #67000d;\n",
       "            color:  #f1f1f1;\n",
       "        }    #T_37d6e014_1c50_11ea_a2cb_34e12d77d845row1_col3 {\n",
       "            background-color:  #67000d;\n",
       "            color:  #f1f1f1;\n",
       "        }    #T_37d6e014_1c50_11ea_a2cb_34e12d77d845row1_col4 {\n",
       "            background-color:  #d72322;\n",
       "            color:  #f1f1f1;\n",
       "        }    #T_37d6e014_1c50_11ea_a2cb_34e12d77d845row2_col0 {\n",
       "            background-color:  #fb7050;\n",
       "            color:  #000000;\n",
       "        }    #T_37d6e014_1c50_11ea_a2cb_34e12d77d845row2_col1 {\n",
       "            background-color:  #f34a36;\n",
       "            color:  #000000;\n",
       "        }    #T_37d6e014_1c50_11ea_a2cb_34e12d77d845row2_col2 {\n",
       "            background-color:  #fb7858;\n",
       "            color:  #000000;\n",
       "        }    #T_37d6e014_1c50_11ea_a2cb_34e12d77d845row2_col3 {\n",
       "            background-color:  #fcab8f;\n",
       "            color:  #000000;\n",
       "        }    #T_37d6e014_1c50_11ea_a2cb_34e12d77d845row2_col4 {\n",
       "            background-color:  #f03f2e;\n",
       "            color:  #f1f1f1;\n",
       "        }    #T_37d6e014_1c50_11ea_a2cb_34e12d77d845row3_col0 {\n",
       "            background-color:  #f85f43;\n",
       "            color:  #000000;\n",
       "        }    #T_37d6e014_1c50_11ea_a2cb_34e12d77d845row3_col1 {\n",
       "            background-color:  #e22e27;\n",
       "            color:  #f1f1f1;\n",
       "        }    #T_37d6e014_1c50_11ea_a2cb_34e12d77d845row3_col2 {\n",
       "            background-color:  #f7593f;\n",
       "            color:  #000000;\n",
       "        }    #T_37d6e014_1c50_11ea_a2cb_34e12d77d845row3_col3 {\n",
       "            background-color:  #fa6849;\n",
       "            color:  #000000;\n",
       "        }    #T_37d6e014_1c50_11ea_a2cb_34e12d77d845row3_col4 {\n",
       "            background-color:  #67000d;\n",
       "            color:  #f1f1f1;\n",
       "        }    #T_37d6e014_1c50_11ea_a2cb_34e12d77d845row4_col0 {\n",
       "            background-color:  #fdc5ae;\n",
       "            color:  #000000;\n",
       "        }    #T_37d6e014_1c50_11ea_a2cb_34e12d77d845row4_col1 {\n",
       "            background-color:  #a10e15;\n",
       "            color:  #f1f1f1;\n",
       "        }    #T_37d6e014_1c50_11ea_a2cb_34e12d77d845row4_col2 {\n",
       "            background-color:  #fdc7b2;\n",
       "            color:  #000000;\n",
       "        }    #T_37d6e014_1c50_11ea_a2cb_34e12d77d845row4_col3 {\n",
       "            background-color:  #fdccb8;\n",
       "            color:  #000000;\n",
       "        }    #T_37d6e014_1c50_11ea_a2cb_34e12d77d845row4_col4 {\n",
       "            background-color:  #ab1016;\n",
       "            color:  #f1f1f1;\n",
       "        }    #T_37d6e014_1c50_11ea_a2cb_34e12d77d845row5_col0 {\n",
       "            background-color:  #fff5f0;\n",
       "            color:  #000000;\n",
       "        }    #T_37d6e014_1c50_11ea_a2cb_34e12d77d845row5_col1 {\n",
       "            background-color:  #67000d;\n",
       "            color:  #f1f1f1;\n",
       "        }    #T_37d6e014_1c50_11ea_a2cb_34e12d77d845row5_col2 {\n",
       "            background-color:  #fff5f0;\n",
       "            color:  #000000;\n",
       "        }    #T_37d6e014_1c50_11ea_a2cb_34e12d77d845row5_col3 {\n",
       "            background-color:  #fff5f0;\n",
       "            color:  #000000;\n",
       "        }    #T_37d6e014_1c50_11ea_a2cb_34e12d77d845row5_col4 {\n",
       "            background-color:  #d32020;\n",
       "            color:  #f1f1f1;\n",
       "        }    #T_37d6e014_1c50_11ea_a2cb_34e12d77d845row6_col0 {\n",
       "            background-color:  #fff0e8;\n",
       "            color:  #000000;\n",
       "        }    #T_37d6e014_1c50_11ea_a2cb_34e12d77d845row6_col1 {\n",
       "            background-color:  #920a13;\n",
       "            color:  #f1f1f1;\n",
       "        }    #T_37d6e014_1c50_11ea_a2cb_34e12d77d845row6_col2 {\n",
       "            background-color:  #ffeee7;\n",
       "            color:  #000000;\n",
       "        }    #T_37d6e014_1c50_11ea_a2cb_34e12d77d845row6_col3 {\n",
       "            background-color:  #fee8dd;\n",
       "            color:  #000000;\n",
       "        }    #T_37d6e014_1c50_11ea_a2cb_34e12d77d845row6_col4 {\n",
       "            background-color:  #f24734;\n",
       "            color:  #000000;\n",
       "        }    #T_37d6e014_1c50_11ea_a2cb_34e12d77d845row7_col0 {\n",
       "            background-color:  #fc997a;\n",
       "            color:  #000000;\n",
       "        }    #T_37d6e014_1c50_11ea_a2cb_34e12d77d845row7_col1 {\n",
       "            background-color:  #f34935;\n",
       "            color:  #000000;\n",
       "        }    #T_37d6e014_1c50_11ea_a2cb_34e12d77d845row7_col2 {\n",
       "            background-color:  #fc9b7c;\n",
       "            color:  #000000;\n",
       "        }    #T_37d6e014_1c50_11ea_a2cb_34e12d77d845row7_col3 {\n",
       "            background-color:  #fca588;\n",
       "            color:  #000000;\n",
       "        }    #T_37d6e014_1c50_11ea_a2cb_34e12d77d845row7_col4 {\n",
       "            background-color:  #fc8767;\n",
       "            color:  #000000;\n",
       "        }    #T_37d6e014_1c50_11ea_a2cb_34e12d77d845row8_col0 {\n",
       "            background-color:  #8e0912;\n",
       "            color:  #f1f1f1;\n",
       "        }    #T_37d6e014_1c50_11ea_a2cb_34e12d77d845row8_col1 {\n",
       "            background-color:  #fff5f0;\n",
       "            color:  #000000;\n",
       "        }    #T_37d6e014_1c50_11ea_a2cb_34e12d77d845row8_col2 {\n",
       "            background-color:  #a10e15;\n",
       "            color:  #f1f1f1;\n",
       "        }    #T_37d6e014_1c50_11ea_a2cb_34e12d77d845row8_col3 {\n",
       "            background-color:  #f4503a;\n",
       "            color:  #000000;\n",
       "        }    #T_37d6e014_1c50_11ea_a2cb_34e12d77d845row8_col4 {\n",
       "            background-color:  #fff5f0;\n",
       "            color:  #000000;\n",
       "        }</style><table id=\"T_37d6e014_1c50_11ea_a2cb_34e12d77d845\" ><thead>    <tr>        <th class=\"blank level0\" ></th>        <th class=\"col_heading level0 col0\" >accuracy</th>        <th class=\"col_heading level0 col1\" >precision</th>        <th class=\"col_heading level0 col2\" >recall</th>        <th class=\"col_heading level0 col3\" >f1-measure</th>        <th class=\"col_heading level0 col4\" >f-weighted</th>    </tr></thead><tbody>\n",
       "                <tr>\n",
       "                        <th id=\"T_37d6e014_1c50_11ea_a2cb_34e12d77d845level0_row0\" class=\"row_heading level0 row0\" >c_cut_median</th>\n",
       "                        <td id=\"T_37d6e014_1c50_11ea_a2cb_34e12d77d845row0_col0\" class=\"data row0 col0\" >0.763535</td>\n",
       "                        <td id=\"T_37d6e014_1c50_11ea_a2cb_34e12d77d845row0_col1\" class=\"data row0 col1\" >0.722053</td>\n",
       "                        <td id=\"T_37d6e014_1c50_11ea_a2cb_34e12d77d845row0_col2\" class=\"data row0 col2\" >0.6443</td>\n",
       "                        <td id=\"T_37d6e014_1c50_11ea_a2cb_34e12d77d845row0_col3\" class=\"data row0 col3\" >0.62438</td>\n",
       "                        <td id=\"T_37d6e014_1c50_11ea_a2cb_34e12d77d845row0_col4\" class=\"data row0 col4\" >0.705037</td>\n",
       "            </tr>\n",
       "            <tr>\n",
       "                        <th id=\"T_37d6e014_1c50_11ea_a2cb_34e12d77d845level0_row1\" class=\"row_heading level0 row1\" >c_cut_mean</th>\n",
       "                        <td id=\"T_37d6e014_1c50_11ea_a2cb_34e12d77d845row1_col0\" class=\"data row1 col0\" >0.763772</td>\n",
       "                        <td id=\"T_37d6e014_1c50_11ea_a2cb_34e12d77d845row1_col1\" class=\"data row1 col1\" >0.722323</td>\n",
       "                        <td id=\"T_37d6e014_1c50_11ea_a2cb_34e12d77d845row1_col2\" class=\"data row1 col2\" >0.644701</td>\n",
       "                        <td id=\"T_37d6e014_1c50_11ea_a2cb_34e12d77d845row1_col3\" class=\"data row1 col3\" >0.625157</td>\n",
       "                        <td id=\"T_37d6e014_1c50_11ea_a2cb_34e12d77d845row1_col4\" class=\"data row1 col4\" >0.705338</td>\n",
       "            </tr>\n",
       "            <tr>\n",
       "                        <th id=\"T_37d6e014_1c50_11ea_a2cb_34e12d77d845level0_row2\" class=\"row_heading level0 row2\" >c_cut_p25</th>\n",
       "                        <td id=\"T_37d6e014_1c50_11ea_a2cb_34e12d77d845row2_col0\" class=\"data row2 col0\" >0.75987</td>\n",
       "                        <td id=\"T_37d6e014_1c50_11ea_a2cb_34e12d77d845row2_col1\" class=\"data row2 col1\" >0.724236</td>\n",
       "                        <td id=\"T_37d6e014_1c50_11ea_a2cb_34e12d77d845row2_col2\" class=\"data row2 col2\" >0.638119</td>\n",
       "                        <td id=\"T_37d6e014_1c50_11ea_a2cb_34e12d77d845row2_col3\" class=\"data row2 col3\" >0.621223</td>\n",
       "                        <td id=\"T_37d6e014_1c50_11ea_a2cb_34e12d77d845row2_col4\" class=\"data row2 col4\" >0.705202</td>\n",
       "            </tr>\n",
       "            <tr>\n",
       "                        <th id=\"T_37d6e014_1c50_11ea_a2cb_34e12d77d845level0_row3\" class=\"row_heading level0 row3\" >c_cut_mean_local</th>\n",
       "                        <td id=\"T_37d6e014_1c50_11ea_a2cb_34e12d77d845row3_col0\" class=\"data row3 col0\" >0.76024</td>\n",
       "                        <td id=\"T_37d6e014_1c50_11ea_a2cb_34e12d77d845row3_col1\" class=\"data row3 col1\" >0.724637</td>\n",
       "                        <td id=\"T_37d6e014_1c50_11ea_a2cb_34e12d77d845row3_col2\" class=\"data row3 col2\" >0.639199</td>\n",
       "                        <td id=\"T_37d6e014_1c50_11ea_a2cb_34e12d77d845row3_col3\" class=\"data row3 col3\" >0.622373</td>\n",
       "                        <td id=\"T_37d6e014_1c50_11ea_a2cb_34e12d77d845row3_col4\" class=\"data row3 col4\" >0.70577</td>\n",
       "            </tr>\n",
       "            <tr>\n",
       "                        <th id=\"T_37d6e014_1c50_11ea_a2cb_34e12d77d845level0_row4\" class=\"row_heading level0 row4\" >c_sharp_1.05</th>\n",
       "                        <td id=\"T_37d6e014_1c50_11ea_a2cb_34e12d77d845row4_col0\" class=\"data row4 col0\" >0.757886</td>\n",
       "                        <td id=\"T_37d6e014_1c50_11ea_a2cb_34e12d77d845row4_col1\" class=\"data row4 col1\" >0.725672</td>\n",
       "                        <td id=\"T_37d6e014_1c50_11ea_a2cb_34e12d77d845row4_col2\" class=\"data row4 col2\" >0.635132</td>\n",
       "                        <td id=\"T_37d6e014_1c50_11ea_a2cb_34e12d77d845row4_col3\" class=\"data row4 col3\" >0.620626</td>\n",
       "                        <td id=\"T_37d6e014_1c50_11ea_a2cb_34e12d77d845row4_col4\" class=\"data row4 col4\" >0.705556</td>\n",
       "            </tr>\n",
       "            <tr>\n",
       "                        <th id=\"T_37d6e014_1c50_11ea_a2cb_34e12d77d845level0_row5\" class=\"row_heading level0 row5\" >c_sharp_1.00001</th>\n",
       "                        <td id=\"T_37d6e014_1c50_11ea_a2cb_34e12d77d845row5_col0\" class=\"data row5 col0\" >0.756259</td>\n",
       "                        <td id=\"T_37d6e014_1c50_11ea_a2cb_34e12d77d845row5_col1\" class=\"data row5 col1\" >0.726238</td>\n",
       "                        <td id=\"T_37d6e014_1c50_11ea_a2cb_34e12d77d845row5_col2\" class=\"data row5 col2\" >0.632598</td>\n",
       "                        <td id=\"T_37d6e014_1c50_11ea_a2cb_34e12d77d845row5_col3\" class=\"data row5 col3\" >0.619543</td>\n",
       "                        <td id=\"T_37d6e014_1c50_11ea_a2cb_34e12d77d845row5_col4\" class=\"data row5 col4\" >0.705356</td>\n",
       "            </tr>\n",
       "            <tr>\n",
       "                        <th id=\"T_37d6e014_1c50_11ea_a2cb_34e12d77d845level0_row6\" class=\"row_heading level0 row6\" >c_sharp_0.95</th>\n",
       "                        <td id=\"T_37d6e014_1c50_11ea_a2cb_34e12d77d845row6_col0\" class=\"data row6 col0\" >0.756504</td>\n",
       "                        <td id=\"T_37d6e014_1c50_11ea_a2cb_34e12d77d845row6_col1\" class=\"data row6 col1\" >0.725823</td>\n",
       "                        <td id=\"T_37d6e014_1c50_11ea_a2cb_34e12d77d845row6_col2\" class=\"data row6 col2\" >0.633101</td>\n",
       "                        <td id=\"T_37d6e014_1c50_11ea_a2cb_34e12d77d845row6_col3\" class=\"data row6 col3\" >0.619985</td>\n",
       "                        <td id=\"T_37d6e014_1c50_11ea_a2cb_34e12d77d845row6_col4\" class=\"data row6 col4\" >0.705167</td>\n",
       "            </tr>\n",
       "            <tr>\n",
       "                        <th id=\"T_37d6e014_1c50_11ea_a2cb_34e12d77d845level0_row7\" class=\"row_heading level0 row7\" >c_sharp_0.8</th>\n",
       "                        <td id=\"T_37d6e014_1c50_11ea_a2cb_34e12d77d845row7_col0\" class=\"data row7 col0\" >0.758903</td>\n",
       "                        <td id=\"T_37d6e014_1c50_11ea_a2cb_34e12d77d845row7_col1\" class=\"data row7 col1\" >0.724252</td>\n",
       "                        <td id=\"T_37d6e014_1c50_11ea_a2cb_34e12d77d845row7_col2\" class=\"data row7 col2\" >0.636831</td>\n",
       "                        <td id=\"T_37d6e014_1c50_11ea_a2cb_34e12d77d845row7_col3\" class=\"data row7 col3\" >0.621332</td>\n",
       "                        <td id=\"T_37d6e014_1c50_11ea_a2cb_34e12d77d845row7_col4\" class=\"data row7 col4\" >0.704899</td>\n",
       "            </tr>\n",
       "            <tr>\n",
       "                        <th id=\"T_37d6e014_1c50_11ea_a2cb_34e12d77d845level0_row8\" class=\"row_heading level0 row8\" >c_sharp_0.5</th>\n",
       "                        <td id=\"T_37d6e014_1c50_11ea_a2cb_34e12d77d845row8_col0\" class=\"data row8 col0\" >0.763184</td>\n",
       "                        <td id=\"T_37d6e014_1c50_11ea_a2cb_34e12d77d845row8_col1\" class=\"data row8 col1\" >0.721407</td>\n",
       "                        <td id=\"T_37d6e014_1c50_11ea_a2cb_34e12d77d845row8_col2\" class=\"data row8 col2\" >0.643262</td>\n",
       "                        <td id=\"T_37d6e014_1c50_11ea_a2cb_34e12d77d845row8_col3\" class=\"data row8 col3\" >0.62274</td>\n",
       "                        <td id=\"T_37d6e014_1c50_11ea_a2cb_34e12d77d845row8_col4\" class=\"data row8 col4\" >0.704295</td>\n",
       "            </tr>\n",
       "    </tbody></table>"
      ],
      "text/plain": [
       "<pandas.io.formats.style.Styler at 0x1aa46ef9c18>"
      ]
     },
     "execution_count": 664,
     "metadata": {},
     "output_type": "execute_result"
    }
   ],
   "source": [
    "df['f-weighted'] = (1 + 0.25) * df['precision'] * df['recall'] / (0.25 * df['precision'] + df['recall'])\n",
    "df.style.background_gradient(axis=0, cmap='Reds')"
   ]
  },
  {
   "cell_type": "markdown",
   "metadata": {},
   "source": [
    "now we see that for a more precision-oriented task, the best metrics (at least on this model) are:\n",
    "- cutoff at the local mean\n",
    "- sharp chage metrics (1.5 to 0.95) \n",
    "- cutoff at the mean\n",
    "\n",
    "overall the metrics are good-ish (0.7 is not all that good), but tolerable\n",
    "\n",
    "**the problems might be due to:**\n",
    "- only one manual tagging (might be low inter-rater agreement, if we tried many)\n",
    "- tagging non-semantic assosiations as one cluster (утка-лебедь-рак-щука)\n",
    "- out of vocabulary issues"
   ]
  }
 ],
 "metadata": {
  "kernelspec": {
   "display_name": "Python 3",
   "language": "python",
   "name": "python3"
  },
  "language_info": {
   "codemirror_mode": {
    "name": "ipython",
    "version": 3
   },
   "file_extension": ".py",
   "mimetype": "text/x-python",
   "name": "python",
   "nbconvert_exporter": "python",
   "pygments_lexer": "ipython3",
   "version": "3.6.7"
  }
 },
 "nbformat": 4,
 "nbformat_minor": 2
}
