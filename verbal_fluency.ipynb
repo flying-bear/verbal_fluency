{
  "nbformat": 4,
  "nbformat_minor": 0,
  "metadata": {
    "colab": {
      "name": "verbal_fluency",
      "provenance": [],
      "collapsed_sections": [],
      "mount_file_id": "1NAXWbSovHwb-JAA6VzAyovkX3PyDttuA",
      "authorship_tag": "ABX9TyM0mvljFpDYkczt/m/pB2Ni",
      "include_colab_link": true
    },
    "kernelspec": {
      "name": "python3",
      "display_name": "Python 3"
    },
    "language_info": {
      "name": "python"
    }
  },
  "cells": [
    {
      "cell_type": "markdown",
      "metadata": {
        "id": "view-in-github",
        "colab_type": "text"
      },
      "source": [
        "<a href=\"https://colab.research.google.com/github/flying-bear/verbal_fluency/blob/master/verbal_fluency.ipynb\" target=\"_parent\"><img src=\"https://colab.research.google.com/assets/colab-badge.svg\" alt=\"Open In Colab\"/></a>"
      ]
    },
    {
      "cell_type": "markdown",
      "metadata": {
        "id": "vt_Wsn7BhA-o"
      },
      "source": [
        "## Download"
      ]
    },
    {
      "cell_type": "code",
      "metadata": {
        "colab": {
          "base_uri": "https://localhost:8080/"
        },
        "id": "ZCwXu-27RQio",
        "outputId": "f26da6f3-33fe-43d7-ed6f-9048ff55b3f3"
      },
      "source": [
        "!wget http://files.deeppavlov.ai/deeppavlov_data/bert/rubert_cased_L-12_H-768_A-12_pt.tar.gz"
      ],
      "execution_count": null,
      "outputs": [
        {
          "output_type": "stream",
          "name": "stdout",
          "text": [
            "--2021-09-20 20:58:10--  http://files.deeppavlov.ai/deeppavlov_data/bert/rubert_cased_L-12_H-768_A-12_pt.tar.gz\n",
            "Resolving files.deeppavlov.ai (files.deeppavlov.ai)... 93.175.29.173\n",
            "Connecting to files.deeppavlov.ai (files.deeppavlov.ai)|93.175.29.173|:80... connected.\n",
            "HTTP request sent, awaiting response... 301 Moved Permanently\n",
            "Location: https://files.deeppavlov.ai/deeppavlov_data/bert/rubert_cased_L-12_H-768_A-12_pt.tar.gz [following]\n",
            "--2021-09-20 20:58:10--  https://files.deeppavlov.ai/deeppavlov_data/bert/rubert_cased_L-12_H-768_A-12_pt.tar.gz\n",
            "Connecting to files.deeppavlov.ai (files.deeppavlov.ai)|93.175.29.173|:443... connected.\n",
            "HTTP request sent, awaiting response... 200 OK\n",
            "Length: 662024852 (631M) [application/octet-stream]\n",
            "Saving to: ‘rubert_cased_L-12_H-768_A-12_pt.tar.gz.1’\n",
            "\n",
            "rubert_cased_L-12_H 100%[===================>] 631.36M  5.61MB/s    in 1m 41s  \n",
            "\n",
            "2021-09-20 20:59:52 (6.23 MB/s) - ‘rubert_cased_L-12_H-768_A-12_pt.tar.gz.1’ saved [662024852/662024852]\n",
            "\n"
          ]
        }
      ]
    },
    {
      "cell_type": "code",
      "metadata": {
        "colab": {
          "base_uri": "https://localhost:8080/"
        },
        "id": "j5yyc4NQRRtE",
        "outputId": "48f2f563-3e77-43a6-ea1f-15d7cd6f9791"
      },
      "source": [
        "!tar -zxvf rubert_cased_L-12_H-768_A-12_pt.tar.gz"
      ],
      "execution_count": null,
      "outputs": [
        {
          "output_type": "stream",
          "name": "stdout",
          "text": [
            "rubert_cased_L-12_H-768_A-12_pt/\n",
            "rubert_cased_L-12_H-768_A-12_pt/bert_config.json\n",
            "rubert_cased_L-12_H-768_A-12_pt/vocab.txt\n",
            "rubert_cased_L-12_H-768_A-12_pt/pytorch_model.bin\n"
          ]
        }
      ]
    },
    {
      "cell_type": "markdown",
      "metadata": {
        "id": "-fc5qHDvhFc0"
      },
      "source": [
        "## Install"
      ]
    },
    {
      "cell_type": "code",
      "metadata": {
        "colab": {
          "base_uri": "https://localhost:8080/"
        },
        "id": "o_HJ9cJSRjXC",
        "outputId": "914c6f05-bad1-45f6-87ac-c28ba0a4415c"
      },
      "source": [
        "!pip install deeppavlov"
      ],
      "execution_count": null,
      "outputs": [
        {
          "output_type": "stream",
          "name": "stdout",
          "text": [
            "Requirement already satisfied: deeppavlov in /usr/local/lib/python3.7/dist-packages (0.17.0)\n",
            "Requirement already satisfied: uvicorn==0.11.7 in /usr/local/lib/python3.7/dist-packages (from deeppavlov) (0.11.7)\n",
            "Requirement already satisfied: h5py==2.10.0 in /usr/local/lib/python3.7/dist-packages (from deeppavlov) (2.10.0)\n",
            "Requirement already satisfied: fastapi==0.47.1 in /usr/local/lib/python3.7/dist-packages (from deeppavlov) (0.47.1)\n",
            "Requirement already satisfied: pytelegrambotapi==3.6.7 in /usr/local/lib/python3.7/dist-packages (from deeppavlov) (3.6.7)\n",
            "Requirement already satisfied: aio-pika==6.4.1 in /usr/local/lib/python3.7/dist-packages (from deeppavlov) (6.4.1)\n",
            "Requirement already satisfied: prometheus-client==0.7.1 in /usr/local/lib/python3.7/dist-packages (from deeppavlov) (0.7.1)\n",
            "Requirement already satisfied: rusenttokenize==0.0.5 in /usr/local/lib/python3.7/dist-packages (from deeppavlov) (0.0.5)\n",
            "Requirement already satisfied: pydantic==1.3 in /usr/local/lib/python3.7/dist-packages (from deeppavlov) (1.3)\n",
            "Requirement already satisfied: pymorphy2-dicts-ru in /usr/local/lib/python3.7/dist-packages (from deeppavlov) (2.4.417127.4579844)\n",
            "Requirement already satisfied: scipy==1.4.1 in /usr/local/lib/python3.7/dist-packages (from deeppavlov) (1.4.1)\n",
            "Requirement already satisfied: tqdm==4.62.0 in /usr/local/lib/python3.7/dist-packages (from deeppavlov) (4.62.0)\n",
            "Requirement already satisfied: nltk==3.4.5 in /usr/local/lib/python3.7/dist-packages (from deeppavlov) (3.4.5)\n",
            "Requirement already satisfied: pyopenssl==19.1.0 in /usr/local/lib/python3.7/dist-packages (from deeppavlov) (19.1.0)\n",
            "Requirement already satisfied: Cython==0.29.14 in /usr/local/lib/python3.7/dist-packages (from deeppavlov) (0.29.14)\n",
            "Requirement already satisfied: click==7.1.2 in /usr/local/lib/python3.7/dist-packages (from deeppavlov) (7.1.2)\n",
            "Requirement already satisfied: ruamel.yaml==0.15.100 in /usr/local/lib/python3.7/dist-packages (from deeppavlov) (0.15.100)\n",
            "Requirement already satisfied: pymorphy2==0.8 in /usr/local/lib/python3.7/dist-packages (from deeppavlov) (0.8)\n",
            "Requirement already satisfied: overrides==2.7.0 in /usr/local/lib/python3.7/dist-packages (from deeppavlov) (2.7.0)\n",
            "Requirement already satisfied: scikit-learn==0.21.2 in /usr/local/lib/python3.7/dist-packages (from deeppavlov) (0.21.2)\n",
            "Requirement already satisfied: pytz==2019.1 in /usr/local/lib/python3.7/dist-packages (from deeppavlov) (2019.1)\n",
            "Requirement already satisfied: requests==2.22.0 in /usr/local/lib/python3.7/dist-packages (from deeppavlov) (2.22.0)\n",
            "Requirement already satisfied: uvloop==0.14.0 in /usr/local/lib/python3.7/dist-packages (from deeppavlov) (0.14.0)\n",
            "Requirement already satisfied: filelock==3.0.12 in /usr/local/lib/python3.7/dist-packages (from deeppavlov) (3.0.12)\n",
            "Requirement already satisfied: sacremoses==0.0.35 in /usr/local/lib/python3.7/dist-packages (from deeppavlov) (0.0.35)\n",
            "Requirement already satisfied: numpy==1.18.0 in /usr/local/lib/python3.7/dist-packages (from deeppavlov) (1.18.0)\n",
            "Requirement already satisfied: pandas==0.25.3 in /usr/local/lib/python3.7/dist-packages (from deeppavlov) (0.25.3)\n",
            "Requirement already satisfied: yarl in /usr/local/lib/python3.7/dist-packages (from aio-pika==6.4.1->deeppavlov) (1.6.3)\n",
            "Requirement already satisfied: aiormq<4,>=3.2.0 in /usr/local/lib/python3.7/dist-packages (from aio-pika==6.4.1->deeppavlov) (3.3.1)\n",
            "Requirement already satisfied: starlette<=0.12.9,>=0.12.9 in /usr/local/lib/python3.7/dist-packages (from fastapi==0.47.1->deeppavlov) (0.12.9)\n",
            "Requirement already satisfied: six in /usr/local/lib/python3.7/dist-packages (from h5py==2.10.0->deeppavlov) (1.15.0)\n",
            "Requirement already satisfied: python-dateutil>=2.6.1 in /usr/local/lib/python3.7/dist-packages (from pandas==0.25.3->deeppavlov) (2.8.2)\n",
            "Requirement already satisfied: dawg-python>=0.7 in /usr/local/lib/python3.7/dist-packages (from pymorphy2==0.8->deeppavlov) (0.7.2)\n",
            "Requirement already satisfied: pymorphy2-dicts<3.0,>=2.4 in /usr/local/lib/python3.7/dist-packages (from pymorphy2==0.8->deeppavlov) (2.4.393442.3710985)\n",
            "Requirement already satisfied: docopt>=0.6 in /usr/local/lib/python3.7/dist-packages (from pymorphy2==0.8->deeppavlov) (0.6.2)\n",
            "Requirement already satisfied: cryptography>=2.8 in /usr/local/lib/python3.7/dist-packages (from pyopenssl==19.1.0->deeppavlov) (3.4.8)\n",
            "Requirement already satisfied: certifi>=2017.4.17 in /usr/local/lib/python3.7/dist-packages (from requests==2.22.0->deeppavlov) (2021.5.30)\n",
            "Requirement already satisfied: chardet<3.1.0,>=3.0.2 in /usr/local/lib/python3.7/dist-packages (from requests==2.22.0->deeppavlov) (3.0.4)\n",
            "Requirement already satisfied: urllib3!=1.25.0,!=1.25.1,<1.26,>=1.21.1 in /usr/local/lib/python3.7/dist-packages (from requests==2.22.0->deeppavlov) (1.24.3)\n",
            "Requirement already satisfied: idna<2.9,>=2.5 in /usr/local/lib/python3.7/dist-packages (from requests==2.22.0->deeppavlov) (2.8)\n",
            "Requirement already satisfied: joblib in /usr/local/lib/python3.7/dist-packages (from sacremoses==0.0.35->deeppavlov) (1.0.1)\n",
            "Requirement already satisfied: httptools==0.1.* in /usr/local/lib/python3.7/dist-packages (from uvicorn==0.11.7->deeppavlov) (0.1.2)\n",
            "Requirement already satisfied: h11<0.10,>=0.8 in /usr/local/lib/python3.7/dist-packages (from uvicorn==0.11.7->deeppavlov) (0.9.0)\n",
            "Requirement already satisfied: websockets==8.* in /usr/local/lib/python3.7/dist-packages (from uvicorn==0.11.7->deeppavlov) (8.1)\n",
            "Requirement already satisfied: pamqp==2.3.0 in /usr/local/lib/python3.7/dist-packages (from aiormq<4,>=3.2.0->aio-pika==6.4.1->deeppavlov) (2.3.0)\n",
            "Requirement already satisfied: cffi>=1.12 in /usr/local/lib/python3.7/dist-packages (from cryptography>=2.8->pyopenssl==19.1.0->deeppavlov) (1.14.6)\n",
            "Requirement already satisfied: pycparser in /usr/local/lib/python3.7/dist-packages (from cffi>=1.12->cryptography>=2.8->pyopenssl==19.1.0->deeppavlov) (2.20)\n",
            "Requirement already satisfied: multidict>=4.0 in /usr/local/lib/python3.7/dist-packages (from yarl->aio-pika==6.4.1->deeppavlov) (5.1.0)\n",
            "Requirement already satisfied: typing-extensions>=3.7.4 in /usr/local/lib/python3.7/dist-packages (from yarl->aio-pika==6.4.1->deeppavlov) (3.7.4.3)\n"
          ]
        }
      ]
    },
    {
      "cell_type": "markdown",
      "metadata": {
        "id": "uULM984chM2F"
      },
      "source": [
        "## Import"
      ]
    },
    {
      "cell_type": "code",
      "metadata": {
        "id": "lBE1Q_wHR_mp"
      },
      "source": [
        "import matplotlib.pyplot as plt\n",
        "import numpy as np\n",
        "import pandas as pd\n",
        "import re\n",
        "import scipy.stats as stats\n",
        "import seaborn as sns\n",
        "\n",
        "from deeppavlov.core.common.file import read_json\n",
        "from deeppavlov import build_model, configs\n",
        "from itertools import groupby, islice\n",
        "from statsmodels.stats.multitest import multipletests"
      ],
      "execution_count": null,
      "outputs": []
    },
    {
      "cell_type": "markdown",
      "metadata": {
        "id": "qXwv0myOjfZu"
      },
      "source": [
        "## Define"
      ]
    },
    {
      "cell_type": "code",
      "metadata": {
        "id": "KCioYBnRi2C0"
      },
      "source": [
        "def cos_sim(v1, v2):\n",
        "    return np.inner(v1, v2)/(np.linalg.norm(v1)*np.linalg.norm(v2))"
      ],
      "execution_count": null,
      "outputs": []
    },
    {
      "cell_type": "code",
      "metadata": {
        "id": "6lR8k_lejV9J"
      },
      "source": [
        "def display_test(df, columns_to_test, target_column, test, nan_policy='omit', stat_name='x'):\n",
        "    \"\"\"\n",
        "    shows a stats test result for a given list of columns with a key column\n",
        "    \n",
        "    :param df: pd.DataFrame\n",
        "    :param columns_to_test: list of str, column names\n",
        "    :param target_column: str, column name to test all others against\n",
        "    :param test: func, stats test taking lists as inputs and returning a tuple of float, power and significance\n",
        "    :param nan_policy: str, argument for the test, optional, default 'omit'\n",
        "    :patam stat_name: str, the name of the test variable, optional, default 'x'\n",
        "    \n",
        "    :return: styled pd.DataFrame with test results\n",
        "    \"\"\"\n",
        "    res = pd.DataFrame(columns=[stat_name, 'p', 'sig'], index=columns_to_test)\n",
        "\n",
        "    for column in columns_to_test:\n",
        "        r, p = list(test(df[target_column], df[column], nan_policy=nan_policy))\n",
        "        res.loc[column] = [r, p, p<0.05]\n",
        "    reject, pvalscorr = multipletests(res['p'], alpha= 0.05, method='b')[:2]\n",
        "    res['bonf'], res['bonf_sig'] = pvalscorr, reject\n",
        "    res = pd.DataFrame([list(res.loc[column]) for column in columns_to_test], columns=[stat_name, 'p', 'sig', 'bonf', 'bonf_sig'], index=columns_to_test)\n",
        "    return res.sort_values(['p']).style.background_gradient(axis=0, cmap='Reds')"
      ],
      "execution_count": null,
      "outputs": []
    },
    {
      "cell_type": "code",
      "metadata": {
        "id": "6TaMNtVqQFcY"
      },
      "source": [
        "def get_times(s):\n",
        "    if type(s) == str:\n",
        "        s = s.strip()\n",
        "        s = re.sub('[а-я]+', ' ', s)\n",
        "        s = s.replace('·', '')\n",
        "        while '  ' in s:\n",
        "            s = s.replace('  ', ' ')\n",
        "        s = s.replace('(', ' ')\n",
        "        s = s.replace(')', ' ')\n",
        "        return [float(x) for x in s.split()]\n",
        "    else:\n",
        "        s"
      ],
      "execution_count": null,
      "outputs": []
    },
    {
      "cell_type": "markdown",
      "metadata": {
        "id": "6Y5LMi5xhSsV"
      },
      "source": [
        "## Load data"
      ]
    },
    {
      "cell_type": "code",
      "metadata": {
        "colab": {
          "base_uri": "https://localhost:8080/",
          "height": 285
        },
        "id": "MCSc5IpphOyL",
        "outputId": "6b8d03ff-ed8e-4ce0-d481-2c123f08ccba"
      },
      "source": [
        "animals = pd.read_csv('/content/drive/MyDrive/studies/science/Schizophrenia_private/verbal fluency/verbal_fluency_NEW.csv')\n",
        "animals['animals'] = animals['animals'].apply(lambda s: [x.strip() for x in s.strip().split(';')])\n",
        "animals.head()"
      ],
      "execution_count": null,
      "outputs": [
        {
          "output_type": "execute_result",
          "data": {
            "text/html": [
              "<div>\n",
              "<style scoped>\n",
              "    .dataframe tbody tr th:only-of-type {\n",
              "        vertical-align: middle;\n",
              "    }\n",
              "\n",
              "    .dataframe tbody tr th {\n",
              "        vertical-align: top;\n",
              "    }\n",
              "\n",
              "    .dataframe thead th {\n",
              "        text-align: right;\n",
              "    }\n",
              "</style>\n",
              "<table border=\"1\" class=\"dataframe\">\n",
              "  <thead>\n",
              "    <tr style=\"text-align: right;\">\n",
              "      <th></th>\n",
              "      <th>ID</th>\n",
              "      <th>sex</th>\n",
              "      <th>diagnosis</th>\n",
              "      <th>age</th>\n",
              "      <th>education</th>\n",
              "      <th>TD</th>\n",
              "      <th>PANSS_Total</th>\n",
              "      <th>PANSS_O</th>\n",
              "      <th>PANSS_P</th>\n",
              "      <th>PANSS_N</th>\n",
              "      <th>animals</th>\n",
              "      <th>raw</th>\n",
              "      <th>with hesitation pauses</th>\n",
              "      <th>incomplete</th>\n",
              "    </tr>\n",
              "  </thead>\n",
              "  <tbody>\n",
              "    <tr>\n",
              "      <th>0</th>\n",
              "      <td>S5</td>\n",
              "      <td>1.0</td>\n",
              "      <td>1.0</td>\n",
              "      <td>30.0</td>\n",
              "      <td>16.0</td>\n",
              "      <td>15.0</td>\n",
              "      <td>85.0</td>\n",
              "      <td>42.0</td>\n",
              "      <td>26.0</td>\n",
              "      <td>17.0</td>\n",
              "      <td>[зебра, лев, слон, носорог, жираф, собака, кош...</td>\n",
              "      <td>зебра (0.0) лев (0.2) слон (0.0) носорог (0.0)...</td>\n",
              "      <td>зебра (0.0) лев (0.2) слон (0.0) носорог (0.0)...</td>\n",
              "      <td>NaN</td>\n",
              "    </tr>\n",
              "    <tr>\n",
              "      <th>1</th>\n",
              "      <td>S6</td>\n",
              "      <td>1.0</td>\n",
              "      <td>1.0</td>\n",
              "      <td>36.0</td>\n",
              "      <td>16.0</td>\n",
              "      <td>12.0</td>\n",
              "      <td>83.0</td>\n",
              "      <td>30.0</td>\n",
              "      <td>19.0</td>\n",
              "      <td>34.0</td>\n",
              "      <td>[кошка, собака, корова, коза, койот, слон, жир...</td>\n",
              "      <td>кошка (0.0) собака (0.0) корова (0.0) коза (2...</td>\n",
              "      <td>кошка (0.0) собака (0.0) корова (0.0) коза (0....</td>\n",
              "      <td>NaN</td>\n",
              "    </tr>\n",
              "    <tr>\n",
              "      <th>2</th>\n",
              "      <td>S7</td>\n",
              "      <td>1.0</td>\n",
              "      <td>2.0</td>\n",
              "      <td>39.0</td>\n",
              "      <td>16.0</td>\n",
              "      <td>9.0</td>\n",
              "      <td>60.0</td>\n",
              "      <td>28.0</td>\n",
              "      <td>10.0</td>\n",
              "      <td>22.0</td>\n",
              "      <td>[обезьяна, собака, кошка, поросенок, корова, х...</td>\n",
              "      <td>обезьяна (2.2) собака (0.0) кошка (4.1) поросе...</td>\n",
              "      <td>обезьяна (1.7) собака (0.0) кошка (1.2) э(0.5)...</td>\n",
              "      <td>NaN</td>\n",
              "    </tr>\n",
              "    <tr>\n",
              "      <th>3</th>\n",
              "      <td>S8</td>\n",
              "      <td>1.0</td>\n",
              "      <td>2.0</td>\n",
              "      <td>22.0</td>\n",
              "      <td>11.0</td>\n",
              "      <td>9.0</td>\n",
              "      <td>89.0</td>\n",
              "      <td>58.0</td>\n",
              "      <td>14.0</td>\n",
              "      <td>17.0</td>\n",
              "      <td>[крокодил, динозавр, змея, заяц, волк, лиса, д...</td>\n",
              "      <td>крокодил (0.0) динозавр (0.0) змея (0.0) заяц ...</td>\n",
              "      <td>крокодил (0.0) динозавр (0.0) змея (0.0) заяц ...</td>\n",
              "      <td>NaN</td>\n",
              "    </tr>\n",
              "    <tr>\n",
              "      <th>4</th>\n",
              "      <td>S9</td>\n",
              "      <td>2.0</td>\n",
              "      <td>2.0</td>\n",
              "      <td>18.0</td>\n",
              "      <td>11.0</td>\n",
              "      <td>13.0</td>\n",
              "      <td>57.0</td>\n",
              "      <td>20.0</td>\n",
              "      <td>18.0</td>\n",
              "      <td>19.0</td>\n",
              "      <td>[тигр, лев, мышь, тигр, кот, собака, терьер, м...</td>\n",
              "      <td>тигр (0.7) лев (0.0) мышь (0.7) тигр (3.7) кот...</td>\n",
              "      <td>тигр (0.7) лев (0.0) мышь (0.7) тигр (1.3) э(1...</td>\n",
              "      <td>NaN</td>\n",
              "    </tr>\n",
              "  </tbody>\n",
              "</table>\n",
              "</div>"
            ],
            "text/plain": [
              "   ID  sex  ...                             with hesitation pauses  incomplete\n",
              "0  S5  1.0  ...  зебра (0.0) лев (0.2) слон (0.0) носорог (0.0)...         NaN\n",
              "1  S6  1.0  ...  кошка (0.0) собака (0.0) корова (0.0) коза (0....         NaN\n",
              "2  S7  1.0  ...  обезьяна (1.7) собака (0.0) кошка (1.2) э(0.5)...         NaN\n",
              "3  S8  1.0  ...  крокодил (0.0) динозавр (0.0) змея (0.0) заяц ...         NaN\n",
              "4  S9  2.0  ...  тигр (0.7) лев (0.0) мышь (0.7) тигр (1.3) э(1...         NaN\n",
              "\n",
              "[5 rows x 14 columns]"
            ]
          },
          "metadata": {},
          "execution_count": 5
        }
      ]
    },
    {
      "cell_type": "code",
      "metadata": {
        "id": "InSZzE24VsRc"
      },
      "source": [
        "animals['incomplete'] = animals['incomplete'].fillna(0)"
      ],
      "execution_count": null,
      "outputs": []
    },
    {
      "cell_type": "code",
      "metadata": {
        "colab": {
          "base_uri": "https://localhost:8080/"
        },
        "id": "WxNBL9YyjJrq",
        "outputId": "8daf44b6-40ea-473a-8c70-06f95f921670"
      },
      "source": [
        "animals['binary_diagnosis'] = animals['diagnosis'].apply(lambda x: 1 if x == 1 or x == 2 else 0)\n",
        "animals['raw'] = animals['raw'].apply(lambda s: s.strip() if type(s) == str else s)\n",
        "animals['times'] = animals['raw'].apply(get_times)\n",
        "animals['len_times'] = animals['times'].apply(lambda x: len(x) if type(x) == list else 0)\n",
        "animals['len_words'] = animals['animals'].apply(lambda x: len(x) if type(x) == list else 0)\n",
        "animals['diff'] = animals['len_words'] - animals['len_times']\n",
        "np.unique(animals[animals['len_times'] > 0]['diff'])"
      ],
      "execution_count": null,
      "outputs": [
        {
          "output_type": "execute_result",
          "data": {
            "text/plain": [
              "array([1])"
            ]
          },
          "metadata": {},
          "execution_count": 7
        }
      ]
    },
    {
      "cell_type": "code",
      "metadata": {
        "id": "LgOtWb1JQU2N"
      },
      "source": [
        "animals['total_pause'] = animals['times'].apply(lambda l: sum(l) if l else l)\n",
        "animals['times'] = animals['times'].apply(lambda l: [0.0] + l if l else l)"
      ],
      "execution_count": null,
      "outputs": []
    },
    {
      "cell_type": "code",
      "metadata": {
        "id": "MkLkgcluQXor"
      },
      "source": [
        "animals['unique_num'] = animals['animals'].apply(lambda x: len(set(x)) if type(x) == list else 0)\n",
        "animals['repeat_num'] = animals['len_words'] - animals['unique_num']"
      ],
      "execution_count": null,
      "outputs": []
    },
    {
      "cell_type": "code",
      "metadata": {
        "id": "K8UchYVoYpLA"
      },
      "source": [
        "animals = animals[~pd.isnull(animals['PANSS_Total'])]\n",
        "animals = animals[animals['incomplete'] == 0]"
      ],
      "execution_count": null,
      "outputs": []
    },
    {
      "cell_type": "code",
      "metadata": {
        "id": "EetLjGCsQgIR"
      },
      "source": [
        "def omit_repeat(words):\n",
        "    \"\"\"\n",
        "    removes immediate repetitions for a list of str\n",
        "    \n",
        "    :param words: list of str\n",
        "    :return: list of str with immediate repetitions removed\n",
        "    \"\"\"\n",
        "    return [i[0] for i in groupby(words)]"
      ],
      "execution_count": null,
      "outputs": []
    },
    {
      "cell_type": "code",
      "metadata": {
        "id": "bOTNmmz7Qlp9"
      },
      "source": [
        "animals['animals_no_repeat'] = animals['animals'].apply(omit_repeat)"
      ],
      "execution_count": null,
      "outputs": []
    },
    {
      "cell_type": "markdown",
      "metadata": {
        "id": "N7eQVJWIjXLL"
      },
      "source": [
        "## Load Model"
      ]
    },
    {
      "cell_type": "code",
      "metadata": {
        "colab": {
          "base_uri": "https://localhost:8080/"
        },
        "id": "4-5oBLZ0J9ew",
        "outputId": "65ede4bb-f2f2-4757-b886-8c3667546f24"
      },
      "source": [
        "bert_config = read_json(configs.embedder.bert_embedder)\n",
        "bert_config['metadata']['variables']['BERT_PATH'] = '/content/rubert_cased_L-12_H-768_A-12_pt'\n",
        "\n",
        "m = build_model(bert_config)\n",
        "\n",
        "texts = ['Привет, я хочу взять свои слова назад.', 'Я тоже. Прости меня!']\n",
        "tokens, token_embs, subtokens, subtoken_embs, sent_max_embs, sent_mean_embs, bert_pooler_outputs = m(texts)"
      ],
      "execution_count": null,
      "outputs": [
        {
          "output_type": "stream",
          "name": "stderr",
          "text": [
            "[nltk_data] Downloading package punkt to /root/nltk_data...\n",
            "[nltk_data]   Package punkt is already up-to-date!\n",
            "[nltk_data] Downloading package stopwords to /root/nltk_data...\n",
            "[nltk_data]   Package stopwords is already up-to-date!\n",
            "[nltk_data] Downloading package perluniprops to /root/nltk_data...\n",
            "[nltk_data]   Package perluniprops is already up-to-date!\n",
            "[nltk_data] Downloading package nonbreaking_prefixes to\n",
            "[nltk_data]     /root/nltk_data...\n",
            "[nltk_data]   Package nonbreaking_prefixes is already up-to-date!\n",
            "Some weights of the model checkpoint at /content/rubert_cased_L-12_H-768_A-12_pt were not used when initializing BertModel: ['cls.seq_relationship.bias', 'cls.predictions.transform.LayerNorm.bias', 'cls.predictions.bias', 'cls.predictions.decoder.weight', 'cls.predictions.transform.LayerNorm.weight', 'cls.predictions.transform.dense.bias', 'cls.seq_relationship.weight', 'cls.predictions.transform.dense.weight']\n",
            "- This IS expected if you are initializing BertModel from the checkpoint of a model trained on another task or with another architecture (e.g. initializing a BertForSequenceClassification model from a BertForPreTraining model).\n",
            "- This IS NOT expected if you are initializing BertModel from the checkpoint of a model that you expect to be exactly identical (initializing a BertForSequenceClassification model from a BertForSequenceClassification model).\n"
          ]
        }
      ]
    },
    {
      "cell_type": "markdown",
      "metadata": {
        "id": "p9YT63ScGetz"
      },
      "source": [
        "## Apply Pairwise"
      ]
    },
    {
      "cell_type": "code",
      "metadata": {
        "colab": {
          "base_uri": "https://localhost:8080/"
        },
        "id": "S-EfDgDL44uS",
        "outputId": "8b301af6-7f2e-44ca-c25c-d93444bcf7e5"
      },
      "source": [
        "def apply_pairwise(it, f):\n",
        "  return [f(thing, it[index + 1]) for index, thing in enumerate(it[:-1])]\n",
        "\n",
        "apply_pairwise([1, 2, 3, 4, 5], lambda a, b: a + b)"
      ],
      "execution_count": null,
      "outputs": [
        {
          "output_type": "execute_result",
          "data": {
            "text/plain": [
              "[3, 5, 7, 9]"
            ]
          },
          "metadata": {},
          "execution_count": 30
        }
      ]
    },
    {
      "cell_type": "code",
      "metadata": {
        "id": "CTauVKQsjWD-"
      },
      "source": [
        "animals['cos_sim_no_repeat'] = animals['animals_no_repeat'].apply(lambda text: apply_pairwise(np.split(m(text)[5], len(text), axis=0), lambda x, y: cos_sim(x, y).flatten()[0]))\n",
        "animals['cos_sim_repeat'] = animals['animals'].apply(lambda text: apply_pairwise(np.split(m(text)[5], len(text), axis=0), lambda x, y: cos_sim(x, y).flatten()[0]))"
      ],
      "execution_count": null,
      "outputs": []
    },
    {
      "cell_type": "code",
      "metadata": {
        "id": "EmGvexAMHISQ"
      },
      "source": [
        "animals['mean_cos_sim_no_repeat'] = animals['cos_sim_no_repeat'].apply(np.mean)\n",
        "animals['mean_cos_sim_repeat'] = animals['cos_sim_repeat'].apply(np.mean)\n",
        "animals['min_cos_sim_repeat'] = animals['cos_sim_repeat'].apply(np.min)\n",
        "animals['max_cos_sim_no_repeat'] = animals['cos_sim_no_repeat'].apply(np.max)"
      ],
      "execution_count": 154,
      "outputs": []
    },
    {
      "cell_type": "markdown",
      "metadata": {
        "id": "zIUMu_4giqDV"
      },
      "source": [
        "### Hesitation Pauses"
      ]
    },
    {
      "cell_type": "code",
      "metadata": {
        "colab": {
          "base_uri": "https://localhost:8080/"
        },
        "id": "pDmAyjbsKgcb",
        "outputId": "1ae6a777-1518-4da9-b8bd-83608972d4e9"
      },
      "source": [
        "re.findall('[эам]\\((\\d+(?:.\\d)?)\\)', animals['with hesitation pauses'][1])"
      ],
      "execution_count": null,
      "outputs": [
        {
          "output_type": "execute_result",
          "data": {
            "text/plain": [
              "['1.2',\n",
              " '0.6',\n",
              " '0.5',\n",
              " '0.5',\n",
              " '1.0',\n",
              " '0.8',\n",
              " '0.9',\n",
              " '0.7',\n",
              " '1.2',\n",
              " '0.4',\n",
              " '1',\n",
              " '0.4',\n",
              " '0.4']"
            ]
          },
          "metadata": {},
          "execution_count": 48
        }
      ]
    },
    {
      "cell_type": "code",
      "metadata": {
        "colab": {
          "base_uri": "https://localhost:8080/"
        },
        "id": "DIqCiYf6Lzhj",
        "outputId": "1b15d54b-0017-4f3b-b034-c0d9b31b3e35"
      },
      "source": [
        "r = '([а-я]+) (?:\\(\\d+(?:.\\d)?\\))? [эам]\\((\\d+(?:.\\d)?)\\) (?:\\(\\d+(?:.\\d)?\\))? ([а-я]+)[ $]'\n",
        "re.findall(r, animals['with hesitation pauses'][1])"
      ],
      "execution_count": null,
      "outputs": [
        {
          "output_type": "execute_result",
          "data": {
            "text/plain": [
              "[('заяц', '0.5', 'волк'),\n",
              " ('олени', '1', 'тетерев'),\n",
              " ('филин', '0.4', 'обезьяна')]"
            ]
          },
          "metadata": {},
          "execution_count": 56
        }
      ]
    },
    {
      "cell_type": "code",
      "metadata": {
        "id": "WQYaPNHUKgcc"
      },
      "source": [
        "animals['hesitation_pauses'] = animals[~pd.isnull(animals['with hesitation pauses'])]['with hesitation pauses'].apply(lambda x: re.findall('[эам]\\((\\d+(?:.\\d)?)\\)', x))"
      ],
      "execution_count": null,
      "outputs": []
    },
    {
      "cell_type": "code",
      "metadata": {
        "colab": {
          "base_uri": "https://localhost:8080/"
        },
        "id": "MptKkSRyS03-",
        "outputId": "8e0f9fbc-3cad-438e-f470-344d149d922a"
      },
      "source": [
        "animals['mean_hesitation_length'] = animals[~pd.isnull(animals['with hesitation pauses'])]['hesitation_pauses'].apply(lambda x: np.mean(list(map(float, x))))"
      ],
      "execution_count": null,
      "outputs": [
        {
          "output_type": "stream",
          "name": "stderr",
          "text": [
            "/usr/local/lib/python3.7/dist-packages/numpy/core/fromnumeric.py:3335: RuntimeWarning: Mean of empty slice.\n",
            "  out=out, **kwargs)\n"
          ]
        }
      ]
    },
    {
      "cell_type": "code",
      "metadata": {
        "id": "Ki1eNhtpTAZo"
      },
      "source": [
        "animals['mean_hesitation_len'] = animals[~pd.isnull(animals['with hesitation pauses'])]['hesitation_pauses'].apply(len)"
      ],
      "execution_count": null,
      "outputs": []
    },
    {
      "cell_type": "code",
      "metadata": {
        "id": "QZ6hoSffWOfh"
      },
      "source": [
        "animals['mean_pause_len'] = animals['total_pause'] / animals['len_times']"
      ],
      "execution_count": null,
      "outputs": []
    },
    {
      "cell_type": "code",
      "metadata": {
        "colab": {
          "base_uri": "https://localhost:8080/",
          "height": 463
        },
        "id": "kOPZkkHhU-vx",
        "outputId": "e24cacb2-cb7a-4b18-cd8d-2da65525241f"
      },
      "source": [
        "animals.head(2)"
      ],
      "execution_count": null,
      "outputs": [
        {
          "output_type": "execute_result",
          "data": {
            "text/html": [
              "<div>\n",
              "<style scoped>\n",
              "    .dataframe tbody tr th:only-of-type {\n",
              "        vertical-align: middle;\n",
              "    }\n",
              "\n",
              "    .dataframe tbody tr th {\n",
              "        vertical-align: top;\n",
              "    }\n",
              "\n",
              "    .dataframe thead th {\n",
              "        text-align: right;\n",
              "    }\n",
              "</style>\n",
              "<table border=\"1\" class=\"dataframe\">\n",
              "  <thead>\n",
              "    <tr style=\"text-align: right;\">\n",
              "      <th></th>\n",
              "      <th>ID</th>\n",
              "      <th>sex</th>\n",
              "      <th>diagnosis</th>\n",
              "      <th>age</th>\n",
              "      <th>education</th>\n",
              "      <th>TD</th>\n",
              "      <th>PANSS_Total</th>\n",
              "      <th>PANSS_O</th>\n",
              "      <th>PANSS_P</th>\n",
              "      <th>PANSS_N</th>\n",
              "      <th>animals</th>\n",
              "      <th>raw</th>\n",
              "      <th>with hesitation pauses</th>\n",
              "      <th>incomplete</th>\n",
              "      <th>binary_diagnosis</th>\n",
              "      <th>times</th>\n",
              "      <th>len_times</th>\n",
              "      <th>len_words</th>\n",
              "      <th>diff</th>\n",
              "      <th>total_pause</th>\n",
              "      <th>unique_num</th>\n",
              "      <th>repeat_num</th>\n",
              "      <th>animals_no_repeat</th>\n",
              "      <th>cos_sim_no_repeat</th>\n",
              "      <th>cos_sim_repeat</th>\n",
              "      <th>mean_cos_sim_no_repeat</th>\n",
              "      <th>mean_cos_sim_repeat</th>\n",
              "      <th>hesitation_pauses</th>\n",
              "      <th>hesitation_triplets</th>\n",
              "      <th>cos_sim_hes_time</th>\n",
              "      <th>mean_hesitation_len</th>\n",
              "      <th>mean_hesitation_length</th>\n",
              "    </tr>\n",
              "  </thead>\n",
              "  <tbody>\n",
              "    <tr>\n",
              "      <th>0</th>\n",
              "      <td>S5</td>\n",
              "      <td>1.0</td>\n",
              "      <td>1.0</td>\n",
              "      <td>30.0</td>\n",
              "      <td>16.0</td>\n",
              "      <td>15.0</td>\n",
              "      <td>85.0</td>\n",
              "      <td>42.0</td>\n",
              "      <td>26.0</td>\n",
              "      <td>17.0</td>\n",
              "      <td>[зебра, лев, слон, носорог, жираф, собака, кош...</td>\n",
              "      <td>зебра (0.0) лев (0.2) слон (0.0) носорог (0.0)...</td>\n",
              "      <td>зебра (0.0) лев (0.2) слон (0.0) носорог (0.0)...</td>\n",
              "      <td>0.0</td>\n",
              "      <td>1</td>\n",
              "      <td>[0.0, 0.0, 0.2, 0.0, 0.0, 0.4, 0.0, 0.3, 2.0, ...</td>\n",
              "      <td>25</td>\n",
              "      <td>26</td>\n",
              "      <td>1</td>\n",
              "      <td>37.6</td>\n",
              "      <td>22</td>\n",
              "      <td>4</td>\n",
              "      <td>[зебра, лев, слон, носорог, жираф, собака, кош...</td>\n",
              "      <td>[0.75690246, 0.89264506, 0.83018124, 0.8004989...</td>\n",
              "      <td>[0.75690246, 0.89264506, 0.83018124, 0.8004989...</td>\n",
              "      <td>0.815839</td>\n",
              "      <td>0.823205</td>\n",
              "      <td>[0.9, 0.5, 0.8, 1.1, 1, 0.5, 1.0, 0.5]</td>\n",
              "      <td>[(медведь, 0.9, жираф), (зебра, 0.8, лань), (в...</td>\n",
              "      <td>[(0.8681521, 0.9), (0.645524, 0.8), (0.7227631...</td>\n",
              "      <td>8.0</td>\n",
              "      <td>0.787500</td>\n",
              "    </tr>\n",
              "    <tr>\n",
              "      <th>1</th>\n",
              "      <td>S6</td>\n",
              "      <td>1.0</td>\n",
              "      <td>1.0</td>\n",
              "      <td>36.0</td>\n",
              "      <td>16.0</td>\n",
              "      <td>12.0</td>\n",
              "      <td>83.0</td>\n",
              "      <td>30.0</td>\n",
              "      <td>19.0</td>\n",
              "      <td>34.0</td>\n",
              "      <td>[кошка, собака, корова, коза, койот, слон, жир...</td>\n",
              "      <td>кошка (0.0) собака (0.0) корова (0.0) коза (2....</td>\n",
              "      <td>кошка (0.0) собака (0.0) корова (0.0) коза (0....</td>\n",
              "      <td>0.0</td>\n",
              "      <td>1</td>\n",
              "      <td>[0.0, 0.0, 0.0, 0.0, 2.0, 0.0, 0.0, 3.1, 0.0, ...</td>\n",
              "      <td>31</td>\n",
              "      <td>32</td>\n",
              "      <td>1</td>\n",
              "      <td>51.4</td>\n",
              "      <td>31</td>\n",
              "      <td>1</td>\n",
              "      <td>[кошка, собака, корова, коза, койот, слон, жир...</td>\n",
              "      <td>[0.92570823, 0.9153649, 0.81315, 0.7257952, 0....</td>\n",
              "      <td>[0.92570823, 0.9153649, 0.81315, 0.7257952, 0....</td>\n",
              "      <td>0.796164</td>\n",
              "      <td>0.802739</td>\n",
              "      <td>[1.2, 0.6, 0.5, 0.5, 1.0, 0.8, 0.9, 0.7, 1.2, ...</td>\n",
              "      <td>[(заяц, 0.5, волк), (олени, 1, тетерев), (фили...</td>\n",
              "      <td>[(0.9232686, 0.5), (0.85388994, 1.0), (0.74194...</td>\n",
              "      <td>13.0</td>\n",
              "      <td>0.738462</td>\n",
              "    </tr>\n",
              "  </tbody>\n",
              "</table>\n",
              "</div>"
            ],
            "text/plain": [
              "   ID  sex  ...  mean_hesitation_len  mean_hesitation_length\n",
              "0  S5  1.0  ...                  8.0                0.787500\n",
              "1  S6  1.0  ...                 13.0                0.738462\n",
              "\n",
              "[2 rows x 32 columns]"
            ]
          },
          "metadata": {},
          "execution_count": 111
        }
      ]
    },
    {
      "cell_type": "markdown",
      "metadata": {
        "id": "_0HXQ_evikVC"
      },
      "source": [
        "## Analysis"
      ]
    },
    {
      "cell_type": "code",
      "metadata": {
        "id": "GWQRTTL6jWaA"
      },
      "source": [
        "t_test = ['binary_diagnosis', 'sex']\n",
        "corr_test = ['TD', 'PANSS_Total', 'PANSS_O', 'PANSS_P', 'PANSS_N'] \n",
        "params = ['unique_num', 'repeat_num', 'mean_cos_sim_no_repeat', 'min_cos_sim_no_repeat', 'maxn_cos_sim_no_repeat', 'mean_hesitation_len',\t'mean_hesitation_length']"
      ],
      "execution_count": 155,
      "outputs": []
    },
    {
      "cell_type": "code",
      "metadata": {
        "colab": {
          "base_uri": "https://localhost:8080/",
          "height": 141
        },
        "id": "x7VNPrsoWjs5",
        "outputId": "13227954-14e6-40bb-e15f-0997b38eaef4"
      },
      "source": [
        "display_test(animals, corr_test, 'unique_num', stats.spearmanr, stat_name='t')"
      ],
      "execution_count": 144,
      "outputs": [
        {
          "output_type": "execute_result",
          "data": {
            "text/html": [
              "<style  type=\"text/css\" >\n",
              "    #T_125679ec_1a65_11ec_a8ac_0242ac1c0002row0_col0 {\n",
              "            background-color:  #fff5f0;\n",
              "            color:  #000000;\n",
              "        }    #T_125679ec_1a65_11ec_a8ac_0242ac1c0002row0_col1 {\n",
              "            background-color:  #fff5f0;\n",
              "            color:  #000000;\n",
              "        }    #T_125679ec_1a65_11ec_a8ac_0242ac1c0002row0_col3 {\n",
              "            background-color:  #fff5f0;\n",
              "            color:  #000000;\n",
              "        }    #T_125679ec_1a65_11ec_a8ac_0242ac1c0002row1_col0 {\n",
              "            background-color:  #fdc7b2;\n",
              "            color:  #000000;\n",
              "        }    #T_125679ec_1a65_11ec_a8ac_0242ac1c0002row1_col1 {\n",
              "            background-color:  #fff5f0;\n",
              "            color:  #000000;\n",
              "        }    #T_125679ec_1a65_11ec_a8ac_0242ac1c0002row1_col3 {\n",
              "            background-color:  #fff5f0;\n",
              "            color:  #000000;\n",
              "        }    #T_125679ec_1a65_11ec_a8ac_0242ac1c0002row2_col0 {\n",
              "            background-color:  #f6563d;\n",
              "            color:  #000000;\n",
              "        }    #T_125679ec_1a65_11ec_a8ac_0242ac1c0002row2_col1 {\n",
              "            background-color:  #ffede5;\n",
              "            color:  #000000;\n",
              "        }    #T_125679ec_1a65_11ec_a8ac_0242ac1c0002row2_col3 {\n",
              "            background-color:  #ffede5;\n",
              "            color:  #000000;\n",
              "        }    #T_125679ec_1a65_11ec_a8ac_0242ac1c0002row3_col0 {\n",
              "            background-color:  #f24734;\n",
              "            color:  #000000;\n",
              "        }    #T_125679ec_1a65_11ec_a8ac_0242ac1c0002row3_col1 {\n",
              "            background-color:  #feeae0;\n",
              "            color:  #000000;\n",
              "        }    #T_125679ec_1a65_11ec_a8ac_0242ac1c0002row3_col3 {\n",
              "            background-color:  #feeae0;\n",
              "            color:  #000000;\n",
              "        }    #T_125679ec_1a65_11ec_a8ac_0242ac1c0002row4_col0 {\n",
              "            background-color:  #67000d;\n",
              "            color:  #f1f1f1;\n",
              "        }    #T_125679ec_1a65_11ec_a8ac_0242ac1c0002row4_col1 {\n",
              "            background-color:  #67000d;\n",
              "            color:  #f1f1f1;\n",
              "        }    #T_125679ec_1a65_11ec_a8ac_0242ac1c0002row4_col3 {\n",
              "            background-color:  #67000d;\n",
              "            color:  #f1f1f1;\n",
              "        }</style><table id=\"T_125679ec_1a65_11ec_a8ac_0242ac1c0002\" ><thead>    <tr>        <th class=\"blank level0\" ></th>        <th class=\"col_heading level0 col0\" >t</th>        <th class=\"col_heading level0 col1\" >p</th>        <th class=\"col_heading level0 col2\" >sig</th>        <th class=\"col_heading level0 col3\" >bonf</th>        <th class=\"col_heading level0 col4\" >bonf_sig</th>    </tr></thead><tbody>\n",
              "                <tr>\n",
              "                        <th id=\"T_125679ec_1a65_11ec_a8ac_0242ac1c0002level0_row0\" class=\"row_heading level0 row0\" >PANSS_N</th>\n",
              "                        <td id=\"T_125679ec_1a65_11ec_a8ac_0242ac1c0002row0_col0\" class=\"data row0 col0\" >-0.713479</td>\n",
              "                        <td id=\"T_125679ec_1a65_11ec_a8ac_0242ac1c0002row0_col1\" class=\"data row0 col1\" >8.73663e-09</td>\n",
              "                        <td id=\"T_125679ec_1a65_11ec_a8ac_0242ac1c0002row0_col2\" class=\"data row0 col2\" >True</td>\n",
              "                        <td id=\"T_125679ec_1a65_11ec_a8ac_0242ac1c0002row0_col3\" class=\"data row0 col3\" >4.36831e-08</td>\n",
              "                        <td id=\"T_125679ec_1a65_11ec_a8ac_0242ac1c0002row0_col4\" class=\"data row0 col4\" >True</td>\n",
              "            </tr>\n",
              "            <tr>\n",
              "                        <th id=\"T_125679ec_1a65_11ec_a8ac_0242ac1c0002level0_row1\" class=\"row_heading level0 row1\" >PANSS_P</th>\n",
              "                        <td id=\"T_125679ec_1a65_11ec_a8ac_0242ac1c0002row1_col0\" class=\"data row1 col0\" >-0.683081</td>\n",
              "                        <td id=\"T_125679ec_1a65_11ec_a8ac_0242ac1c0002row1_col1\" class=\"data row1 col1\" >6.38617e-08</td>\n",
              "                        <td id=\"T_125679ec_1a65_11ec_a8ac_0242ac1c0002row1_col2\" class=\"data row1 col2\" >True</td>\n",
              "                        <td id=\"T_125679ec_1a65_11ec_a8ac_0242ac1c0002row1_col3\" class=\"data row1 col3\" >3.19309e-07</td>\n",
              "                        <td id=\"T_125679ec_1a65_11ec_a8ac_0242ac1c0002row1_col4\" class=\"data row1 col4\" >True</td>\n",
              "            </tr>\n",
              "            <tr>\n",
              "                        <th id=\"T_125679ec_1a65_11ec_a8ac_0242ac1c0002level0_row2\" class=\"row_heading level0 row2\" >PANSS_O</th>\n",
              "                        <td id=\"T_125679ec_1a65_11ec_a8ac_0242ac1c0002row2_col0\" class=\"data row2 col0\" >-0.633008</td>\n",
              "                        <td id=\"T_125679ec_1a65_11ec_a8ac_0242ac1c0002row2_col1\" class=\"data row2 col1\" >1.05785e-06</td>\n",
              "                        <td id=\"T_125679ec_1a65_11ec_a8ac_0242ac1c0002row2_col2\" class=\"data row2 col2\" >True</td>\n",
              "                        <td id=\"T_125679ec_1a65_11ec_a8ac_0242ac1c0002row2_col3\" class=\"data row2 col3\" >5.28925e-06</td>\n",
              "                        <td id=\"T_125679ec_1a65_11ec_a8ac_0242ac1c0002row2_col4\" class=\"data row2 col4\" >True</td>\n",
              "            </tr>\n",
              "            <tr>\n",
              "                        <th id=\"T_125679ec_1a65_11ec_a8ac_0242ac1c0002level0_row3\" class=\"row_heading level0 row3\" >TD</th>\n",
              "                        <td id=\"T_125679ec_1a65_11ec_a8ac_0242ac1c0002row3_col0\" class=\"data row3 col0\" >-0.627059</td>\n",
              "                        <td id=\"T_125679ec_1a65_11ec_a8ac_0242ac1c0002row3_col1\" class=\"data row3 col1\" >1.42893e-06</td>\n",
              "                        <td id=\"T_125679ec_1a65_11ec_a8ac_0242ac1c0002row3_col2\" class=\"data row3 col2\" >True</td>\n",
              "                        <td id=\"T_125679ec_1a65_11ec_a8ac_0242ac1c0002row3_col3\" class=\"data row3 col3\" >7.14463e-06</td>\n",
              "                        <td id=\"T_125679ec_1a65_11ec_a8ac_0242ac1c0002row3_col4\" class=\"data row3 col4\" >True</td>\n",
              "            </tr>\n",
              "            <tr>\n",
              "                        <th id=\"T_125679ec_1a65_11ec_a8ac_0242ac1c0002level0_row4\" class=\"row_heading level0 row4\" >PANSS_Total</th>\n",
              "                        <td id=\"T_125679ec_1a65_11ec_a8ac_0242ac1c0002row4_col0\" class=\"data row4 col0\" >-0.567403</td>\n",
              "                        <td id=\"T_125679ec_1a65_11ec_a8ac_0242ac1c0002row4_col1\" class=\"data row4 col1\" >2.12496e-05</td>\n",
              "                        <td id=\"T_125679ec_1a65_11ec_a8ac_0242ac1c0002row4_col2\" class=\"data row4 col2\" >True</td>\n",
              "                        <td id=\"T_125679ec_1a65_11ec_a8ac_0242ac1c0002row4_col3\" class=\"data row4 col3\" >0.000106248</td>\n",
              "                        <td id=\"T_125679ec_1a65_11ec_a8ac_0242ac1c0002row4_col4\" class=\"data row4 col4\" >True</td>\n",
              "            </tr>\n",
              "    </tbody></table>"
            ],
            "text/plain": [
              "<pandas.io.formats.style.Styler at 0x7f345125a4d0>"
            ]
          },
          "metadata": {},
          "execution_count": 144
        }
      ]
    },
    {
      "cell_type": "code",
      "metadata": {
        "colab": {
          "base_uri": "https://localhost:8080/",
          "height": 141
        },
        "id": "jUmxPrhFYD_X",
        "outputId": "0ae93572-1684-47db-d74b-a2ab36eb3eef"
      },
      "source": [
        "display_test(animals, corr_test, 'repeat_num', stats.spearmanr, stat_name='t')"
      ],
      "execution_count": 145,
      "outputs": [
        {
          "output_type": "execute_result",
          "data": {
            "text/html": [
              "<style  type=\"text/css\" >\n",
              "    #T_159ef46c_1a65_11ec_a8ac_0242ac1c0002row0_col0 {\n",
              "            background-color:  #67000d;\n",
              "            color:  #f1f1f1;\n",
              "        }    #T_159ef46c_1a65_11ec_a8ac_0242ac1c0002row0_col1 {\n",
              "            background-color:  #fff5f0;\n",
              "            color:  #000000;\n",
              "        }    #T_159ef46c_1a65_11ec_a8ac_0242ac1c0002row0_col3 {\n",
              "            background-color:  #fff5f0;\n",
              "            color:  #000000;\n",
              "        }    #T_159ef46c_1a65_11ec_a8ac_0242ac1c0002row1_col0 {\n",
              "            background-color:  #fff5f0;\n",
              "            color:  #000000;\n",
              "        }    #T_159ef46c_1a65_11ec_a8ac_0242ac1c0002row1_col1 {\n",
              "            background-color:  #de2b25;\n",
              "            color:  #f1f1f1;\n",
              "        }    #T_159ef46c_1a65_11ec_a8ac_0242ac1c0002row1_col3 {\n",
              "            background-color:  #fff5f0;\n",
              "            color:  #000000;\n",
              "        }    #T_159ef46c_1a65_11ec_a8ac_0242ac1c0002row2_col0 {\n",
              "            background-color:  #ffeee6;\n",
              "            color:  #000000;\n",
              "        }    #T_159ef46c_1a65_11ec_a8ac_0242ac1c0002row2_col1 {\n",
              "            background-color:  #c9181d;\n",
              "            color:  #f1f1f1;\n",
              "        }    #T_159ef46c_1a65_11ec_a8ac_0242ac1c0002row2_col3 {\n",
              "            background-color:  #fff5f0;\n",
              "            color:  #000000;\n",
              "        }    #T_159ef46c_1a65_11ec_a8ac_0242ac1c0002row3_col0 {\n",
              "            background-color:  #fdd5c4;\n",
              "            color:  #000000;\n",
              "        }    #T_159ef46c_1a65_11ec_a8ac_0242ac1c0002row3_col1 {\n",
              "            background-color:  #860811;\n",
              "            color:  #f1f1f1;\n",
              "        }    #T_159ef46c_1a65_11ec_a8ac_0242ac1c0002row3_col3 {\n",
              "            background-color:  #fff5f0;\n",
              "            color:  #000000;\n",
              "        }    #T_159ef46c_1a65_11ec_a8ac_0242ac1c0002row4_col0 {\n",
              "            background-color:  #fcb79c;\n",
              "            color:  #000000;\n",
              "        }    #T_159ef46c_1a65_11ec_a8ac_0242ac1c0002row4_col1 {\n",
              "            background-color:  #67000d;\n",
              "            color:  #f1f1f1;\n",
              "        }    #T_159ef46c_1a65_11ec_a8ac_0242ac1c0002row4_col3 {\n",
              "            background-color:  #fff5f0;\n",
              "            color:  #000000;\n",
              "        }</style><table id=\"T_159ef46c_1a65_11ec_a8ac_0242ac1c0002\" ><thead>    <tr>        <th class=\"blank level0\" ></th>        <th class=\"col_heading level0 col0\" >t</th>        <th class=\"col_heading level0 col1\" >p</th>        <th class=\"col_heading level0 col2\" >sig</th>        <th class=\"col_heading level0 col3\" >bonf</th>        <th class=\"col_heading level0 col4\" >bonf_sig</th>    </tr></thead><tbody>\n",
              "                <tr>\n",
              "                        <th id=\"T_159ef46c_1a65_11ec_a8ac_0242ac1c0002level0_row0\" class=\"row_heading level0 row0\" >PANSS_Total</th>\n",
              "                        <td id=\"T_159ef46c_1a65_11ec_a8ac_0242ac1c0002row0_col0\" class=\"data row0 col0\" >0.144451</td>\n",
              "                        <td id=\"T_159ef46c_1a65_11ec_a8ac_0242ac1c0002row0_col1\" class=\"data row0 col1\" >0.322047</td>\n",
              "                        <td id=\"T_159ef46c_1a65_11ec_a8ac_0242ac1c0002row0_col2\" class=\"data row0 col2\" >False</td>\n",
              "                        <td id=\"T_159ef46c_1a65_11ec_a8ac_0242ac1c0002row0_col3\" class=\"data row0 col3\" >1</td>\n",
              "                        <td id=\"T_159ef46c_1a65_11ec_a8ac_0242ac1c0002row0_col4\" class=\"data row0 col4\" >False</td>\n",
              "            </tr>\n",
              "            <tr>\n",
              "                        <th id=\"T_159ef46c_1a65_11ec_a8ac_0242ac1c0002level0_row1\" class=\"row_heading level0 row1\" >PANSS_O</th>\n",
              "                        <td id=\"T_159ef46c_1a65_11ec_a8ac_0242ac1c0002row1_col0\" class=\"data row1 col0\" >-0.0439881</td>\n",
              "                        <td id=\"T_159ef46c_1a65_11ec_a8ac_0242ac1c0002row1_col1\" class=\"data row1 col1\" >0.764091</td>\n",
              "                        <td id=\"T_159ef46c_1a65_11ec_a8ac_0242ac1c0002row1_col2\" class=\"data row1 col2\" >False</td>\n",
              "                        <td id=\"T_159ef46c_1a65_11ec_a8ac_0242ac1c0002row1_col3\" class=\"data row1 col3\" >1</td>\n",
              "                        <td id=\"T_159ef46c_1a65_11ec_a8ac_0242ac1c0002row1_col4\" class=\"data row1 col4\" >False</td>\n",
              "            </tr>\n",
              "            <tr>\n",
              "                        <th id=\"T_159ef46c_1a65_11ec_a8ac_0242ac1c0002level0_row2\" class=\"row_heading level0 row2\" >TD</th>\n",
              "                        <td id=\"T_159ef46c_1a65_11ec_a8ac_0242ac1c0002row2_col0\" class=\"data row2 col0\" >-0.035191</td>\n",
              "                        <td id=\"T_159ef46c_1a65_11ec_a8ac_0242ac1c0002row2_col1\" class=\"data row2 col1\" >0.81029</td>\n",
              "                        <td id=\"T_159ef46c_1a65_11ec_a8ac_0242ac1c0002row2_col2\" class=\"data row2 col2\" >False</td>\n",
              "                        <td id=\"T_159ef46c_1a65_11ec_a8ac_0242ac1c0002row2_col3\" class=\"data row2 col3\" >1</td>\n",
              "                        <td id=\"T_159ef46c_1a65_11ec_a8ac_0242ac1c0002row2_col4\" class=\"data row2 col4\" >False</td>\n",
              "            </tr>\n",
              "            <tr>\n",
              "                        <th id=\"T_159ef46c_1a65_11ec_a8ac_0242ac1c0002level0_row3\" class=\"row_heading level0 row3\" >PANSS_P</th>\n",
              "                        <td id=\"T_159ef46c_1a65_11ec_a8ac_0242ac1c0002row3_col0\" class=\"data row3 col0\" >-0.0133869</td>\n",
              "                        <td id=\"T_159ef46c_1a65_11ec_a8ac_0242ac1c0002row3_col1\" class=\"data row3 col1\" >0.92726</td>\n",
              "                        <td id=\"T_159ef46c_1a65_11ec_a8ac_0242ac1c0002row3_col2\" class=\"data row3 col2\" >False</td>\n",
              "                        <td id=\"T_159ef46c_1a65_11ec_a8ac_0242ac1c0002row3_col3\" class=\"data row3 col3\" >1</td>\n",
              "                        <td id=\"T_159ef46c_1a65_11ec_a8ac_0242ac1c0002row3_col4\" class=\"data row3 col4\" >False</td>\n",
              "            </tr>\n",
              "            <tr>\n",
              "                        <th id=\"T_159ef46c_1a65_11ec_a8ac_0242ac1c0002level0_row4\" class=\"row_heading level0 row4\" >PANSS_N</th>\n",
              "                        <td id=\"T_159ef46c_1a65_11ec_a8ac_0242ac1c0002row4_col0\" class=\"data row4 col0\" >0.00568351</td>\n",
              "                        <td id=\"T_159ef46c_1a65_11ec_a8ac_0242ac1c0002row4_col1\" class=\"data row4 col1\" >0.969083</td>\n",
              "                        <td id=\"T_159ef46c_1a65_11ec_a8ac_0242ac1c0002row4_col2\" class=\"data row4 col2\" >False</td>\n",
              "                        <td id=\"T_159ef46c_1a65_11ec_a8ac_0242ac1c0002row4_col3\" class=\"data row4 col3\" >1</td>\n",
              "                        <td id=\"T_159ef46c_1a65_11ec_a8ac_0242ac1c0002row4_col4\" class=\"data row4 col4\" >False</td>\n",
              "            </tr>\n",
              "    </tbody></table>"
            ],
            "text/plain": [
              "<pandas.io.formats.style.Styler at 0x7f344fa0a9d0>"
            ]
          },
          "metadata": {},
          "execution_count": 145
        }
      ]
    },
    {
      "cell_type": "code",
      "metadata": {
        "colab": {
          "base_uri": "https://localhost:8080/",
          "height": 141
        },
        "id": "RXnjYVUUYM3c",
        "outputId": "2d3d34c9-f8a0-4f9d-8804-13bc2aa9d739"
      },
      "source": [
        "display_test(animals, corr_test, 'mean_cos_sim_no_repeat', stats.spearmanr, stat_name='t')"
      ],
      "execution_count": 147,
      "outputs": [
        {
          "output_type": "execute_result",
          "data": {
            "text/html": [
              "<style  type=\"text/css\" >\n",
              "    #T_1a323ade_1a65_11ec_a8ac_0242ac1c0002row0_col0 {\n",
              "            background-color:  #67000d;\n",
              "            color:  #f1f1f1;\n",
              "        }    #T_1a323ade_1a65_11ec_a8ac_0242ac1c0002row0_col1 {\n",
              "            background-color:  #fff5f0;\n",
              "            color:  #000000;\n",
              "        }    #T_1a323ade_1a65_11ec_a8ac_0242ac1c0002row0_col3 {\n",
              "            background-color:  #fff5f0;\n",
              "            color:  #000000;\n",
              "        }    #T_1a323ade_1a65_11ec_a8ac_0242ac1c0002row1_col0 {\n",
              "            background-color:  #880811;\n",
              "            color:  #f1f1f1;\n",
              "        }    #T_1a323ade_1a65_11ec_a8ac_0242ac1c0002row1_col1 {\n",
              "            background-color:  #fff4ee;\n",
              "            color:  #000000;\n",
              "        }    #T_1a323ade_1a65_11ec_a8ac_0242ac1c0002row1_col3 {\n",
              "            background-color:  #fff0e9;\n",
              "            color:  #000000;\n",
              "        }    #T_1a323ade_1a65_11ec_a8ac_0242ac1c0002row2_col0 {\n",
              "            background-color:  #900a12;\n",
              "            color:  #f1f1f1;\n",
              "        }    #T_1a323ade_1a65_11ec_a8ac_0242ac1c0002row2_col1 {\n",
              "            background-color:  #fff4ee;\n",
              "            color:  #000000;\n",
              "        }    #T_1a323ade_1a65_11ec_a8ac_0242ac1c0002row2_col3 {\n",
              "            background-color:  #ffefe8;\n",
              "            color:  #000000;\n",
              "        }    #T_1a323ade_1a65_11ec_a8ac_0242ac1c0002row3_col0 {\n",
              "            background-color:  #9d0d14;\n",
              "            color:  #f1f1f1;\n",
              "        }    #T_1a323ade_1a65_11ec_a8ac_0242ac1c0002row3_col1 {\n",
              "            background-color:  #fff2ec;\n",
              "            color:  #000000;\n",
              "        }    #T_1a323ade_1a65_11ec_a8ac_0242ac1c0002row3_col3 {\n",
              "            background-color:  #ffede5;\n",
              "            color:  #000000;\n",
              "        }    #T_1a323ade_1a65_11ec_a8ac_0242ac1c0002row4_col0 {\n",
              "            background-color:  #fff5f0;\n",
              "            color:  #000000;\n",
              "        }    #T_1a323ade_1a65_11ec_a8ac_0242ac1c0002row4_col1 {\n",
              "            background-color:  #67000d;\n",
              "            color:  #f1f1f1;\n",
              "        }    #T_1a323ade_1a65_11ec_a8ac_0242ac1c0002row4_col3 {\n",
              "            background-color:  #67000d;\n",
              "            color:  #f1f1f1;\n",
              "        }</style><table id=\"T_1a323ade_1a65_11ec_a8ac_0242ac1c0002\" ><thead>    <tr>        <th class=\"blank level0\" ></th>        <th class=\"col_heading level0 col0\" >t</th>        <th class=\"col_heading level0 col1\" >p</th>        <th class=\"col_heading level0 col2\" >sig</th>        <th class=\"col_heading level0 col3\" >bonf</th>        <th class=\"col_heading level0 col4\" >bonf_sig</th>    </tr></thead><tbody>\n",
              "                <tr>\n",
              "                        <th id=\"T_1a323ade_1a65_11ec_a8ac_0242ac1c0002level0_row0\" class=\"row_heading level0 row0\" >PANSS_N</th>\n",
              "                        <td id=\"T_1a323ade_1a65_11ec_a8ac_0242ac1c0002row0_col0\" class=\"data row0 col0\" >0.364327</td>\n",
              "                        <td id=\"T_1a323ade_1a65_11ec_a8ac_0242ac1c0002row0_col1\" class=\"data row0 col1\" >0.0100653</td>\n",
              "                        <td id=\"T_1a323ade_1a65_11ec_a8ac_0242ac1c0002row0_col2\" class=\"data row0 col2\" >True</td>\n",
              "                        <td id=\"T_1a323ade_1a65_11ec_a8ac_0242ac1c0002row0_col3\" class=\"data row0 col3\" >0.0503266</td>\n",
              "                        <td id=\"T_1a323ade_1a65_11ec_a8ac_0242ac1c0002row0_col4\" class=\"data row0 col4\" >False</td>\n",
              "            </tr>\n",
              "            <tr>\n",
              "                        <th id=\"T_1a323ade_1a65_11ec_a8ac_0242ac1c0002level0_row1\" class=\"row_heading level0 row1\" >PANSS_O</th>\n",
              "                        <td id=\"T_1a323ade_1a65_11ec_a8ac_0242ac1c0002row1_col0\" class=\"data row1 col0\" >0.344553</td>\n",
              "                        <td id=\"T_1a323ade_1a65_11ec_a8ac_0242ac1c0002row1_col1\" class=\"data row1 col1\" >0.0153355</td>\n",
              "                        <td id=\"T_1a323ade_1a65_11ec_a8ac_0242ac1c0002row1_col2\" class=\"data row1 col2\" >True</td>\n",
              "                        <td id=\"T_1a323ade_1a65_11ec_a8ac_0242ac1c0002row1_col3\" class=\"data row1 col3\" >0.0766774</td>\n",
              "                        <td id=\"T_1a323ade_1a65_11ec_a8ac_0242ac1c0002row1_col4\" class=\"data row1 col4\" >False</td>\n",
              "            </tr>\n",
              "            <tr>\n",
              "                        <th id=\"T_1a323ade_1a65_11ec_a8ac_0242ac1c0002level0_row2\" class=\"row_heading level0 row2\" >PANSS_P</th>\n",
              "                        <td id=\"T_1a323ade_1a65_11ec_a8ac_0242ac1c0002row2_col0\" class=\"data row2 col0\" >0.339763</td>\n",
              "                        <td id=\"T_1a323ade_1a65_11ec_a8ac_0242ac1c0002row2_col1\" class=\"data row2 col1\" >0.0169184</td>\n",
              "                        <td id=\"T_1a323ade_1a65_11ec_a8ac_0242ac1c0002row2_col2\" class=\"data row2 col2\" >True</td>\n",
              "                        <td id=\"T_1a323ade_1a65_11ec_a8ac_0242ac1c0002row2_col3\" class=\"data row2 col3\" >0.0845921</td>\n",
              "                        <td id=\"T_1a323ade_1a65_11ec_a8ac_0242ac1c0002row2_col4\" class=\"data row2 col4\" >False</td>\n",
              "            </tr>\n",
              "            <tr>\n",
              "                        <th id=\"T_1a323ade_1a65_11ec_a8ac_0242ac1c0002level0_row3\" class=\"row_heading level0 row3\" >TD</th>\n",
              "                        <td id=\"T_1a323ade_1a65_11ec_a8ac_0242ac1c0002row3_col0\" class=\"data row3 col0\" >0.332457</td>\n",
              "                        <td id=\"T_1a323ade_1a65_11ec_a8ac_0242ac1c0002row3_col1\" class=\"data row3 col1\" >0.0195987</td>\n",
              "                        <td id=\"T_1a323ade_1a65_11ec_a8ac_0242ac1c0002row3_col2\" class=\"data row3 col2\" >True</td>\n",
              "                        <td id=\"T_1a323ade_1a65_11ec_a8ac_0242ac1c0002row3_col3\" class=\"data row3 col3\" >0.0979935</td>\n",
              "                        <td id=\"T_1a323ade_1a65_11ec_a8ac_0242ac1c0002row3_col4\" class=\"data row3 col4\" >False</td>\n",
              "            </tr>\n",
              "            <tr>\n",
              "                        <th id=\"T_1a323ade_1a65_11ec_a8ac_0242ac1c0002level0_row4\" class=\"row_heading level0 row4\" >PANSS_Total</th>\n",
              "                        <td id=\"T_1a323ade_1a65_11ec_a8ac_0242ac1c0002row4_col0\" class=\"data row4 col0\" >0.0773692</td>\n",
              "                        <td id=\"T_1a323ade_1a65_11ec_a8ac_0242ac1c0002row4_col1\" class=\"data row4 col1\" >0.597224</td>\n",
              "                        <td id=\"T_1a323ade_1a65_11ec_a8ac_0242ac1c0002row4_col2\" class=\"data row4 col2\" >False</td>\n",
              "                        <td id=\"T_1a323ade_1a65_11ec_a8ac_0242ac1c0002row4_col3\" class=\"data row4 col3\" >1</td>\n",
              "                        <td id=\"T_1a323ade_1a65_11ec_a8ac_0242ac1c0002row4_col4\" class=\"data row4 col4\" >False</td>\n",
              "            </tr>\n",
              "    </tbody></table>"
            ],
            "text/plain": [
              "<pandas.io.formats.style.Styler at 0x7f34513d8790>"
            ]
          },
          "metadata": {},
          "execution_count": 147
        }
      ]
    },
    {
      "cell_type": "code",
      "metadata": {
        "colab": {
          "base_uri": "https://localhost:8080/",
          "height": 141
        },
        "id": "10wJRjwRbS0X",
        "outputId": "295e3af2-2ddc-472c-f986-af5362310829"
      },
      "source": [
        "display_test(animals, corr_test, 'min_cos_sim_no_repeat', stats.spearmanr, stat_name='t')"
      ],
      "execution_count": 156,
      "outputs": [
        {
          "output_type": "execute_result",
          "data": {
            "text/html": [
              "<style  type=\"text/css\" >\n",
              "    #T_0e904ea4_1a66_11ec_a8ac_0242ac1c0002row0_col0 {\n",
              "            background-color:  #67000d;\n",
              "            color:  #f1f1f1;\n",
              "        }    #T_0e904ea4_1a66_11ec_a8ac_0242ac1c0002row0_col1 {\n",
              "            background-color:  #fff5f0;\n",
              "            color:  #000000;\n",
              "        }    #T_0e904ea4_1a66_11ec_a8ac_0242ac1c0002row0_col3 {\n",
              "            background-color:  #fff5f0;\n",
              "            color:  #000000;\n",
              "        }    #T_0e904ea4_1a66_11ec_a8ac_0242ac1c0002row1_col0 {\n",
              "            background-color:  #77040f;\n",
              "            color:  #f1f1f1;\n",
              "        }    #T_0e904ea4_1a66_11ec_a8ac_0242ac1c0002row1_col1 {\n",
              "            background-color:  #fff3ed;\n",
              "            color:  #000000;\n",
              "        }    #T_0e904ea4_1a66_11ec_a8ac_0242ac1c0002row1_col3 {\n",
              "            background-color:  #fff3ed;\n",
              "            color:  #000000;\n",
              "        }    #T_0e904ea4_1a66_11ec_a8ac_0242ac1c0002row2_col0 {\n",
              "            background-color:  #a81016;\n",
              "            color:  #f1f1f1;\n",
              "        }    #T_0e904ea4_1a66_11ec_a8ac_0242ac1c0002row2_col1 {\n",
              "            background-color:  #feeae1;\n",
              "            color:  #000000;\n",
              "        }    #T_0e904ea4_1a66_11ec_a8ac_0242ac1c0002row2_col3 {\n",
              "            background-color:  #feeae1;\n",
              "            color:  #000000;\n",
              "        }    #T_0e904ea4_1a66_11ec_a8ac_0242ac1c0002row3_col0 {\n",
              "            background-color:  #fee4d8;\n",
              "            color:  #000000;\n",
              "        }    #T_0e904ea4_1a66_11ec_a8ac_0242ac1c0002row3_col1 {\n",
              "            background-color:  #b51318;\n",
              "            color:  #f1f1f1;\n",
              "        }    #T_0e904ea4_1a66_11ec_a8ac_0242ac1c0002row3_col3 {\n",
              "            background-color:  #b51318;\n",
              "            color:  #f1f1f1;\n",
              "        }    #T_0e904ea4_1a66_11ec_a8ac_0242ac1c0002row4_col0 {\n",
              "            background-color:  #fff5f0;\n",
              "            color:  #000000;\n",
              "        }    #T_0e904ea4_1a66_11ec_a8ac_0242ac1c0002row4_col1 {\n",
              "            background-color:  #67000d;\n",
              "            color:  #f1f1f1;\n",
              "        }    #T_0e904ea4_1a66_11ec_a8ac_0242ac1c0002row4_col3 {\n",
              "            background-color:  #67000d;\n",
              "            color:  #f1f1f1;\n",
              "        }</style><table id=\"T_0e904ea4_1a66_11ec_a8ac_0242ac1c0002\" ><thead>    <tr>        <th class=\"blank level0\" ></th>        <th class=\"col_heading level0 col0\" >t</th>        <th class=\"col_heading level0 col1\" >p</th>        <th class=\"col_heading level0 col2\" >sig</th>        <th class=\"col_heading level0 col3\" >bonf</th>        <th class=\"col_heading level0 col4\" >bonf_sig</th>    </tr></thead><tbody>\n",
              "                <tr>\n",
              "                        <th id=\"T_0e904ea4_1a66_11ec_a8ac_0242ac1c0002level0_row0\" class=\"row_heading level0 row0\" >PANSS_N</th>\n",
              "                        <td id=\"T_0e904ea4_1a66_11ec_a8ac_0242ac1c0002row0_col0\" class=\"data row0 col0\" >0.403674</td>\n",
              "                        <td id=\"T_0e904ea4_1a66_11ec_a8ac_0242ac1c0002row0_col1\" class=\"data row0 col1\" >0.00402394</td>\n",
              "                        <td id=\"T_0e904ea4_1a66_11ec_a8ac_0242ac1c0002row0_col2\" class=\"data row0 col2\" >True</td>\n",
              "                        <td id=\"T_0e904ea4_1a66_11ec_a8ac_0242ac1c0002row0_col3\" class=\"data row0 col3\" >0.0201197</td>\n",
              "                        <td id=\"T_0e904ea4_1a66_11ec_a8ac_0242ac1c0002row0_col4\" class=\"data row0 col4\" >True</td>\n",
              "            </tr>\n",
              "            <tr>\n",
              "                        <th id=\"T_0e904ea4_1a66_11ec_a8ac_0242ac1c0002level0_row1\" class=\"row_heading level0 row1\" >PANSS_P</th>\n",
              "                        <td id=\"T_0e904ea4_1a66_11ec_a8ac_0242ac1c0002row1_col0\" class=\"data row1 col0\" >0.401023</td>\n",
              "                        <td id=\"T_0e904ea4_1a66_11ec_a8ac_0242ac1c0002row1_col1\" class=\"data row1 col1\" >0.00429527</td>\n",
              "                        <td id=\"T_0e904ea4_1a66_11ec_a8ac_0242ac1c0002row1_col2\" class=\"data row1 col2\" >True</td>\n",
              "                        <td id=\"T_0e904ea4_1a66_11ec_a8ac_0242ac1c0002row1_col3\" class=\"data row1 col3\" >0.0214763</td>\n",
              "                        <td id=\"T_0e904ea4_1a66_11ec_a8ac_0242ac1c0002row1_col4\" class=\"data row1 col4\" >True</td>\n",
              "            </tr>\n",
              "            <tr>\n",
              "                        <th id=\"T_0e904ea4_1a66_11ec_a8ac_0242ac1c0002level0_row2\" class=\"row_heading level0 row2\" >TD</th>\n",
              "                        <td id=\"T_0e904ea4_1a66_11ec_a8ac_0242ac1c0002row2_col0\" class=\"data row2 col0\" >0.393561</td>\n",
              "                        <td id=\"T_0e904ea4_1a66_11ec_a8ac_0242ac1c0002row2_col1\" class=\"data row2 col1\" >0.00514695</td>\n",
              "                        <td id=\"T_0e904ea4_1a66_11ec_a8ac_0242ac1c0002row2_col2\" class=\"data row2 col2\" >True</td>\n",
              "                        <td id=\"T_0e904ea4_1a66_11ec_a8ac_0242ac1c0002row2_col3\" class=\"data row2 col3\" >0.0257348</td>\n",
              "                        <td id=\"T_0e904ea4_1a66_11ec_a8ac_0242ac1c0002row2_col4\" class=\"data row2 col4\" >True</td>\n",
              "            </tr>\n",
              "            <tr>\n",
              "                        <th id=\"T_0e904ea4_1a66_11ec_a8ac_0242ac1c0002level0_row3\" class=\"row_heading level0 row3\" >PANSS_O</th>\n",
              "                        <td id=\"T_0e904ea4_1a66_11ec_a8ac_0242ac1c0002row3_col0\" class=\"data row3 col0\" >0.335461</td>\n",
              "                        <td id=\"T_0e904ea4_1a66_11ec_a8ac_0242ac1c0002row3_col1\" class=\"data row3 col1\" >0.0184562</td>\n",
              "                        <td id=\"T_0e904ea4_1a66_11ec_a8ac_0242ac1c0002row3_col2\" class=\"data row3 col2\" >True</td>\n",
              "                        <td id=\"T_0e904ea4_1a66_11ec_a8ac_0242ac1c0002row3_col3\" class=\"data row3 col3\" >0.0922808</td>\n",
              "                        <td id=\"T_0e904ea4_1a66_11ec_a8ac_0242ac1c0002row3_col4\" class=\"data row3 col4\" >False</td>\n",
              "            </tr>\n",
              "            <tr>\n",
              "                        <th id=\"T_0e904ea4_1a66_11ec_a8ac_0242ac1c0002level0_row4\" class=\"row_heading level0 row4\" >PANSS_Total</th>\n",
              "                        <td id=\"T_0e904ea4_1a66_11ec_a8ac_0242ac1c0002row4_col0\" class=\"data row4 col0\" >0.327537</td>\n",
              "                        <td id=\"T_0e904ea4_1a66_11ec_a8ac_0242ac1c0002row4_col1\" class=\"data row4 col1\" >0.0215992</td>\n",
              "                        <td id=\"T_0e904ea4_1a66_11ec_a8ac_0242ac1c0002row4_col2\" class=\"data row4 col2\" >True</td>\n",
              "                        <td id=\"T_0e904ea4_1a66_11ec_a8ac_0242ac1c0002row4_col3\" class=\"data row4 col3\" >0.107996</td>\n",
              "                        <td id=\"T_0e904ea4_1a66_11ec_a8ac_0242ac1c0002row4_col4\" class=\"data row4 col4\" >False</td>\n",
              "            </tr>\n",
              "    </tbody></table>"
            ],
            "text/plain": [
              "<pandas.io.formats.style.Styler at 0x7f344f9e3610>"
            ]
          },
          "metadata": {},
          "execution_count": 156
        }
      ]
    },
    {
      "cell_type": "code",
      "metadata": {
        "colab": {
          "base_uri": "https://localhost:8080/",
          "height": 141
        },
        "id": "SinAf8OIbU-i",
        "outputId": "7348e906-94a9-42c4-cc93-8193aff0506b"
      },
      "source": [
        "display_test(animals, corr_test, 'max_cos_sim_no_repeat', stats.spearmanr, stat_name='t')"
      ],
      "execution_count": 157,
      "outputs": [
        {
          "output_type": "execute_result",
          "data": {
            "text/html": [
              "<style  type=\"text/css\" >\n",
              "    #T_13d07a42_1a66_11ec_a8ac_0242ac1c0002row0_col0 {\n",
              "            background-color:  #fff5f0;\n",
              "            color:  #000000;\n",
              "        }    #T_13d07a42_1a66_11ec_a8ac_0242ac1c0002row0_col1 {\n",
              "            background-color:  #fff5f0;\n",
              "            color:  #000000;\n",
              "        }    #T_13d07a42_1a66_11ec_a8ac_0242ac1c0002row0_col3 {\n",
              "            background-color:  #fff5f0;\n",
              "            color:  #000000;\n",
              "        }    #T_13d07a42_1a66_11ec_a8ac_0242ac1c0002row1_col0 {\n",
              "            background-color:  #fc9373;\n",
              "            color:  #000000;\n",
              "        }    #T_13d07a42_1a66_11ec_a8ac_0242ac1c0002row1_col1 {\n",
              "            background-color:  #fcb89e;\n",
              "            color:  #000000;\n",
              "        }    #T_13d07a42_1a66_11ec_a8ac_0242ac1c0002row1_col3 {\n",
              "            background-color:  #f44f39;\n",
              "            color:  #000000;\n",
              "        }    #T_13d07a42_1a66_11ec_a8ac_0242ac1c0002row2_col0 {\n",
              "            background-color:  #dc2924;\n",
              "            color:  #f1f1f1;\n",
              "        }    #T_13d07a42_1a66_11ec_a8ac_0242ac1c0002row2_col1 {\n",
              "            background-color:  #f34c37;\n",
              "            color:  #000000;\n",
              "        }    #T_13d07a42_1a66_11ec_a8ac_0242ac1c0002row2_col3 {\n",
              "            background-color:  #67000d;\n",
              "            color:  #f1f1f1;\n",
              "        }    #T_13d07a42_1a66_11ec_a8ac_0242ac1c0002row3_col0 {\n",
              "            background-color:  #d01d1f;\n",
              "            color:  #f1f1f1;\n",
              "        }    #T_13d07a42_1a66_11ec_a8ac_0242ac1c0002row3_col1 {\n",
              "            background-color:  #ee3a2c;\n",
              "            color:  #f1f1f1;\n",
              "        }    #T_13d07a42_1a66_11ec_a8ac_0242ac1c0002row3_col3 {\n",
              "            background-color:  #67000d;\n",
              "            color:  #f1f1f1;\n",
              "        }    #T_13d07a42_1a66_11ec_a8ac_0242ac1c0002row4_col0 {\n",
              "            background-color:  #67000d;\n",
              "            color:  #f1f1f1;\n",
              "        }    #T_13d07a42_1a66_11ec_a8ac_0242ac1c0002row4_col1 {\n",
              "            background-color:  #67000d;\n",
              "            color:  #f1f1f1;\n",
              "        }    #T_13d07a42_1a66_11ec_a8ac_0242ac1c0002row4_col3 {\n",
              "            background-color:  #67000d;\n",
              "            color:  #f1f1f1;\n",
              "        }</style><table id=\"T_13d07a42_1a66_11ec_a8ac_0242ac1c0002\" ><thead>    <tr>        <th class=\"blank level0\" ></th>        <th class=\"col_heading level0 col0\" >t</th>        <th class=\"col_heading level0 col1\" >p</th>        <th class=\"col_heading level0 col2\" >sig</th>        <th class=\"col_heading level0 col3\" >bonf</th>        <th class=\"col_heading level0 col4\" >bonf_sig</th>    </tr></thead><tbody>\n",
              "                <tr>\n",
              "                        <th id=\"T_13d07a42_1a66_11ec_a8ac_0242ac1c0002level0_row0\" class=\"row_heading level0 row0\" >PANSS_Total</th>\n",
              "                        <td id=\"T_13d07a42_1a66_11ec_a8ac_0242ac1c0002row0_col0\" class=\"data row0 col0\" >-0.252034</td>\n",
              "                        <td id=\"T_13d07a42_1a66_11ec_a8ac_0242ac1c0002row0_col1\" class=\"data row0 col1\" >0.080634</td>\n",
              "                        <td id=\"T_13d07a42_1a66_11ec_a8ac_0242ac1c0002row0_col2\" class=\"data row0 col2\" >False</td>\n",
              "                        <td id=\"T_13d07a42_1a66_11ec_a8ac_0242ac1c0002row0_col3\" class=\"data row0 col3\" >0.40317</td>\n",
              "                        <td id=\"T_13d07a42_1a66_11ec_a8ac_0242ac1c0002row0_col4\" class=\"data row0 col4\" >False</td>\n",
              "            </tr>\n",
              "            <tr>\n",
              "                        <th id=\"T_13d07a42_1a66_11ec_a8ac_0242ac1c0002level0_row1\" class=\"row_heading level0 row1\" >PANSS_N</th>\n",
              "                        <td id=\"T_13d07a42_1a66_11ec_a8ac_0242ac1c0002row1_col0\" class=\"data row1 col0\" >-0.209291</td>\n",
              "                        <td id=\"T_13d07a42_1a66_11ec_a8ac_0242ac1c0002row1_col1\" class=\"data row1 col1\" >0.148947</td>\n",
              "                        <td id=\"T_13d07a42_1a66_11ec_a8ac_0242ac1c0002row1_col2\" class=\"data row1 col2\" >False</td>\n",
              "                        <td id=\"T_13d07a42_1a66_11ec_a8ac_0242ac1c0002row1_col3\" class=\"data row1 col3\" >0.744737</td>\n",
              "                        <td id=\"T_13d07a42_1a66_11ec_a8ac_0242ac1c0002row1_col4\" class=\"data row1 col4\" >False</td>\n",
              "            </tr>\n",
              "            <tr>\n",
              "                        <th id=\"T_13d07a42_1a66_11ec_a8ac_0242ac1c0002level0_row2\" class=\"row_heading level0 row2\" >PANSS_P</th>\n",
              "                        <td id=\"T_13d07a42_1a66_11ec_a8ac_0242ac1c0002row2_col0\" class=\"data row2 col0\" >-0.173178</td>\n",
              "                        <td id=\"T_13d07a42_1a66_11ec_a8ac_0242ac1c0002row2_col1\" class=\"data row2 col1\" >0.234059</td>\n",
              "                        <td id=\"T_13d07a42_1a66_11ec_a8ac_0242ac1c0002row2_col2\" class=\"data row2 col2\" >False</td>\n",
              "                        <td id=\"T_13d07a42_1a66_11ec_a8ac_0242ac1c0002row2_col3\" class=\"data row2 col3\" >1</td>\n",
              "                        <td id=\"T_13d07a42_1a66_11ec_a8ac_0242ac1c0002row2_col4\" class=\"data row2 col4\" >False</td>\n",
              "            </tr>\n",
              "            <tr>\n",
              "                        <th id=\"T_13d07a42_1a66_11ec_a8ac_0242ac1c0002level0_row3\" class=\"row_heading level0 row3\" >PANSS_O</th>\n",
              "                        <td id=\"T_13d07a42_1a66_11ec_a8ac_0242ac1c0002row3_col0\" class=\"data row3 col0\" >-0.168511</td>\n",
              "                        <td id=\"T_13d07a42_1a66_11ec_a8ac_0242ac1c0002row3_col1\" class=\"data row3 col1\" >0.247099</td>\n",
              "                        <td id=\"T_13d07a42_1a66_11ec_a8ac_0242ac1c0002row3_col2\" class=\"data row3 col2\" >False</td>\n",
              "                        <td id=\"T_13d07a42_1a66_11ec_a8ac_0242ac1c0002row3_col3\" class=\"data row3 col3\" >1</td>\n",
              "                        <td id=\"T_13d07a42_1a66_11ec_a8ac_0242ac1c0002row3_col4\" class=\"data row3 col4\" >False</td>\n",
              "            </tr>\n",
              "            <tr>\n",
              "                        <th id=\"T_13d07a42_1a66_11ec_a8ac_0242ac1c0002level0_row4\" class=\"row_heading level0 row4\" >TD</th>\n",
              "                        <td id=\"T_13d07a42_1a66_11ec_a8ac_0242ac1c0002row4_col0\" class=\"data row4 col0\" >-0.137718</td>\n",
              "                        <td id=\"T_13d07a42_1a66_11ec_a8ac_0242ac1c0002row4_col1\" class=\"data row4 col1\" >0.345351</td>\n",
              "                        <td id=\"T_13d07a42_1a66_11ec_a8ac_0242ac1c0002row4_col2\" class=\"data row4 col2\" >False</td>\n",
              "                        <td id=\"T_13d07a42_1a66_11ec_a8ac_0242ac1c0002row4_col3\" class=\"data row4 col3\" >1</td>\n",
              "                        <td id=\"T_13d07a42_1a66_11ec_a8ac_0242ac1c0002row4_col4\" class=\"data row4 col4\" >False</td>\n",
              "            </tr>\n",
              "    </tbody></table>"
            ],
            "text/plain": [
              "<pandas.io.formats.style.Styler at 0x7f344f895e50>"
            ]
          },
          "metadata": {},
          "execution_count": 157
        }
      ]
    },
    {
      "cell_type": "code",
      "metadata": {
        "colab": {
          "base_uri": "https://localhost:8080/",
          "height": 141
        },
        "id": "edWtKjTuYQpS",
        "outputId": "68a91c8d-fbf1-464b-b3c7-66154e1842cb"
      },
      "source": [
        "display_test(animals, corr_test, 'mean_hesitation_len', stats.spearmanr, stat_name='t')\n",
        "# number"
      ],
      "execution_count": 148,
      "outputs": [
        {
          "output_type": "execute_result",
          "data": {
            "text/html": [
              "<style  type=\"text/css\" >\n",
              "    #T_1f6ebf36_1a65_11ec_a8ac_0242ac1c0002row0_col0 {\n",
              "            background-color:  #fff5f0;\n",
              "            color:  #000000;\n",
              "        }    #T_1f6ebf36_1a65_11ec_a8ac_0242ac1c0002row0_col1 {\n",
              "            background-color:  #fff5f0;\n",
              "            color:  #000000;\n",
              "        }    #T_1f6ebf36_1a65_11ec_a8ac_0242ac1c0002row0_col3 {\n",
              "            background-color:  #fff5f0;\n",
              "            color:  #000000;\n",
              "        }    #T_1f6ebf36_1a65_11ec_a8ac_0242ac1c0002row1_col0 {\n",
              "            background-color:  #fed8c7;\n",
              "            color:  #000000;\n",
              "        }    #T_1f6ebf36_1a65_11ec_a8ac_0242ac1c0002row1_col1 {\n",
              "            background-color:  #fee0d2;\n",
              "            color:  #000000;\n",
              "        }    #T_1f6ebf36_1a65_11ec_a8ac_0242ac1c0002row1_col3 {\n",
              "            background-color:  #fff5f0;\n",
              "            color:  #000000;\n",
              "        }    #T_1f6ebf36_1a65_11ec_a8ac_0242ac1c0002row2_col0 {\n",
              "            background-color:  #f85d42;\n",
              "            color:  #000000;\n",
              "        }    #T_1f6ebf36_1a65_11ec_a8ac_0242ac1c0002row2_col1 {\n",
              "            background-color:  #fb6e4e;\n",
              "            color:  #000000;\n",
              "        }    #T_1f6ebf36_1a65_11ec_a8ac_0242ac1c0002row2_col3 {\n",
              "            background-color:  #fff5f0;\n",
              "            color:  #000000;\n",
              "        }    #T_1f6ebf36_1a65_11ec_a8ac_0242ac1c0002row3_col0 {\n",
              "            background-color:  #ec382b;\n",
              "            color:  #f1f1f1;\n",
              "        }    #T_1f6ebf36_1a65_11ec_a8ac_0242ac1c0002row3_col1 {\n",
              "            background-color:  #f24734;\n",
              "            color:  #000000;\n",
              "        }    #T_1f6ebf36_1a65_11ec_a8ac_0242ac1c0002row3_col3 {\n",
              "            background-color:  #fff5f0;\n",
              "            color:  #000000;\n",
              "        }    #T_1f6ebf36_1a65_11ec_a8ac_0242ac1c0002row4_col0 {\n",
              "            background-color:  #67000d;\n",
              "            color:  #f1f1f1;\n",
              "        }    #T_1f6ebf36_1a65_11ec_a8ac_0242ac1c0002row4_col1 {\n",
              "            background-color:  #67000d;\n",
              "            color:  #f1f1f1;\n",
              "        }    #T_1f6ebf36_1a65_11ec_a8ac_0242ac1c0002row4_col3 {\n",
              "            background-color:  #fff5f0;\n",
              "            color:  #000000;\n",
              "        }</style><table id=\"T_1f6ebf36_1a65_11ec_a8ac_0242ac1c0002\" ><thead>    <tr>        <th class=\"blank level0\" ></th>        <th class=\"col_heading level0 col0\" >t</th>        <th class=\"col_heading level0 col1\" >p</th>        <th class=\"col_heading level0 col2\" >sig</th>        <th class=\"col_heading level0 col3\" >bonf</th>        <th class=\"col_heading level0 col4\" >bonf_sig</th>    </tr></thead><tbody>\n",
              "                <tr>\n",
              "                        <th id=\"T_1f6ebf36_1a65_11ec_a8ac_0242ac1c0002level0_row0\" class=\"row_heading level0 row0\" >PANSS_Total</th>\n",
              "                        <td id=\"T_1f6ebf36_1a65_11ec_a8ac_0242ac1c0002row0_col0\" class=\"data row0 col0\" >-0.132462</td>\n",
              "                        <td id=\"T_1f6ebf36_1a65_11ec_a8ac_0242ac1c0002row0_col1\" class=\"data row0 col1\" >0.369455</td>\n",
              "                        <td id=\"T_1f6ebf36_1a65_11ec_a8ac_0242ac1c0002row0_col2\" class=\"data row0 col2\" >False</td>\n",
              "                        <td id=\"T_1f6ebf36_1a65_11ec_a8ac_0242ac1c0002row0_col3\" class=\"data row0 col3\" >1</td>\n",
              "                        <td id=\"T_1f6ebf36_1a65_11ec_a8ac_0242ac1c0002row0_col4\" class=\"data row0 col4\" >False</td>\n",
              "            </tr>\n",
              "            <tr>\n",
              "                        <th id=\"T_1f6ebf36_1a65_11ec_a8ac_0242ac1c0002level0_row1\" class=\"row_heading level0 row1\" >TD</th>\n",
              "                        <td id=\"T_1f6ebf36_1a65_11ec_a8ac_0242ac1c0002row1_col0\" class=\"data row1 col0\" >-0.112283</td>\n",
              "                        <td id=\"T_1f6ebf36_1a65_11ec_a8ac_0242ac1c0002row1_col1\" class=\"data row1 col1\" >0.44736</td>\n",
              "                        <td id=\"T_1f6ebf36_1a65_11ec_a8ac_0242ac1c0002row1_col2\" class=\"data row1 col2\" >False</td>\n",
              "                        <td id=\"T_1f6ebf36_1a65_11ec_a8ac_0242ac1c0002row1_col3\" class=\"data row1 col3\" >1</td>\n",
              "                        <td id=\"T_1f6ebf36_1a65_11ec_a8ac_0242ac1c0002row1_col4\" class=\"data row1 col4\" >False</td>\n",
              "            </tr>\n",
              "            <tr>\n",
              "                        <th id=\"T_1f6ebf36_1a65_11ec_a8ac_0242ac1c0002level0_row2\" class=\"row_heading level0 row2\" >PANSS_P</th>\n",
              "                        <td id=\"T_1f6ebf36_1a65_11ec_a8ac_0242ac1c0002row2_col0\" class=\"data row2 col0\" >-0.0628381</td>\n",
              "                        <td id=\"T_1f6ebf36_1a65_11ec_a8ac_0242ac1c0002row2_col1\" class=\"data row2 col1\" >0.671348</td>\n",
              "                        <td id=\"T_1f6ebf36_1a65_11ec_a8ac_0242ac1c0002row2_col2\" class=\"data row2 col2\" >False</td>\n",
              "                        <td id=\"T_1f6ebf36_1a65_11ec_a8ac_0242ac1c0002row2_col3\" class=\"data row2 col3\" >1</td>\n",
              "                        <td id=\"T_1f6ebf36_1a65_11ec_a8ac_0242ac1c0002row2_col4\" class=\"data row2 col4\" >False</td>\n",
              "            </tr>\n",
              "            <tr>\n",
              "                        <th id=\"T_1f6ebf36_1a65_11ec_a8ac_0242ac1c0002level0_row3\" class=\"row_heading level0 row3\" >PANSS_N</th>\n",
              "                        <td id=\"T_1f6ebf36_1a65_11ec_a8ac_0242ac1c0002row3_col0\" class=\"data row3 col0\" >-0.0496606</td>\n",
              "                        <td id=\"T_1f6ebf36_1a65_11ec_a8ac_0242ac1c0002row3_col1\" class=\"data row3 col1\" >0.737477</td>\n",
              "                        <td id=\"T_1f6ebf36_1a65_11ec_a8ac_0242ac1c0002row3_col2\" class=\"data row3 col2\" >False</td>\n",
              "                        <td id=\"T_1f6ebf36_1a65_11ec_a8ac_0242ac1c0002row3_col3\" class=\"data row3 col3\" >1</td>\n",
              "                        <td id=\"T_1f6ebf36_1a65_11ec_a8ac_0242ac1c0002row3_col4\" class=\"data row3 col4\" >False</td>\n",
              "            </tr>\n",
              "            <tr>\n",
              "                        <th id=\"T_1f6ebf36_1a65_11ec_a8ac_0242ac1c0002level0_row4\" class=\"row_heading level0 row4\" >PANSS_O</th>\n",
              "                        <td id=\"T_1f6ebf36_1a65_11ec_a8ac_0242ac1c0002row4_col0\" class=\"data row4 col0\" >-0.00173406</td>\n",
              "                        <td id=\"T_1f6ebf36_1a65_11ec_a8ac_0242ac1c0002row4_col1\" class=\"data row4 col1\" >0.990667</td>\n",
              "                        <td id=\"T_1f6ebf36_1a65_11ec_a8ac_0242ac1c0002row4_col2\" class=\"data row4 col2\" >False</td>\n",
              "                        <td id=\"T_1f6ebf36_1a65_11ec_a8ac_0242ac1c0002row4_col3\" class=\"data row4 col3\" >1</td>\n",
              "                        <td id=\"T_1f6ebf36_1a65_11ec_a8ac_0242ac1c0002row4_col4\" class=\"data row4 col4\" >False</td>\n",
              "            </tr>\n",
              "    </tbody></table>"
            ],
            "text/plain": [
              "<pandas.io.formats.style.Styler at 0x7f344f9bc1d0>"
            ]
          },
          "metadata": {},
          "execution_count": 148
        }
      ]
    },
    {
      "cell_type": "code",
      "metadata": {
        "colab": {
          "base_uri": "https://localhost:8080/",
          "height": 141
        },
        "id": "r9MqGkYSYTgL",
        "outputId": "ae7adaf0-e40a-4365-9a9c-d900ea3baefb"
      },
      "source": [
        "display_test(animals, corr_test, 'mean_hesitation_length', stats.spearmanr, stat_name='t')\n",
        "# mean length"
      ],
      "execution_count": 149,
      "outputs": [
        {
          "output_type": "execute_result",
          "data": {
            "text/html": [
              "<style  type=\"text/css\" >\n",
              "    #T_206f67a0_1a65_11ec_a8ac_0242ac1c0002row0_col0 {\n",
              "            background-color:  #67000d;\n",
              "            color:  #f1f1f1;\n",
              "        }    #T_206f67a0_1a65_11ec_a8ac_0242ac1c0002row0_col1 {\n",
              "            background-color:  #fff5f0;\n",
              "            color:  #000000;\n",
              "        }    #T_206f67a0_1a65_11ec_a8ac_0242ac1c0002row0_col3 {\n",
              "            background-color:  #fff5f0;\n",
              "            color:  #000000;\n",
              "        }    #T_206f67a0_1a65_11ec_a8ac_0242ac1c0002row1_col0 {\n",
              "            background-color:  #c5171c;\n",
              "            color:  #f1f1f1;\n",
              "        }    #T_206f67a0_1a65_11ec_a8ac_0242ac1c0002row1_col1 {\n",
              "            background-color:  #ffede5;\n",
              "            color:  #000000;\n",
              "        }    #T_206f67a0_1a65_11ec_a8ac_0242ac1c0002row1_col3 {\n",
              "            background-color:  #ffece4;\n",
              "            color:  #000000;\n",
              "        }    #T_206f67a0_1a65_11ec_a8ac_0242ac1c0002row2_col0 {\n",
              "            background-color:  #e12d26;\n",
              "            color:  #f1f1f1;\n",
              "        }    #T_206f67a0_1a65_11ec_a8ac_0242ac1c0002row2_col1 {\n",
              "            background-color:  #fee7db;\n",
              "            color:  #000000;\n",
              "        }    #T_206f67a0_1a65_11ec_a8ac_0242ac1c0002row2_col3 {\n",
              "            background-color:  #fee7db;\n",
              "            color:  #000000;\n",
              "        }    #T_206f67a0_1a65_11ec_a8ac_0242ac1c0002row3_col0 {\n",
              "            background-color:  #fcaa8d;\n",
              "            color:  #000000;\n",
              "        }    #T_206f67a0_1a65_11ec_a8ac_0242ac1c0002row3_col1 {\n",
              "            background-color:  #fc8767;\n",
              "            color:  #000000;\n",
              "        }    #T_206f67a0_1a65_11ec_a8ac_0242ac1c0002row3_col3 {\n",
              "            background-color:  #fc8464;\n",
              "            color:  #000000;\n",
              "        }    #T_206f67a0_1a65_11ec_a8ac_0242ac1c0002row4_col0 {\n",
              "            background-color:  #fff5f0;\n",
              "            color:  #000000;\n",
              "        }    #T_206f67a0_1a65_11ec_a8ac_0242ac1c0002row4_col1 {\n",
              "            background-color:  #67000d;\n",
              "            color:  #f1f1f1;\n",
              "        }    #T_206f67a0_1a65_11ec_a8ac_0242ac1c0002row4_col3 {\n",
              "            background-color:  #67000d;\n",
              "            color:  #f1f1f1;\n",
              "        }</style><table id=\"T_206f67a0_1a65_11ec_a8ac_0242ac1c0002\" ><thead>    <tr>        <th class=\"blank level0\" ></th>        <th class=\"col_heading level0 col0\" >t</th>        <th class=\"col_heading level0 col1\" >p</th>        <th class=\"col_heading level0 col2\" >sig</th>        <th class=\"col_heading level0 col3\" >bonf</th>        <th class=\"col_heading level0 col4\" >bonf_sig</th>    </tr></thead><tbody>\n",
              "                <tr>\n",
              "                        <th id=\"T_206f67a0_1a65_11ec_a8ac_0242ac1c0002level0_row0\" class=\"row_heading level0 row0\" >TD</th>\n",
              "                        <td id=\"T_206f67a0_1a65_11ec_a8ac_0242ac1c0002row0_col0\" class=\"data row0 col0\" >0.410688</td>\n",
              "                        <td id=\"T_206f67a0_1a65_11ec_a8ac_0242ac1c0002row0_col1\" class=\"data row0 col1\" >0.00507459</td>\n",
              "                        <td id=\"T_206f67a0_1a65_11ec_a8ac_0242ac1c0002row0_col2\" class=\"data row0 col2\" >True</td>\n",
              "                        <td id=\"T_206f67a0_1a65_11ec_a8ac_0242ac1c0002row0_col3\" class=\"data row0 col3\" >0.0253729</td>\n",
              "                        <td id=\"T_206f67a0_1a65_11ec_a8ac_0242ac1c0002row0_col4\" class=\"data row0 col4\" >True</td>\n",
              "            </tr>\n",
              "            <tr>\n",
              "                        <th id=\"T_206f67a0_1a65_11ec_a8ac_0242ac1c0002level0_row1\" class=\"row_heading level0 row1\" >PANSS_O</th>\n",
              "                        <td id=\"T_206f67a0_1a65_11ec_a8ac_0242ac1c0002row1_col0\" class=\"data row1 col0\" >0.360071</td>\n",
              "                        <td id=\"T_206f67a0_1a65_11ec_a8ac_0242ac1c0002row1_col1\" class=\"data row1 col1\" >0.0151169</td>\n",
              "                        <td id=\"T_206f67a0_1a65_11ec_a8ac_0242ac1c0002row1_col2\" class=\"data row1 col2\" >True</td>\n",
              "                        <td id=\"T_206f67a0_1a65_11ec_a8ac_0242ac1c0002row1_col3\" class=\"data row1 col3\" >0.0755843</td>\n",
              "                        <td id=\"T_206f67a0_1a65_11ec_a8ac_0242ac1c0002row1_col4\" class=\"data row1 col4\" >False</td>\n",
              "            </tr>\n",
              "            <tr>\n",
              "                        <th id=\"T_206f67a0_1a65_11ec_a8ac_0242ac1c0002level0_row2\" class=\"row_heading level0 row2\" >PANSS_P</th>\n",
              "                        <td id=\"T_206f67a0_1a65_11ec_a8ac_0242ac1c0002row2_col0\" class=\"data row2 col0\" >0.340035</td>\n",
              "                        <td id=\"T_206f67a0_1a65_11ec_a8ac_0242ac1c0002row2_col1\" class=\"data row2 col1\" >0.022289</td>\n",
              "                        <td id=\"T_206f67a0_1a65_11ec_a8ac_0242ac1c0002row2_col2\" class=\"data row2 col2\" >True</td>\n",
              "                        <td id=\"T_206f67a0_1a65_11ec_a8ac_0242ac1c0002row2_col3\" class=\"data row2 col3\" >0.111445</td>\n",
              "                        <td id=\"T_206f67a0_1a65_11ec_a8ac_0242ac1c0002row2_col4\" class=\"data row2 col4\" >False</td>\n",
              "            </tr>\n",
              "            <tr>\n",
              "                        <th id=\"T_206f67a0_1a65_11ec_a8ac_0242ac1c0002level0_row3\" class=\"row_heading level0 row3\" >PANSS_N</th>\n",
              "                        <td id=\"T_206f67a0_1a65_11ec_a8ac_0242ac1c0002row3_col0\" class=\"data row3 col0\" >0.258365</td>\n",
              "                        <td id=\"T_206f67a0_1a65_11ec_a8ac_0242ac1c0002row3_col1\" class=\"data row3 col1\" >0.0865978</td>\n",
              "                        <td id=\"T_206f67a0_1a65_11ec_a8ac_0242ac1c0002row3_col2\" class=\"data row3 col2\" >False</td>\n",
              "                        <td id=\"T_206f67a0_1a65_11ec_a8ac_0242ac1c0002row3_col3\" class=\"data row3 col3\" >0.432989</td>\n",
              "                        <td id=\"T_206f67a0_1a65_11ec_a8ac_0242ac1c0002row3_col4\" class=\"data row3 col4\" >False</td>\n",
              "            </tr>\n",
              "            <tr>\n",
              "                        <th id=\"T_206f67a0_1a65_11ec_a8ac_0242ac1c0002level0_row4\" class=\"row_heading level0 row4\" >PANSS_Total</th>\n",
              "                        <td id=\"T_206f67a0_1a65_11ec_a8ac_0242ac1c0002row4_col0\" class=\"data row4 col0\" >0.192777</td>\n",
              "                        <td id=\"T_206f67a0_1a65_11ec_a8ac_0242ac1c0002row4_col1\" class=\"data row4 col1\" >0.204535</td>\n",
              "                        <td id=\"T_206f67a0_1a65_11ec_a8ac_0242ac1c0002row4_col2\" class=\"data row4 col2\" >False</td>\n",
              "                        <td id=\"T_206f67a0_1a65_11ec_a8ac_0242ac1c0002row4_col3\" class=\"data row4 col3\" >1</td>\n",
              "                        <td id=\"T_206f67a0_1a65_11ec_a8ac_0242ac1c0002row4_col4\" class=\"data row4 col4\" >False</td>\n",
              "            </tr>\n",
              "    </tbody></table>"
            ],
            "text/plain": [
              "<pandas.io.formats.style.Styler at 0x7f344f9f7790>"
            ]
          },
          "metadata": {},
          "execution_count": 149
        }
      ]
    },
    {
      "cell_type": "code",
      "metadata": {
        "id": "oPnAL90A2QVJ"
      },
      "source": [
        "def calculate_pvalues(df):\n",
        "    df = df.dropna()._get_numeric_data()\n",
        "    dfcols = pd.DataFrame(columns=df.columns)\n",
        "    pvalues = dfcols.transpose().join(dfcols, how='outer')\n",
        "    for r in df.columns:\n",
        "        for c in df.columns:\n",
        "            pvalues[r][c] = round(stats.pearsonr(df[r], df[c])[1], 4)\n",
        "    return pvalues"
      ],
      "execution_count": 151,
      "outputs": []
    },
    {
      "cell_type": "code",
      "metadata": {
        "id": "SoG9RBql2xZ6"
      },
      "source": [
        "mask = calculate_pvalues(animals[corr_test + params]) > 0.05 "
      ],
      "execution_count": 152,
      "outputs": []
    },
    {
      "cell_type": "code",
      "metadata": {
        "colab": {
          "base_uri": "https://localhost:8080/",
          "height": 713
        },
        "id": "HvD578gH2yok",
        "outputId": "5997ba00-7bd6-47b2-b724-8dd02b23f2dd"
      },
      "source": [
        "plt.figure(figsize=(20,10))\n",
        "sns.heatmap(animals[corr_test + params].corr(), annot=True, mask = mask)\n",
        "plt.yticks(rotation = 0)\n",
        "b, t = plt.ylim() # discover the values for bottom and top\n",
        "b += 0.5 # Add 0.5 to the bottom\n",
        "t -= 0.5 # Subtract 0.5 from the top\n",
        "plt.ylim(b, t) # update the ylim(bottom, top) values\n",
        "plt.show() # ta-da!;"
      ],
      "execution_count": 153,
      "outputs": [
        {
          "output_type": "display_data",
          "data": {
            "image/png": "[encoded data removed]",
            "text/plain": [
              "<Figure size 1440x720 with 2 Axes>"
            ]
          },
          "metadata": {
            "needs_background": "light"
          }
        }
      ]
    },
    {
      "cell_type": "code",
      "metadata": {
        "colab": {
          "base_uri": "https://localhost:8080/",
          "height": 467
        },
        "id": "0ukxyXC-_EMf",
        "outputId": "c4038d84-d484-4404-cda9-c7ee2b0b2204"
      },
      "source": [
        "calculate_pvalues(animals[corr_test + params])"
      ],
      "execution_count": null,
      "outputs": [
        {
          "output_type": "execute_result",
          "data": {
            "text/html": [
              "<div>\n",
              "<style scoped>\n",
              "    .dataframe tbody tr th:only-of-type {\n",
              "        vertical-align: middle;\n",
              "    }\n",
              "\n",
              "    .dataframe tbody tr th {\n",
              "        vertical-align: top;\n",
              "    }\n",
              "\n",
              "    .dataframe thead th {\n",
              "        text-align: right;\n",
              "    }\n",
              "</style>\n",
              "<table border=\"1\" class=\"dataframe\">\n",
              "  <thead>\n",
              "    <tr style=\"text-align: right;\">\n",
              "      <th></th>\n",
              "      <th>TD</th>\n",
              "      <th>PANSS_Total</th>\n",
              "      <th>PANSS_O</th>\n",
              "      <th>PANSS_P</th>\n",
              "      <th>PANSS_N</th>\n",
              "      <th>age</th>\n",
              "      <th>education</th>\n",
              "      <th>unique_num</th>\n",
              "      <th>repeat_num</th>\n",
              "      <th>mean_pause_len</th>\n",
              "      <th>mean_cos_sim_no_repeat</th>\n",
              "      <th>mean_hesitation_len</th>\n",
              "      <th>mean_hesitation_length</th>\n",
              "    </tr>\n",
              "  </thead>\n",
              "  <tbody>\n",
              "    <tr>\n",
              "      <th>TD</th>\n",
              "      <td>0</td>\n",
              "      <td>0</td>\n",
              "      <td>0.0002</td>\n",
              "      <td>0</td>\n",
              "      <td>0</td>\n",
              "      <td>0.1503</td>\n",
              "      <td>0.0422</td>\n",
              "      <td>0.0002</td>\n",
              "      <td>0.6719</td>\n",
              "      <td>0.0134</td>\n",
              "      <td>0.0451</td>\n",
              "      <td>0.5196</td>\n",
              "      <td>0.0018</td>\n",
              "    </tr>\n",
              "    <tr>\n",
              "      <th>PANSS_Total</th>\n",
              "      <td>0</td>\n",
              "      <td>0</td>\n",
              "      <td>0.1011</td>\n",
              "      <td>0</td>\n",
              "      <td>0</td>\n",
              "      <td>0.1179</td>\n",
              "      <td>0.0055</td>\n",
              "      <td>0.0038</td>\n",
              "      <td>0.3148</td>\n",
              "      <td>0.001</td>\n",
              "      <td>0.3443</td>\n",
              "      <td>0.511</td>\n",
              "      <td>0.0206</td>\n",
              "    </tr>\n",
              "    <tr>\n",
              "      <th>PANSS_O</th>\n",
              "      <td>0.0002</td>\n",
              "      <td>0.1011</td>\n",
              "      <td>0</td>\n",
              "      <td>0</td>\n",
              "      <td>0.0001</td>\n",
              "      <td>0.6176</td>\n",
              "      <td>0.0843</td>\n",
              "      <td>0.0131</td>\n",
              "      <td>0.2975</td>\n",
              "      <td>0.2615</td>\n",
              "      <td>0.0231</td>\n",
              "      <td>0.9035</td>\n",
              "      <td>0.003</td>\n",
              "    </tr>\n",
              "    <tr>\n",
              "      <th>PANSS_P</th>\n",
              "      <td>0</td>\n",
              "      <td>0</td>\n",
              "      <td>0</td>\n",
              "      <td>0</td>\n",
              "      <td>0</td>\n",
              "      <td>0.1466</td>\n",
              "      <td>0.0087</td>\n",
              "      <td>0.0006</td>\n",
              "      <td>0.5337</td>\n",
              "      <td>0.0116</td>\n",
              "      <td>0.0359</td>\n",
              "      <td>0.679</td>\n",
              "      <td>0.0006</td>\n",
              "    </tr>\n",
              "    <tr>\n",
              "      <th>PANSS_N</th>\n",
              "      <td>0</td>\n",
              "      <td>0</td>\n",
              "      <td>0.0001</td>\n",
              "      <td>0</td>\n",
              "      <td>0</td>\n",
              "      <td>0.019</td>\n",
              "      <td>0.0353</td>\n",
              "      <td>0.0001</td>\n",
              "      <td>0.7356</td>\n",
              "      <td>0</td>\n",
              "      <td>0.0298</td>\n",
              "      <td>0.6894</td>\n",
              "      <td>0.0009</td>\n",
              "    </tr>\n",
              "    <tr>\n",
              "      <th>age</th>\n",
              "      <td>0.1503</td>\n",
              "      <td>0.1179</td>\n",
              "      <td>0.6176</td>\n",
              "      <td>0.1466</td>\n",
              "      <td>0.019</td>\n",
              "      <td>0</td>\n",
              "      <td>0.005</td>\n",
              "      <td>0.0986</td>\n",
              "      <td>0.0654</td>\n",
              "      <td>0.0233</td>\n",
              "      <td>0.3114</td>\n",
              "      <td>0.6779</td>\n",
              "      <td>0.2672</td>\n",
              "    </tr>\n",
              "    <tr>\n",
              "      <th>education</th>\n",
              "      <td>0.0422</td>\n",
              "      <td>0.0055</td>\n",
              "      <td>0.0843</td>\n",
              "      <td>0.0087</td>\n",
              "      <td>0.0353</td>\n",
              "      <td>0.005</td>\n",
              "      <td>0</td>\n",
              "      <td>0.1008</td>\n",
              "      <td>0.422</td>\n",
              "      <td>0.3311</td>\n",
              "      <td>0.7774</td>\n",
              "      <td>0.2447</td>\n",
              "      <td>0.9294</td>\n",
              "    </tr>\n",
              "    <tr>\n",
              "      <th>unique_num</th>\n",
              "      <td>0.0002</td>\n",
              "      <td>0.0038</td>\n",
              "      <td>0.0131</td>\n",
              "      <td>0.0006</td>\n",
              "      <td>0.0001</td>\n",
              "      <td>0.0986</td>\n",
              "      <td>0.1008</td>\n",
              "      <td>0</td>\n",
              "      <td>0.8703</td>\n",
              "      <td>0</td>\n",
              "      <td>0.0305</td>\n",
              "      <td>0.1361</td>\n",
              "      <td>0.0842</td>\n",
              "    </tr>\n",
              "    <tr>\n",
              "      <th>repeat_num</th>\n",
              "      <td>0.6719</td>\n",
              "      <td>0.3148</td>\n",
              "      <td>0.2975</td>\n",
              "      <td>0.5337</td>\n",
              "      <td>0.7356</td>\n",
              "      <td>0.0654</td>\n",
              "      <td>0.422</td>\n",
              "      <td>0.8703</td>\n",
              "      <td>0</td>\n",
              "      <td>0.798</td>\n",
              "      <td>0.5348</td>\n",
              "      <td>0.981</td>\n",
              "      <td>0.2811</td>\n",
              "    </tr>\n",
              "    <tr>\n",
              "      <th>mean_pause_len</th>\n",
              "      <td>0.0134</td>\n",
              "      <td>0.001</td>\n",
              "      <td>0.2615</td>\n",
              "      <td>0.0116</td>\n",
              "      <td>0</td>\n",
              "      <td>0.0233</td>\n",
              "      <td>0.3311</td>\n",
              "      <td>0</td>\n",
              "      <td>0.798</td>\n",
              "      <td>0</td>\n",
              "      <td>0.1647</td>\n",
              "      <td>0.3314</td>\n",
              "      <td>0.0776</td>\n",
              "    </tr>\n",
              "    <tr>\n",
              "      <th>mean_cos_sim_no_repeat</th>\n",
              "      <td>0.0451</td>\n",
              "      <td>0.3443</td>\n",
              "      <td>0.0231</td>\n",
              "      <td>0.0359</td>\n",
              "      <td>0.0298</td>\n",
              "      <td>0.3114</td>\n",
              "      <td>0.7774</td>\n",
              "      <td>0.0305</td>\n",
              "      <td>0.5348</td>\n",
              "      <td>0.1647</td>\n",
              "      <td>0</td>\n",
              "      <td>0.9306</td>\n",
              "      <td>0.584</td>\n",
              "    </tr>\n",
              "    <tr>\n",
              "      <th>mean_hesitation_len</th>\n",
              "      <td>0.5196</td>\n",
              "      <td>0.511</td>\n",
              "      <td>0.9035</td>\n",
              "      <td>0.679</td>\n",
              "      <td>0.6894</td>\n",
              "      <td>0.6779</td>\n",
              "      <td>0.2447</td>\n",
              "      <td>0.1361</td>\n",
              "      <td>0.981</td>\n",
              "      <td>0.3314</td>\n",
              "      <td>0.9306</td>\n",
              "      <td>0</td>\n",
              "      <td>0.7417</td>\n",
              "    </tr>\n",
              "    <tr>\n",
              "      <th>mean_hesitation_length</th>\n",
              "      <td>0.0018</td>\n",
              "      <td>0.0206</td>\n",
              "      <td>0.003</td>\n",
              "      <td>0.0006</td>\n",
              "      <td>0.0009</td>\n",
              "      <td>0.2672</td>\n",
              "      <td>0.9294</td>\n",
              "      <td>0.0842</td>\n",
              "      <td>0.2811</td>\n",
              "      <td>0.0776</td>\n",
              "      <td>0.584</td>\n",
              "      <td>0.7417</td>\n",
              "      <td>0</td>\n",
              "    </tr>\n",
              "  </tbody>\n",
              "</table>\n",
              "</div>"
            ],
            "text/plain": [
              "                            TD  ... mean_hesitation_length\n",
              "TD                           0  ...                 0.0018\n",
              "PANSS_Total                  0  ...                 0.0206\n",
              "PANSS_O                 0.0002  ...                  0.003\n",
              "PANSS_P                      0  ...                 0.0006\n",
              "PANSS_N                      0  ...                 0.0009\n",
              "age                     0.1503  ...                 0.2672\n",
              "education               0.0422  ...                 0.9294\n",
              "unique_num              0.0002  ...                 0.0842\n",
              "repeat_num              0.6719  ...                 0.2811\n",
              "mean_pause_len          0.0134  ...                 0.0776\n",
              "mean_cos_sim_no_repeat  0.0451  ...                  0.584\n",
              "mean_hesitation_len     0.5196  ...                 0.7417\n",
              "mean_hesitation_length  0.0018  ...                      0\n",
              "\n",
              "[13 rows x 13 columns]"
            ]
          },
          "metadata": {},
          "execution_count": 130
        }
      ]
    }
  ]
}